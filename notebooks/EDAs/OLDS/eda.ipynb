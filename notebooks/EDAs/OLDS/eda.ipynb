{
 "cells": [
  {
   "cell_type": "markdown",
   "source": [
    "# Eda PySpark Statbombs"
   ],
   "metadata": {
    "collapsed": false
   },
   "id": "1969b8836c819ece"
  },
  {
   "cell_type": "markdown",
   "source": [
    "### Imports"
   ],
   "metadata": {
    "collapsed": false
   },
   "id": "d06a3b9a7fa9c30d"
  },
  {
   "cell_type": "code",
   "outputs": [],
   "source": [
    "import numpy as np\n",
    "import os\n",
    "import json\n",
    "import matplotlib.pyplot as plt\n",
    "import plotly.express as px\n",
    "import pyspark as ps\n",
    "from pyspark.sql import SparkSession\n",
    "from pyspark.sql.functions import col, count, explode,struct, input_file_name, regexp_extract, countDistinct, sum as _sum, min as _min, max as _max \n",
    "from pyspark.sql.types import StructType, StructField, StringType, IntegerType"
   ],
   "metadata": {
    "collapsed": true,
    "ExecuteTime": {
     "end_time": "2024-05-20T07:53:07.848615300Z",
     "start_time": "2024-05-20T07:53:00.455172200Z"
    }
   },
   "id": "initial_id",
   "execution_count": 1
  },
  {
   "cell_type": "markdown",
   "source": [
    "## Part 1 : Data Loading and Preprocessing"
   ],
   "metadata": {
    "collapsed": false
   },
   "id": "f17470e56b95b27d"
  },
  {
   "cell_type": "code",
   "outputs": [],
   "source": [
    "# Create a Spark session\n",
    "spark = SparkSession.builder.appName(\"Football Data Analysis\").getOrCreate()\n"
   ],
   "metadata": {
    "collapsed": false,
    "ExecuteTime": {
     "end_time": "2024-05-20T07:53:41.159198700Z",
     "start_time": "2024-05-20T07:53:12.293656400Z"
    }
   },
   "id": "e4e0ea6955e0629d",
   "execution_count": 2
  },
  {
   "cell_type": "markdown",
   "source": [
    "### 1.1 Competitions folder"
   ],
   "metadata": {
    "collapsed": false
   },
   "id": "6ac8adf5dcb3248f"
  },
  {
   "cell_type": "code",
   "outputs": [
    {
     "name": "stdout",
     "output_type": "stream",
     "text": [
      "root\n",
      " |-- competition_gender: string (nullable = true)\n",
      " |-- competition_id: long (nullable = true)\n",
      " |-- competition_international: boolean (nullable = true)\n",
      " |-- competition_name: string (nullable = true)\n",
      " |-- competition_youth: boolean (nullable = true)\n",
      " |-- country_name: string (nullable = true)\n",
      " |-- match_available: string (nullable = true)\n",
      " |-- match_available_360: string (nullable = true)\n",
      " |-- match_updated: string (nullable = true)\n",
      " |-- match_updated_360: string (nullable = true)\n",
      " |-- season_id: long (nullable = true)\n",
      " |-- season_name: string (nullable = true)\n"
     ]
    }
   ],
   "source": [
    "# Define the schema for the matches dataset\n",
    "competitions_file_path = \"../open-data/data/competitions.json\"\n",
    "# Read JSON files into DataFrames\n",
    "competitions_df = spark.read.json(competitions_file_path, multiLine=True)\n",
    "competitions_df.printSchema()"
   ],
   "metadata": {
    "collapsed": false,
    "ExecuteTime": {
     "end_time": "2024-05-19T08:01:36.949813800Z",
     "start_time": "2024-05-19T08:01:32.483951100Z"
    }
   },
   "id": "20ba35c7a5e355d5",
   "execution_count": 3
  },
  {
   "cell_type": "code",
   "outputs": [
    {
     "name": "stdout",
     "output_type": "stream",
     "text": [
      "Number of competitions : 71\n",
      "+-------+-------------------+-------------------+-------------------+-------------------+\n",
      "|summary|match_available    |match_available_360|match_updated      |match_updated_360  |\n",
      "+-------+-------------------+-------------------+-------------------+-------------------+\n",
      "|min    |2020-07-29 05:00:00|2023-04-27 22:38:34|2020-07-29 05:00:00|2021-06-12 16:17:31|\n",
      "|max    |2024-02-14 05:41:27|2023-12-13 04:53:55|2024-02-14 05:41:27|2023-12-13 04:53:55|\n",
      "+-------+-------------------+-------------------+-------------------+-------------------+\n"
     ]
    }
   ],
   "source": [
    "print(f\"Number of competitions : {competitions_df.select('competition_name').count()}\")\n",
    "\n",
    "numeric_columns_df = competitions_df.select(\"match_available\", \"match_available_360\",\n",
    "                                            \"match_updated\", \"match_updated_360\")\n",
    "\n",
    "# Optionally, you can convert the timestamps to a more readable format using date_format if needed\n",
    "from pyspark.sql.functions import date_format\n",
    "\n",
    "# Convert the columns to a more readable format\n",
    "formatted_df = numeric_columns_df.select(\n",
    "    date_format(\"match_available\", \"yyyy-MM-dd HH:mm:ss\").alias(\"match_available\"),\n",
    "    date_format(\"match_available_360\", \"yyyy-MM-dd HH:mm:ss\").alias(\"match_available_360\"),\n",
    "    date_format(\"match_updated\", \"yyyy-MM-dd HH:mm:ss\").alias(\"match_updated\"),\n",
    "    date_format(\"match_updated_360\", \"yyyy-MM-dd HH:mm:ss\").alias(\"match_updated_360\")\n",
    ")\n",
    "\n",
    "# Show the formatted DataFrame summary\n",
    "formatted_df.summary(\"min\", \"max\").show(truncate=False)"
   ],
   "metadata": {
    "collapsed": false,
    "ExecuteTime": {
     "end_time": "2024-05-19T08:01:41.087955Z",
     "start_time": "2024-05-19T08:01:36.945699600Z"
    }
   },
   "id": "fe405c6844fdf43f",
   "execution_count": 4
  },
  {
   "cell_type": "code",
   "outputs": [
    {
     "name": "stdout",
     "output_type": "stream",
     "text": [
      "+-----------------------+------------------+\n",
      "|competition_name       |competition_gender|\n",
      "+-----------------------+------------------+\n",
      "|North American League  |male              |\n",
      "|Copa del Rey           |male              |\n",
      "|Premier League         |male              |\n",
      "|Serie A                |male              |\n",
      "|Champions League       |male              |\n",
      "|Ligue 1                |male              |\n",
      "|UEFA Europa League     |male              |\n",
      "|UEFA Women's Euro      |female            |\n",
      "|African Cup of Nations |male              |\n",
      "|FA Women's Super League|female            |\n",
      "|NWSL                   |female            |\n",
      "|FIFA World Cup         |male              |\n",
      "|UEFA Euro              |male              |\n",
      "|FIFA U20 World Cup     |male              |\n",
      "|1. Bundesliga          |male              |\n",
      "|Indian Super league    |male              |\n",
      "|Liga Profesional       |male              |\n",
      "|Major League Soccer    |male              |\n",
      "|La Liga                |male              |\n",
      "|Women's World Cup      |female            |\n",
      "+-----------------------+------------------+\n",
      "+-----------------------+------------------+\n",
      "|competition_name       |competition_gender|\n",
      "+-----------------------+------------------+\n",
      "|1. Bundesliga          |male              |\n",
      "|African Cup of Nations |male              |\n",
      "|Champions League       |male              |\n",
      "|Copa del Rey           |male              |\n",
      "|FA Women's Super League|female            |\n",
      "|FIFA U20 World Cup     |male              |\n",
      "|FIFA World Cup         |male              |\n",
      "|Indian Super league    |male              |\n",
      "|La Liga                |male              |\n",
      "|Liga Profesional       |male              |\n",
      "|Ligue 1                |male              |\n",
      "|Major League Soccer    |male              |\n",
      "|NWSL                   |female            |\n",
      "|North American League  |male              |\n",
      "|Premier League         |male              |\n",
      "|Serie A                |male              |\n",
      "|UEFA Euro              |male              |\n",
      "|UEFA Europa League     |male              |\n",
      "|UEFA Women's Euro      |female            |\n",
      "|Women's World Cup      |female            |\n",
      "+-----------------------+------------------+\n"
     ]
    }
   ],
   "source": [
    "unique_competitions = competitions_df.groupBy(\"competition_name\", \"competition_gender\").count()\n",
    "\n",
    "# Select and display the competition name and gender\n",
    "unique_competitions.select(\"competition_name\", \"competition_gender\").show(truncate=False)\n",
    "\n",
    "# Sort by competition name and gender for better readability\n",
    "unique_competitions_sorted = unique_competitions.select(\"competition_name\", \"competition_gender\").orderBy(\n",
    "    \"competition_name\", \"competition_gender\")\n",
    "\n",
    "# Show the sorted unique competitions\n",
    "unique_competitions_sorted.show(truncate=False)"
   ],
   "metadata": {
    "collapsed": false,
    "ExecuteTime": {
     "end_time": "2024-05-19T08:01:42.042440800Z",
     "start_time": "2024-05-19T08:01:41.087955Z"
    }
   },
   "id": "71182aed2fbbb85b",
   "execution_count": 5
  },
  {
   "cell_type": "code",
   "outputs": [
    {
     "name": "stdout",
     "output_type": "stream",
     "text": [
      "Number of unique male competitions: 16\n",
      "Number of unique female competitions: 4\n",
      "----------------------------------------------------------------------------------------------------------------------\n",
      "Number of unique youth competitions: 0\n",
      "Number of unique non-youth competitions: 20\n"
     ]
    }
   ],
   "source": [
    "\n",
    "# Count the number of unique male competitions\n",
    "num_unique_male_competitions = unique_competitions.filter(col('competition_gender') == 'male').count()\n",
    "print(f\"Number of unique male competitions: {num_unique_male_competitions}\")\n",
    "\n",
    "# Count the number of unique female competitions\n",
    "num_unique_female_competitions = unique_competitions.filter(col('competition_gender') == 'female').count()\n",
    "print(f\"Number of unique female competitions: {num_unique_female_competitions}\")\n",
    "\n",
    "print(\n",
    "    f\"----------------------------------------------------------------------------------------------------------------------\")\n",
    "\n",
    "unique_youth_competitions = competitions_df.groupBy(\"competition_name\", \"competition_youth\").count()\n",
    "\n",
    "num_unique_youth_competitions = unique_youth_competitions.filter(col('competition_youth') == True).count()\n",
    "print(f\"Number of unique youth competitions: {num_unique_youth_competitions}\")\n",
    "\n",
    "num_unique_nonyouth_competitions = unique_youth_competitions.filter(col('competition_youth') == False).count()\n",
    "\n",
    "print(f\"Number of unique non-youth competitions: {num_unique_nonyouth_competitions}\")"
   ],
   "metadata": {
    "collapsed": false,
    "ExecuteTime": {
     "end_time": "2024-05-19T08:01:43.304448500Z",
     "start_time": "2024-05-19T08:01:42.014986300Z"
    }
   },
   "id": "69677b94b7321bf0",
   "execution_count": 6
  },
  {
   "cell_type": "markdown",
   "source": [
    "### 1.2 Matches folder"
   ],
   "metadata": {
    "collapsed": false
   },
   "id": "d2ec429d541f4cc4"
  },
  {
   "cell_type": "code",
   "outputs": [
    {
     "name": "stdout",
     "output_type": "stream",
     "text": [
      "root\n",
      " |-- away_score: long (nullable = true)\n",
      " |-- away_team: struct (nullable = true)\n",
      " |    |-- away_team_gender: string (nullable = true)\n",
      " |    |-- away_team_group: string (nullable = true)\n",
      " |    |-- away_team_id: long (nullable = true)\n",
      " |    |-- away_team_name: string (nullable = true)\n",
      " |    |-- country: struct (nullable = true)\n",
      " |    |    |-- id: long (nullable = true)\n",
      " |    |    |-- name: string (nullable = true)\n",
      " |    |-- managers: array (nullable = true)\n",
      " |    |    |-- element: struct (containsNull = true)\n",
      " |    |    |    |-- country: struct (nullable = true)\n",
      " |    |    |    |    |-- id: long (nullable = true)\n",
      " |    |    |    |    |-- name: string (nullable = true)\n",
      " |    |    |    |-- dob: string (nullable = true)\n",
      " |    |    |    |-- id: long (nullable = true)\n",
      " |    |    |    |-- name: string (nullable = true)\n",
      " |    |    |    |-- nickname: string (nullable = true)\n",
      " |-- competition: struct (nullable = true)\n",
      " |    |-- competition_id: long (nullable = true)\n",
      " |    |-- competition_name: string (nullable = true)\n",
      " |    |-- country_name: string (nullable = true)\n",
      " |-- competition_stage: struct (nullable = true)\n",
      " |    |-- id: long (nullable = true)\n",
      " |    |-- name: string (nullable = true)\n",
      " |-- home_score: long (nullable = true)\n",
      " |-- home_team: struct (nullable = true)\n",
      " |    |-- country: struct (nullable = true)\n",
      " |    |    |-- id: long (nullable = true)\n",
      " |    |    |-- name: string (nullable = true)\n",
      " |    |-- home_team_gender: string (nullable = true)\n",
      " |    |-- home_team_group: string (nullable = true)\n",
      " |    |-- home_team_id: long (nullable = true)\n",
      " |    |-- home_team_name: string (nullable = true)\n",
      " |    |-- managers: array (nullable = true)\n",
      " |    |    |-- element: struct (containsNull = true)\n",
      " |    |    |    |-- country: struct (nullable = true)\n",
      " |    |    |    |    |-- id: long (nullable = true)\n",
      " |    |    |    |    |-- name: string (nullable = true)\n",
      " |    |    |    |-- dob: string (nullable = true)\n",
      " |    |    |    |-- id: long (nullable = true)\n",
      " |    |    |    |-- name: string (nullable = true)\n",
      " |    |    |    |-- nickname: string (nullable = true)\n",
      " |-- kick_off: string (nullable = true)\n",
      " |-- last_updated: string (nullable = true)\n",
      " |-- last_updated_360: string (nullable = true)\n",
      " |-- match_date: string (nullable = true)\n",
      " |-- match_id: long (nullable = true)\n",
      " |-- match_status: string (nullable = true)\n",
      " |-- match_status_360: string (nullable = true)\n",
      " |-- match_week: long (nullable = true)\n",
      " |-- metadata: struct (nullable = true)\n",
      " |    |-- data_version: string (nullable = true)\n",
      " |    |-- shot_fidelity_version: string (nullable = true)\n",
      " |    |-- xy_fidelity_version: string (nullable = true)\n",
      " |-- referee: struct (nullable = true)\n",
      " |    |-- country: struct (nullable = true)\n",
      " |    |    |-- id: long (nullable = true)\n",
      " |    |    |-- name: string (nullable = true)\n",
      " |    |-- id: long (nullable = true)\n",
      " |    |-- name: string (nullable = true)\n",
      " |-- season: struct (nullable = true)\n",
      " |    |-- season_id: long (nullable = true)\n",
      " |    |-- season_name: string (nullable = true)\n",
      " |-- stadium: struct (nullable = true)\n",
      " |    |-- country: struct (nullable = true)\n",
      " |    |    |-- id: long (nullable = true)\n",
      " |    |    |-- name: string (nullable = true)\n",
      " |    |-- id: long (nullable = true)\n",
      " |    |-- name: string (nullable = true)\n"
     ]
    }
   ],
   "source": [
    "# go through each file under the id folder --> matche folder --> id folder --> json files\n",
    "# Root directory path (change this to your root directory)\n",
    "root_dir = \"../open-data/data/matches\"\n",
    "\n",
    "matches_df = spark.read.json(f\"{root_dir}/**/*.json\", multiLine=True)\n",
    "matches_df.printSchema()\n"
   ],
   "metadata": {
    "collapsed": false,
    "ExecuteTime": {
     "end_time": "2024-05-19T08:01:45.532623300Z",
     "start_time": "2024-05-19T08:01:43.303381Z"
    }
   },
   "id": "b0e0ec75ccabe8b7",
   "execution_count": 7
  },
  {
   "cell_type": "code",
   "outputs": [
    {
     "name": "stdout",
     "output_type": "stream",
     "text": [
      "+-----------+\n",
      "|season_name|\n",
      "+-----------+\n",
      "|1958       |\n",
      "|1962       |\n",
      "|1970       |\n",
      "|1970/1971  |\n",
      "|1971/1972  |\n",
      "|1972/1973  |\n",
      "|1973/1974  |\n",
      "|1974       |\n",
      "|1977       |\n",
      "|1977/1978  |\n",
      "|1979       |\n",
      "|1981       |\n",
      "|1982/1983  |\n",
      "|1983/1984  |\n",
      "|1986       |\n",
      "|1986/1987  |\n",
      "|1988/1989  |\n",
      "|1990       |\n",
      "|1997/1998  |\n",
      "|1999/2000  |\n",
      "|2003/2004  |\n",
      "|2004/2005  |\n",
      "|2005/2006  |\n",
      "|2006/2007  |\n",
      "|2007/2008  |\n",
      "|2008/2009  |\n",
      "|2009/2010  |\n",
      "|2010/2011  |\n",
      "|2011/2012  |\n",
      "|2012/2013  |\n",
      "|2013/2014  |\n",
      "|2014/2015  |\n",
      "|2015/2016  |\n",
      "|2016/2017  |\n",
      "|2017/2018  |\n",
      "|2018       |\n",
      "|2018/2019  |\n",
      "|2019       |\n",
      "|2019/2020  |\n",
      "|2020       |\n",
      "|2020/2021  |\n",
      "|2021/2022  |\n",
      "|2022       |\n",
      "|2022/2023  |\n",
      "|2023       |\n",
      "+-----------+\n"
     ]
    }
   ],
   "source": [
    "#select all seasons of my df and show them all by order\n",
    "\n",
    "# Select the season column\n",
    "seasons_df = matches_df.select(\"season.season_name\").distinct()\n",
    "\n",
    "# Count the number of unique seasons\n",
    "num_seasons = seasons_df.count()\n",
    "\n",
    "# Show the unique seasons\n",
    "seasons_df.orderBy(\"season_name\").show(num_seasons,truncate=False)"
   ],
   "metadata": {
    "collapsed": false,
    "ExecuteTime": {
     "end_time": "2024-05-19T08:01:46.444451800Z",
     "start_time": "2024-05-19T08:01:45.534804Z"
    }
   },
   "id": "436c73679222a866",
   "execution_count": 8
  },
  {
   "cell_type": "code",
   "outputs": [
    {
     "name": "stdout",
     "output_type": "stream",
     "text": [
      "Dates of matches goes from 1958-06-24 to 2024-02-11\n",
      "Number of matches: 3316\n",
      "Number of seasons: 45\n",
      "Number of competitions: 20\n"
     ]
    }
   ],
   "source": [
    "# Count the number of matches in the dataset\n",
    "num_matches = matches_df.count()\n",
    "date_df = matches_df.select(col(\"match_date\"))\n",
    "\n",
    "# Compute number of different competitions\n",
    "num_competitions = matches_df.select(\"competition.competition_name\").distinct().count()\n",
    "\n",
    "# Compute the minimum and maximum dates\n",
    "date_range = date_df.agg(\n",
    "    _min(\"match_date\").alias(\"begin_date\"),\n",
    "    _max(\"match_date\").alias(\"end_date\")\n",
    ").collect()\n",
    "\n",
    "# Extract the begin and end dates\n",
    "begin_date = date_range[0][\"begin_date\"]\n",
    "end_date = date_range[0][\"end_date\"]\n",
    "\n",
    "# Display the results\n",
    "print(f\"Dates of matches goes from {begin_date} to {end_date}\")\n",
    "print(f\"Number of matches: {num_matches}\")\n",
    "print(f\"Number of seasons: {num_seasons}\")\n",
    "print(f\"Number of competitions: {num_competitions}\")"
   ],
   "metadata": {
    "collapsed": false,
    "ExecuteTime": {
     "end_time": "2024-05-19T08:01:47.408409900Z",
     "start_time": "2024-05-19T08:01:46.438801400Z"
    }
   },
   "id": "c3eb66efeefc7cc9",
   "execution_count": 9
  },
  {
   "cell_type": "code",
   "outputs": [
    {
     "name": "stdout",
     "output_type": "stream",
     "text": [
      "+-----------+----------+----------+\n",
      "|season_name|begin_date|end_date  |\n",
      "+-----------+----------+----------+\n",
      "|1958       |1958-06-24|1958-06-29|\n",
      "|1962       |1962-05-30|1962-05-30|\n",
      "|1970       |1970-06-04|1970-06-21|\n",
      "|1970/1971  |1971-06-02|1971-06-02|\n",
      "|1971/1972  |1972-05-31|1972-05-31|\n",
      "|1972/1973  |1973-05-30|1973-05-30|\n",
      "|1973/1974  |1974-02-17|1974-02-17|\n",
      "|1974       |1974-06-19|1974-07-07|\n",
      "|1977       |1977-08-28|1977-08-28|\n",
      "|1977/1978  |1978-04-19|1978-04-19|\n",
      "|1979       |1979-09-07|1979-09-07|\n",
      "|1981       |1981-04-10|1981-04-10|\n",
      "|1982/1983  |1983-06-04|1983-06-04|\n",
      "|1983/1984  |1984-05-05|1984-05-05|\n",
      "|1986       |1986-06-22|1986-06-29|\n",
      "|1986/1987  |1986-11-09|1986-11-09|\n",
      "|1988/1989  |1989-03-15|1989-05-03|\n",
      "|1990       |1990-06-24|1990-06-24|\n",
      "|1997/1998  |1997-10-25|1997-10-25|\n",
      "|1999/2000  |1999-11-23|1999-11-23|\n",
      "|2003/2004  |2003-08-16|2004-05-26|\n",
      "|2004/2005  |2004-10-16|2005-05-25|\n",
      "|2005/2006  |2005-10-01|2006-02-25|\n",
      "|2006/2007  |2006-08-28|2007-06-17|\n",
      "|2007/2008  |2007-08-26|2008-05-17|\n",
      "|2008/2009  |2008-08-31|2009-05-27|\n",
      "|2009/2010  |2009-09-12|2010-05-22|\n",
      "|2010/2011  |2010-08-29|2011-05-28|\n",
      "|2011/2012  |2011-08-29|2012-05-19|\n",
      "|2012/2013  |2012-08-19|2013-05-25|\n",
      "|2013/2014  |2013-08-18|2014-05-24|\n",
      "|2014/2015  |2014-08-24|2015-06-06|\n",
      "|2015/2016  |2015-08-07|2016-05-28|\n",
      "|2016/2017  |2016-08-20|2017-06-03|\n",
      "|2017/2018  |2017-08-20|2018-05-26|\n",
      "|2018       |2018-04-15|2018-08-12|\n",
      "|2018/2019  |2018-02-24|2019-06-01|\n",
      "|2019       |2019-06-07|2019-07-07|\n",
      "|2019/2020  |2019-09-07|2020-07-19|\n",
      "|2020       |2021-06-11|2021-07-11|\n",
      "|2020/2021  |2020-09-05|2021-05-16|\n",
      "|2021/2022  |2021-08-29|2022-05-21|\n",
      "|2022       |2022-07-06|2022-12-18|\n",
      "|2022/2023  |2022-08-06|2023-06-03|\n",
      "|2023       |2023-07-20|2024-02-11|\n",
      "+-----------+----------+----------+\n"
     ]
    }
   ],
   "source": [
    "# Assuming matches_df is your DataFrame\n",
    "# Extract necessary fields\n",
    "season_dates_df = matches_df.select(\n",
    "    col(\"season.season_name\").alias(\"season_name\"),\n",
    "    col(\"match_date\")\n",
    ")\n",
    "\n",
    "# Group by season name and compute the minimum and maximum match dates for each season\n",
    "season_date_range = season_dates_df.groupBy(\"season_name\").agg(\n",
    "    _min(\"match_date\").alias(\"begin_date\"),\n",
    "    _max(\"match_date\").alias(\"end_date\")\n",
    ")\n",
    "\n",
    "# Show the results\n",
    "season_date_range.show(num_seasons,truncate=False)"
   ],
   "metadata": {
    "collapsed": false,
    "ExecuteTime": {
     "end_time": "2024-05-19T08:01:47.891323200Z",
     "start_time": "2024-05-19T08:01:47.401640500Z"
    }
   },
   "id": "699ab6ea227fb37e",
   "execution_count": 10
  },
  {
   "cell_type": "code",
   "outputs": [
    {
     "name": "stdout",
     "output_type": "stream",
     "text": [
      "+------------------+------------------+\n",
      "|    avg_home_score|    avg_away_score|\n",
      "+------------------+------------------+\n",
      "|1.5980096501809409|1.2605548854041013|\n",
      "+------------------+------------------+\n"
     ]
    }
   ],
   "source": [
    "# Select only the home_score and away_score columns\n",
    "scores_matches_df = matches_df.select(\"home_score\", \"away_score\")\n",
    "\n",
    "# Compute specific statistics like mean\n",
    "mean_scores = scores_matches_df.agg(\n",
    "    {\"home_score\": \"mean\", \"away_score\": \"mean\"}\n",
    ").withColumnRenamed(\"avg(home_score)\", \"avg_home_score\").withColumnRenamed(\"avg(away_score)\", \"avg_away_score\")\n",
    "\n",
    "# Show the mean scores\n",
    "mean_scores.show()"
   ],
   "metadata": {
    "collapsed": false,
    "ExecuteTime": {
     "end_time": "2024-05-19T08:01:48.230498Z",
     "start_time": "2024-05-19T08:01:47.853033Z"
    }
   },
   "id": "25bfffc20ee91c6",
   "execution_count": 11
  },
  {
   "cell_type": "code",
   "outputs": [
    {
     "name": "stdout",
     "output_type": "stream",
     "text": [
      "+-----------------------+-----------+------------------+-----------------+----------------+----------------+-----------+\n",
      "|competition_name       |season_name|competition_gender|number_of_matches|total_home_goals|total_away_goals|total_goals|\n",
      "+-----------------------+-----------+------------------+-----------------+----------------+----------------+-----------+\n",
      "|Serie A                |2015/2016  |male              |380              |559             |420             |979        |\n",
      "|Premier League         |2015/2016  |male              |380              |567             |459             |1026       |\n",
      "|La Liga                |2015/2016  |male              |380              |615             |428             |1043       |\n",
      "|Ligue 1                |2015/2016  |male              |377              |543             |406             |949        |\n",
      "|1. Bundesliga          |2015/2016  |male              |306              |479             |387             |866        |\n",
      "|FA Women's Super League|2020/2021  |female            |131              |208             |205             |413        |\n",
      "|Indian Super league    |2021/2022  |male              |115              |180             |174             |354        |\n",
      "|FA Women's Super League|2018/2019  |female            |108              |154             |173             |327        |\n",
      "|FA Women's Super League|2019/2020  |female            |87               |150             |109             |259        |\n",
      "|FIFA World Cup         |2018       |male              |64               |91              |78              |169        |\n",
      "|Women's World Cup      |2023       |female            |64               |96              |68              |164        |\n",
      "|FIFA World Cup         |2022       |male              |64               |101             |71              |172        |\n",
      "|Women's World Cup      |2019       |female            |52               |86              |60              |146        |\n",
      "|African Cup of Nations |2023       |male              |52               |73              |46              |119        |\n",
      "|UEFA Euro              |2020       |male              |51               |61              |81              |142        |\n",
      "|La Liga                |2014/2015  |male              |38               |74              |57              |131        |\n",
      "|Premier League         |2003/2004  |male              |38               |52              |47              |99         |\n",
      "|La Liga                |2011/2012  |male              |37               |88              |51              |139        |\n",
      "|NWSL                   |2018       |female            |36               |54              |50              |104        |\n",
      "|La Liga                |2017/2018  |male              |36               |66              |51              |117        |\n",
      "|La Liga                |2009/2010  |male              |35               |65              |51              |116        |\n",
      "|La Liga                |2020/2021  |male              |35               |61              |57              |118        |\n",
      "|La Liga                |2016/2017  |male              |34               |79              |57              |136        |\n",
      "|La Liga                |2018/2019  |male              |34               |61              |52              |113        |\n",
      "|La Liga                |2010/2011  |male              |33               |52              |52              |104        |\n",
      "|La Liga                |2019/2020  |male              |33               |61              |42              |103        |\n",
      "|Ligue 1                |2022/2023  |male              |32               |50              |61              |111        |\n",
      "|La Liga                |2012/2013  |male              |32               |76              |60              |136        |\n",
      "|UEFA Women's Euro      |2022       |female            |31               |65              |30              |95         |\n",
      "|La Liga                |2008/2009  |male              |31               |71              |52              |123        |\n",
      "|La Liga                |2013/2014  |male              |31               |65              |43              |108        |\n",
      "|La Liga                |2007/2008  |male              |28               |61              |32              |93         |\n",
      "|La Liga                |2006/2007  |male              |26               |40              |39              |79         |\n",
      "|Ligue 1                |2021/2022  |male              |26               |49              |35              |84         |\n",
      "|La Liga                |2005/2006  |male              |17               |28              |27              |55         |\n",
      "|La Liga                |2004/2005  |male              |7                |14              |4               |18         |\n",
      "|Major League Soccer    |2023       |male              |6                |6               |6               |12         |\n",
      "|FIFA World Cup         |1970       |male              |6                |19              |7               |26         |\n",
      "|FIFA World Cup         |1974       |male              |6                |8               |4               |12         |\n",
      "|FIFA World Cup         |1986       |male              |3                |7               |3               |10         |\n",
      "|UEFA Europa League     |1988/1989  |male              |3                |7               |1               |8          |\n",
      "|FIFA World Cup         |1958       |male              |2                |10              |4               |14         |\n",
      "|FIFA U20 World Cup     |1979       |male              |1                |3               |1               |4          |\n",
      "|Champions League       |2018/2019  |male              |1                |0               |2               |2          |\n",
      "|Champions League       |2006/2007  |male              |1                |2               |1               |3          |\n",
      "+-----------------------+-----------+------------------+-----------------+----------------+----------------+-----------+\n"
     ]
    }
   ],
   "source": [
    "# Extract necessary fields\n",
    "selected_matches_df = matches_df.select(\n",
    "    col(\"competition.competition_name\").alias(\"competition_name\"),\n",
    "    col(\"season.season_name\").alias(\"season_name\"),\n",
    "    col(\"home_team.home_team_gender\").alias(\"competition_gender\"),\n",
    "    col(\"home_score\"),\n",
    "    col(\"away_score\")\n",
    ")\n",
    "\n",
    "# Group by competition name, season name, and genders\n",
    "matches_per_league_season = selected_matches_df.groupBy(\n",
    "    \"competition_name\", \"season_name\", \"competition_gender\"\n",
    ").agg(\n",
    "    count(\"*\").alias(\"number_of_matches\"),\n",
    "    _sum(\"home_score\").alias(\"total_home_goals\"),\n",
    "    _sum(\"away_score\").alias(\"total_away_goals\"),\n",
    "    (_sum(\"home_score\") + _sum(\"away_score\")).alias(\"total_goals\")\n",
    ")\n",
    "\n",
    "# Sort by number of matches in descending order\n",
    "matches_per_league_season_sorted = matches_per_league_season.orderBy(\"number_of_matches\", ascending=False)\n",
    "\n",
    "# Show the sorted DataFrame\n",
    "matches_per_league_season_sorted.show(num_seasons,truncate=False)"
   ],
   "metadata": {
    "collapsed": false,
    "ExecuteTime": {
     "end_time": "2024-05-19T08:01:49.019811200Z",
     "start_time": "2024-05-19T08:01:48.228494800Z"
    }
   },
   "id": "b79fc3e6e1aa62a1",
   "execution_count": 12
  },
  {
   "cell_type": "code",
   "outputs": [
    {
     "name": "stdout",
     "output_type": "stream",
     "text": [
      "+-----------------------+-----------+------------------+-------------------+\n",
      "|competition_name       |season_name|competition_gender|avg_goals_per_match|\n",
      "+-----------------------+-----------+------------------+-------------------+\n",
      "|Serie A                |2015/2016  |male              |2.5763157894736843 |\n",
      "|Premier League         |2015/2016  |male              |2.7                |\n",
      "|La Liga                |2015/2016  |male              |2.7447368421052634 |\n",
      "|Ligue 1                |2015/2016  |male              |2.5172413793103448 |\n",
      "|1. Bundesliga          |2015/2016  |male              |2.8300653594771243 |\n",
      "|FA Women's Super League|2020/2021  |female            |3.1526717557251906 |\n",
      "|Indian Super league    |2021/2022  |male              |3.0782608695652174 |\n",
      "|FA Women's Super League|2018/2019  |female            |3.0277777777777777 |\n",
      "|FA Women's Super League|2019/2020  |female            |2.9770114942528734 |\n",
      "|FIFA World Cup         |2018       |male              |2.640625           |\n",
      "|Women's World Cup      |2023       |female            |2.5625             |\n",
      "|FIFA World Cup         |2022       |male              |2.6875             |\n",
      "|Women's World Cup      |2019       |female            |2.8076923076923075 |\n",
      "|African Cup of Nations |2023       |male              |2.2884615384615383 |\n",
      "|UEFA Euro              |2020       |male              |2.784313725490196  |\n",
      "|La Liga                |2014/2015  |male              |3.4473684210526314 |\n",
      "|Premier League         |2003/2004  |male              |2.6052631578947367 |\n",
      "|La Liga                |2011/2012  |male              |3.7567567567567566 |\n",
      "|NWSL                   |2018       |female            |2.888888888888889  |\n",
      "|La Liga                |2017/2018  |male              |3.25               |\n",
      "|La Liga                |2009/2010  |male              |3.3142857142857145 |\n",
      "|La Liga                |2020/2021  |male              |3.3714285714285714 |\n",
      "|La Liga                |2016/2017  |male              |4.0                |\n",
      "|La Liga                |2018/2019  |male              |3.323529411764706  |\n",
      "|La Liga                |2010/2011  |male              |3.1515151515151514 |\n",
      "|La Liga                |2019/2020  |male              |3.121212121212121  |\n",
      "|Ligue 1                |2022/2023  |male              |3.46875            |\n",
      "|La Liga                |2012/2013  |male              |4.25               |\n",
      "|UEFA Women's Euro      |2022       |female            |3.064516129032258  |\n",
      "|La Liga                |2008/2009  |male              |3.967741935483871  |\n",
      "|La Liga                |2013/2014  |male              |3.4838709677419355 |\n",
      "|La Liga                |2007/2008  |male              |3.3214285714285716 |\n",
      "|La Liga                |2006/2007  |male              |3.0384615384615383 |\n",
      "|Ligue 1                |2021/2022  |male              |3.230769230769231  |\n",
      "|La Liga                |2005/2006  |male              |3.235294117647059  |\n",
      "|La Liga                |2004/2005  |male              |2.5714285714285716 |\n",
      "|Major League Soccer    |2023       |male              |2.0                |\n",
      "|FIFA World Cup         |1970       |male              |4.333333333333333  |\n",
      "|FIFA World Cup         |1974       |male              |2.0                |\n",
      "|FIFA World Cup         |1986       |male              |3.3333333333333335 |\n",
      "|UEFA Europa League     |1988/1989  |male              |2.6666666666666665 |\n",
      "|FIFA World Cup         |1958       |male              |7.0                |\n",
      "|FIFA U20 World Cup     |1979       |male              |4.0                |\n",
      "|Champions League       |2018/2019  |male              |2.0                |\n",
      "|Champions League       |2006/2007  |male              |3.0                |\n",
      "+-----------------------+-----------+------------------+-------------------+\n"
     ]
    }
   ],
   "source": [
    "matches_per_league_season_sorted = matches_per_league_season_sorted.withColumn(\n",
    "    \"avg_goals_per_match\",\n",
    "    col(\"total_goals\") / col(\"number_of_matches\")\n",
    ")\n",
    "\n",
    "# Show the sorted DataFrame\n",
    "matches_per_league_season_sorted.select(\"competition_name\",\"season_name\", \"competition_gender\",\"avg_goals_per_match\").show(num_seasons,truncate=False)"
   ],
   "metadata": {
    "collapsed": false,
    "ExecuteTime": {
     "end_time": "2024-05-19T08:01:49.399395600Z",
     "start_time": "2024-05-19T08:01:48.971619500Z"
    }
   },
   "id": "675850f119d0cd95",
   "execution_count": 13
  },
  {
   "cell_type": "markdown",
   "source": [
    "### 1.3 Lineups folder"
   ],
   "metadata": {
    "collapsed": false
   },
   "id": "1a830a4048512fdb"
  },
  {
   "cell_type": "code",
   "outputs": [
    {
     "name": "stdout",
     "output_type": "stream",
     "text": [
      "root\n",
      " |-- lineup: array (nullable = true)\n",
      " |    |-- element: struct (containsNull = true)\n",
      " |    |    |-- cards: array (nullable = true)\n",
      " |    |    |    |-- element: struct (containsNull = true)\n",
      " |    |    |    |    |-- card_type: string (nullable = true)\n",
      " |    |    |    |    |-- period: long (nullable = true)\n",
      " |    |    |    |    |-- reason: string (nullable = true)\n",
      " |    |    |    |    |-- time: string (nullable = true)\n",
      " |    |    |-- country: struct (nullable = true)\n",
      " |    |    |    |-- id: long (nullable = true)\n",
      " |    |    |    |-- name: string (nullable = true)\n",
      " |    |    |-- jersey_number: long (nullable = true)\n",
      " |    |    |-- player_id: long (nullable = true)\n",
      " |    |    |-- player_name: string (nullable = true)\n",
      " |    |    |-- player_nickname: string (nullable = true)\n",
      " |    |    |-- positions: array (nullable = true)\n",
      " |    |    |    |-- element: struct (containsNull = true)\n",
      " |    |    |    |    |-- end_reason: string (nullable = true)\n",
      " |    |    |    |    |-- from: string (nullable = true)\n",
      " |    |    |    |    |-- from_period: long (nullable = true)\n",
      " |    |    |    |    |-- position: string (nullable = true)\n",
      " |    |    |    |    |-- position_id: long (nullable = true)\n",
      " |    |    |    |    |-- start_reason: string (nullable = true)\n",
      " |    |    |    |    |-- to: string (nullable = true)\n",
      " |    |    |    |    |-- to_period: long (nullable = true)\n",
      " |-- team_id: long (nullable = true)\n",
      " |-- team_name: string (nullable = true)\n"
     ]
    }
   ],
   "source": [
    "# Original\n",
    "root_dir = \"../open-data/data/lineups\"\n",
    "lineup_df = spark.read.json(f\"{root_dir}/*.json\", multiLine=True)\n",
    "lineup_df.printSchema()"
   ],
   "metadata": {
    "collapsed": false,
    "ExecuteTime": {
     "end_time": "2024-05-19T08:11:26.213157300Z",
     "start_time": "2024-05-19T08:09:15.031385200Z"
    }
   },
   "id": "86adf0816b8cdda1",
   "execution_count": 18
  },
  {
   "cell_type": "code",
   "outputs": [],
   "source": [
    "# Marked with match_id\n",
    "from pyspark.sql.functions import input_file_name, regexp_replace, struct\n",
    "\n",
    "# Read the JSON files and include the filename\n",
    "lineups_df = spark.read.json(f\"{root_dir}/*.json\", multiLine=True) \\\n",
    "    .withColumn(\"file_name\", input_file_name())\n",
    "\n",
    "# Extract match_id from the filename by removing the .json extension\n",
    "lineups_df = lineups_df.withColumn(\"match_id\", regexp_replace(\"file_name\", r\"(.*/)?([^/]+)\\.json$\", \"$2\"))\n",
    "\n",
    "# Nest the existing structure inside the match_id struct\n",
    "lineups_df = lineups_df.select(struct(\"*\").alias(\"lineups\"), \"match_id\")"
   ],
   "metadata": {
    "collapsed": false,
    "ExecuteTime": {
     "end_time": "2024-05-19T08:16:28.002696Z",
     "start_time": "2024-05-19T08:14:13.719010200Z"
    }
   },
   "id": "8e9a288e6cdd5cc5",
   "execution_count": 19
  },
  {
   "cell_type": "code",
   "outputs": [
    {
     "name": "stdout",
     "output_type": "stream",
     "text": [
      "root\n",
      " |-- lineups: struct (nullable = false)\n",
      " |    |-- lineup: array (nullable = true)\n",
      " |    |    |-- element: struct (containsNull = true)\n",
      " |    |    |    |-- cards: array (nullable = true)\n",
      " |    |    |    |    |-- element: struct (containsNull = true)\n",
      " |    |    |    |    |    |-- card_type: string (nullable = true)\n",
      " |    |    |    |    |    |-- period: long (nullable = true)\n",
      " |    |    |    |    |    |-- reason: string (nullable = true)\n",
      " |    |    |    |    |    |-- time: string (nullable = true)\n",
      " |    |    |    |-- country: struct (nullable = true)\n",
      " |    |    |    |    |-- id: long (nullable = true)\n",
      " |    |    |    |    |-- name: string (nullable = true)\n",
      " |    |    |    |-- jersey_number: long (nullable = true)\n",
      " |    |    |    |-- player_id: long (nullable = true)\n",
      " |    |    |    |-- player_name: string (nullable = true)\n",
      " |    |    |    |-- player_nickname: string (nullable = true)\n",
      " |    |    |    |-- positions: array (nullable = true)\n",
      " |    |    |    |    |-- element: struct (containsNull = true)\n",
      " |    |    |    |    |    |-- end_reason: string (nullable = true)\n",
      " |    |    |    |    |    |-- from: string (nullable = true)\n",
      " |    |    |    |    |    |-- from_period: long (nullable = true)\n",
      " |    |    |    |    |    |-- position: string (nullable = true)\n",
      " |    |    |    |    |    |-- position_id: long (nullable = true)\n",
      " |    |    |    |    |    |-- start_reason: string (nullable = true)\n",
      " |    |    |    |    |    |-- to: string (nullable = true)\n",
      " |    |    |    |    |    |-- to_period: long (nullable = true)\n",
      " |    |-- team_id: long (nullable = true)\n",
      " |    |-- team_name: string (nullable = true)\n",
      " |    |-- file_name: string (nullable = false)\n",
      " |    |-- match_id: string (nullable = false)\n",
      " |-- match_id: string (nullable = false)\n"
     ]
    }
   ],
   "source": [
    "# Print the schema of the resulting DataFrame\n",
    "lineups_df.printSchema()"
   ],
   "metadata": {
    "collapsed": false,
    "ExecuteTime": {
     "end_time": "2024-05-19T08:16:37.076047300Z",
     "start_time": "2024-05-19T08:16:37.052551200Z"
    }
   },
   "id": "4caa0a6c6af80152",
   "execution_count": 20
  },
  {
   "cell_type": "code",
   "outputs": [
    {
     "name": "stdout",
     "output_type": "stream",
     "text": [
      "+------------------------------------------------------------------------------------------------------------------------------------------------------------------------------------------------------------------------------------------------------------------------------------------------------------------------------------------------------------------------------------------------------------------------------------------------------------------------------------------------------------------------------------------------------------------------------------------------------------------------------------------------------------------------------------------------------------------------------------------------------------------------------------------------------------------------------------------------------------------------------------------------------------------------------------------------------------------------------------------------------------------------------------------------------------------------------------------------------------------------------------------------------------------------------------------------------------------------------------------------------------------------------------------------------------------------------------------------------------------------------------------------------------------------------------------------------------------------------------------------------------------------------------------------------------------------------------------------------------------------------------------------------------------------------------------------------------------------------------------------------------------------------------------------------------------------------------------------------------------------------------------------------------------------------------------------------------------------------------------------------------------------------------------------------------------------------------------------------------------------------------------------------------------------------------------------------------------------------------------------------------------------------------------------------------------------------------------------------------------------------------------------------------------------------------------------------------------------------------------------------------------------------------------------------------------------------------------------------------------------------------------------------------------------------------------------------------------------------------------------------------------------------------------------------------------------------------------------------------------------------------------------------------------------------------------------------------------------------------------------------------------------------------------------------------------------------------------------------------------------------------------------------------------------------------------------------------------------------------------------------------------------------------------------------------------------------------------------------------------------------------+--------+\n",
      "|lineups                                                                                                                                                                                                                                                                                                                                                                                                                                                                                                                                                                                                                                                                                                                                                                                                                                                                                                                                                                                                                                                                                                                                                                                                                                                                                                                                                                                                                                                                                                                                                                                                                                                                                                                                                                                                                                                                                                                                                                                                                                                                                                                                                                                                                                                                                                                                                                                                                                                                                                                                                                                                                                                                                                                                                                                                                                                                                                                                                                                                                                                                                                                                                                                                                                                                                                                                                                             |match_id|\n",
      "+------------------------------------------------------------------------------------------------------------------------------------------------------------------------------------------------------------------------------------------------------------------------------------------------------------------------------------------------------------------------------------------------------------------------------------------------------------------------------------------------------------------------------------------------------------------------------------------------------------------------------------------------------------------------------------------------------------------------------------------------------------------------------------------------------------------------------------------------------------------------------------------------------------------------------------------------------------------------------------------------------------------------------------------------------------------------------------------------------------------------------------------------------------------------------------------------------------------------------------------------------------------------------------------------------------------------------------------------------------------------------------------------------------------------------------------------------------------------------------------------------------------------------------------------------------------------------------------------------------------------------------------------------------------------------------------------------------------------------------------------------------------------------------------------------------------------------------------------------------------------------------------------------------------------------------------------------------------------------------------------------------------------------------------------------------------------------------------------------------------------------------------------------------------------------------------------------------------------------------------------------------------------------------------------------------------------------------------------------------------------------------------------------------------------------------------------------------------------------------------------------------------------------------------------------------------------------------------------------------------------------------------------------------------------------------------------------------------------------------------------------------------------------------------------------------------------------------------------------------------------------------------------------------------------------------------------------------------------------------------------------------------------------------------------------------------------------------------------------------------------------------------------------------------------------------------------------------------------------------------------------------------------------------------------------------------------------------------------------------------------------------+--------+\n",
      "|{[{[], {220, Sweden}, 16, 4633, Magdalena Lilly Eriksson, NULL, [{Final Whistle, 00:00, 1, Left Center Back, 5, Starting XI, NULL, NULL}]}, {[], {171, Norway}, 2, 4636, Maria Thorisdottir, NULL, [{Tactical Shift, 82:37, 2, Left Center Forward, 24, Substitution - On (Tactical), 83:45, 2}, {Final Whistle, 83:45, 2, Right Center Midfield, 13, Tactical Shift, NULL, NULL}]}, {[], {113, Jamaica}, 24, 4638, Drew Spence, NULL, [{Tactical Shift, 00:00, 1, Left Center Midfield, 15, Starting XI, 29:05, 1}, {Player Off, 29:05, 1, Right Center Midfield, 13, Tactical Shift, 36:41, 1}, {Substitution - Off (Tactical), 37:36, 1, Right Center Midfield, 13, Player On, 55:23, 2}]}, {[], {220, Sweden}, 1, 4640, Rut Hedvig Lindahl, Hedvig Lindahl, [{Final Whistle, 00:00, 1, Goalkeeper, 1, Starting XI, NULL, NULL}]}, {[], {68, England}, 14, 4641, Francesca Kirby, NULL, [{Tactical Shift, 00:00, 1, Right Center Forward, 22, Starting XI, 29:05, 1}, {Substitution - Off (Tactical), 29:05, 1, Left Center Forward, 24, Tactical Shift, 82:37, 2}]}, {[], {68, England}, 4, 4642, Millie Bright, NULL, [{Tactical Shift, 00:00, 1, Right Center Back, 3, Starting XI, 31:37, 1}, {Tactical Shift, 31:37, 1, Center Back, 4, Tactical Shift, 83:45, 2}, {Final Whistle, 83:45, 2, Right Center Back, 3, Tactical Shift, NULL, NULL}]}, {[{Yellow Card, 2, Bad Behaviour, 78:23}], {121, Korea (South)}, 10, 4647, So-Yun Ji, Ji So-yun, [{Final Whistle, 00:00, 1, Center Midfield, 14, Starting XI, NULL, NULL}]}, {[], {68, England}, 6, 4657, Anita Amma Ankyewah Asante, Anita Asante, [{Final Whistle, 00:00, 1, Center Back, 4, Starting XI, NULL, NULL}]}, {[], {221, Switzerland}, 23, 4659, Ramona Bachmann, NULL, [{Tactical Shift, 00:00, 1, Left Center Forward, 24, Starting XI, 29:05, 1}, {Tactical Shift, 29:05, 1, Right Center Forward, 22, Tactical Shift, 83:45, 2}, {Substitution - Off (Tactical), 83:45, 2, Center Forward, 23, Tactical Shift, 91:29, 2}]}, {[], {201, Scotland}, 22, 4660, Erin Cuthbert, NULL, [{Tactical Shift, 55:23, 2, Right Center Midfield, 13, Substitution - On (Tactical), 83:45, 2}, {Final Whistle, 83:45, 2, Secondary Striker, 25, Tactical Shift, NULL, NULL}]}, {[], {241, United States of America}, 19, 5088, Crystal Alyssia Dunn Soubrier, Crystal Dunn, [{Tactical Shift, 00:00, 1, Left Midfield, 16, Starting XI, 29:05, 1}, {Tactical Shift, 29:05, 1, Right Midfield, 12, Tactical Shift, 31:37, 1}, {Final Whistle, 31:37, 1, Left Midfield, 16, Tactical Shift, NULL, NULL}]}, {[], {171, Norway}, 18, 10395, Maren Nævdal Mjelde, Maren Mjelde, [{Tactical Shift, 00:00, 1, Right Center Midfield, 13, Starting XI, 29:05, 1}, {Final Whistle, 29:05, 1, Left Center Midfield, 15, Tactical Shift, NULL, NULL}]}, {[], {68, England}, 9, 13344, Eniola Aluko, NULL, [{Final Whistle, 91:29, 2, Center Forward, 23, Substitution - On (Tactical), NULL, NULL}]}, {[], {68, England}, 3, 17275, Hannah Jayne Blundell, Hannah Blundell, [{Tactical Shift, 00:00, 1, Right Midfield, 12, Starting XI, 29:05, 1}, {Tactical Shift, 29:05, 1, Left Midfield, 16, Tactical Shift, 31:37, 1}, {Final Whistle, 31:37, 1, Right Midfield, 12, Tactical Shift, NULL, NULL}]}], 971, Chelsea FCW, file:///C:/Users/Ruben/Documents/HES-Master/semester_2/MA_BDA/open-data/data/lineups/7298.json, 7298}|7298    |\n",
      "|{[{[], {220, Sweden}, 15, 4635, Julia Spetsmark, NULL, [{Substitution - Off (Tactical), 00:00, 1, Left Wing, 21, Starting XI, 45:00, 2}]}, {[], {68, England}, 26, 4637, Ellie Roebuck, NULL, [{Final Whistle, 00:00, 1, Goalkeeper, 1, Starting XI, NULL, NULL}]}, {[], {68, England}, 12, 4643, Georgia Stanway, NULL, [{Final Whistle, 65:32, 2, Left Center Midfield, 15, Substitution - On (Tactical), NULL, NULL}]}, {[], {68, England}, 11, 4645, Isobel Mary Christiansen, NULL, [{Substitution - Off (Tactical), 00:00, 1, Left Center Midfield, 15, Starting XI, 65:32, 2}]}, {[], {201, Scotland}, 22, 4646, Claire Emslie, NULL, [{Final Whistle, 45:00, 2, Left Wing, 21, Substitution - On (Tactical), NULL, NULL}]}, {[], {68, England}, 23, 4648, Abbie McManus, NULL, [{Player Off, 00:00, 1, Right Center Back, 3, Starting XI, 33:37, 1}, {Final Whistle, 33:54, 1, Right Center Back, 3, Player On, NULL, NULL}]}, {[], {68, England}, 14, 4649, Esme Beth Morgan, Esme Morgan, [{Final Whistle, 00:00, 1, Right Back, 2, Starting XI, NULL, NULL}]}, {[], {61, Denmark}, 10, 4650, Nadia Nadim, NULL, [{Substitution - Off (Tactical), 00:00, 1, Center Forward, 23, Starting XI, 78:56, 2}]}, {[], {68, England}, 3, 4651, Demi Stokes, NULL, [{Final Whistle, 00:00, 1, Left Back, 6, Starting XI, NULL, NULL}]}, {[], {201, Scotland}, 16, 4653, Jane Ross, NULL, [{Final Whistle, 78:56, 2, Center Forward, 23, Substitution - On (Tactical), NULL, NULL}]}, {[], {68, England}, 17, 4654, Nikita Parris, NULL, [{Final Whistle, 00:00, 1, Right Wing, 17, Starting XI, NULL, NULL}]}, {[], {68, England}, 24, 4658, Keira Walsh, NULL, [{Final Whistle, 00:00, 1, Center Midfield, 14, Starting XI, NULL, NULL}]}, {[], {68, England}, 8, 10172, Jill Scott, NULL, [{Final Whistle, 00:00, 1, Right Center Midfield, 13, Starting XI, NULL, NULL}]}, {[], {201, Scotland}, 5, 17524, Jennifer Patricia Beattie, NULL, [{Final Whistle, 00:00, 1, Left Center Back, 5, Starting XI, NULL, NULL}]}], 746, Manchester City WFC, file:///C:/Users/Ruben/Documents/HES-Master/semester_2/MA_BDA/open-data/data/lineups/7298.json, 7298}                                                                                                                                                                                                                                                                                                                                                                                                                                                                                                                                                                                                                                                                                                                                                                                                                                                                                                                                                                                                                                                                                                                                                                                                                        |7298    |\n",
      "+------------------------------------------------------------------------------------------------------------------------------------------------------------------------------------------------------------------------------------------------------------------------------------------------------------------------------------------------------------------------------------------------------------------------------------------------------------------------------------------------------------------------------------------------------------------------------------------------------------------------------------------------------------------------------------------------------------------------------------------------------------------------------------------------------------------------------------------------------------------------------------------------------------------------------------------------------------------------------------------------------------------------------------------------------------------------------------------------------------------------------------------------------------------------------------------------------------------------------------------------------------------------------------------------------------------------------------------------------------------------------------------------------------------------------------------------------------------------------------------------------------------------------------------------------------------------------------------------------------------------------------------------------------------------------------------------------------------------------------------------------------------------------------------------------------------------------------------------------------------------------------------------------------------------------------------------------------------------------------------------------------------------------------------------------------------------------------------------------------------------------------------------------------------------------------------------------------------------------------------------------------------------------------------------------------------------------------------------------------------------------------------------------------------------------------------------------------------------------------------------------------------------------------------------------------------------------------------------------------------------------------------------------------------------------------------------------------------------------------------------------------------------------------------------------------------------------------------------------------------------------------------------------------------------------------------------------------------------------------------------------------------------------------------------------------------------------------------------------------------------------------------------------------------------------------------------------------------------------------------------------------------------------------------------------------------------------------------------------------------------------------+--------+\n"
     ]
    }
   ],
   "source": [
    "# Select and show the match id 7298\n",
    "lineups_df.filter(col('match_id') == \"7298\").show(truncate=False)"
   ],
   "metadata": {
    "collapsed": false,
    "ExecuteTime": {
     "end_time": "2024-05-19T08:17:15.188469200Z",
     "start_time": "2024-05-19T08:17:13.686565100Z"
    }
   },
   "id": "32662bb0b29ba972",
   "execution_count": 21
  },
  {
   "cell_type": "code",
   "outputs": [
    {
     "name": "stdout",
     "output_type": "stream",
     "text": [
      "Total Number of Unique Players: 9937\n",
      "Total Number of Cards Issued: 13541\n",
      "Distribution of Card Types:\n",
      "+-------------+-----+\n",
      "|card_type    |count|\n",
      "+-------------+-----+\n",
      "|Yellow Card  |12865|\n",
      "|Second Yellow|349  |\n",
      "|Red Card     |327  |\n",
      "+-------------+-----+\n",
      "\n",
      "Distribution of Player Positions:\n",
      "+-------------------------+-----+\n",
      "|position                 |count|\n",
      "+-------------------------+-----+\n",
      "|Left Attacking Midfield  |398  |\n",
      "|Right Wing               |8363 |\n",
      "|Center Defensive Midfield|4626 |\n",
      "|Right Wing Back          |1585 |\n",
      "|Right Center Midfield    |6565 |\n",
      "|Right Defensive Midfield |6044 |\n",
      "|Left Back                |7728 |\n",
      "|Right Center Forward     |4234 |\n",
      "|Center Attacking Midfield|6154 |\n",
      "|Center Forward           |8794 |\n",
      "|Right Center Back        |8505 |\n",
      "|Left Center Back         |8387 |\n",
      "|Center Back              |1334 |\n",
      "|Left Midfield            |4808 |\n",
      "|Left Center Forward      |4189 |\n",
      "|Left Defensive Midfield  |5904 |\n",
      "|Right Midfield           |4755 |\n",
      "|Goalkeeper               |6729 |\n",
      "|Left Wing Back           |1525 |\n",
      "|Right Attacking Midfield |384  |\n",
      "+-------------------------+-----+\n",
      "only showing top 20 rows\n",
      "\n",
      "Top Players by Number of Cards:\n",
      "+------------------------------+-----+\n",
      "|player_name                   |count|\n",
      "+------------------------------+-----+\n",
      "|Sergio Busquets i Burgos      |106  |\n",
      "|Gerard Piqué Bernabéu         |96   |\n",
      "|Daniel Alves da Silva         |60   |\n",
      "|Jordi Alba Ramos              |53   |\n",
      "|Lionel Andrés Messi Cuccittini|53   |\n",
      "|Javier Alejandro Mascherano   |52   |\n",
      "|Neymar da Silva Santos Junior |35   |\n",
      "|Sergio Ramos García           |35   |\n",
      "|Luis Alberto Suárez Díaz      |34   |\n",
      "|Andrés Iniesta Luján          |31   |\n",
      "+------------------------------+-----+\n"
     ]
    }
   ],
   "source": [
    "from pyspark.sql.functions import explode, col\n",
    "\n",
    "# 1. Total Number of Players\n",
    "total_players = lineups_df.select(explode(col(\"lineups.lineup\")).alias(\"player\")) \\\n",
    "                         .select(\"player.player_id\") \\\n",
    "                         .distinct() \\\n",
    "                         .count()\n",
    "print(f\"Total Number of Unique Players: {total_players}\")\n",
    "\n",
    "# 2. Total Number of Cards Issued\n",
    "total_cards = lineups_df.select(explode(col(\"lineups.lineup\")).alias(\"player\")) \\\n",
    "                       .select(explode(col(\"player.cards\")).alias(\"card\")) \\\n",
    "                       .count()\n",
    "print(f\"Total Number of Cards Issued: {total_cards}\")\n",
    "\n",
    "# 3. Distribution of Card Types\n",
    "card_type_distribution = lineups_df.select(explode(col(\"lineups.lineup\")).alias(\"player\")) \\\n",
    "                                  .select(explode(col(\"player.cards\")).alias(\"card\")) \\\n",
    "                                  .groupBy(\"card.card_type\") \\\n",
    "                                  .count()\n",
    "print(\"Distribution of Card Types:\")\n",
    "card_type_distribution.show(truncate=False)\n",
    "\n",
    "# 4. Distribution of Player Positions\n",
    "position_distribution = lineups_df.select(explode(col(\"lineups.lineup\")).alias(\"player\")) \\\n",
    "                                 .select(explode(col(\"player.positions\")).alias(\"position\")) \\\n",
    "                                 .groupBy(\"position.position\") \\\n",
    "                                 .count()\n",
    "print(\"Distribution of Player Positions:\")\n",
    "position_distribution.show(truncate=False)\n",
    "\n",
    "# 5. Top Players by Number of Cards\n",
    "top_players_by_cards = lineups_df.select(explode(col(\"lineups.lineup\")).alias(\"player\")) \\\n",
    "                                .select(\"player.player_name\", explode(col(\"player.cards\")).alias(\"card\")) \\\n",
    "                                .groupBy(\"player_name\") \\\n",
    "                                .count() \\\n",
    "                                .orderBy(col(\"count\").desc()) \\\n",
    "                                .limit(10)\n",
    "print(\"Top Players by Number of Cards:\")\n",
    "top_players_by_cards.show(truncate=False)\n"
   ],
   "metadata": {
    "collapsed": false,
    "ExecuteTime": {
     "end_time": "2024-05-19T19:59:06.940120100Z",
     "start_time": "2024-05-19T19:58:49.944729800Z"
    }
   },
   "id": "305a822412a67929",
   "execution_count": 79
  },
  {
   "cell_type": "code",
   "outputs": [
    {
     "name": "stdout",
     "output_type": "stream",
     "text": [
      "+------------------------------------+--------+-------------+-----------+\n",
      "|player_name                         |Red Card|Second Yellow|Yellow Card|\n",
      "+------------------------------------+--------+-------------+-----------+\n",
      "|Adriano Correia Claro               |0       |0            |19         |\n",
      "|Víctor Machín Pérez                 |0       |2            |8          |\n",
      "|Khouma El Hadji Babacar             |0       |0            |3          |\n",
      "|Yessenia Estefani Huenteo Cheuqueman|0       |0            |1          |\n",
      "|Floyd Ayité                         |1       |0            |2          |\n",
      "|Jack Colback                        |0       |0            |11         |\n",
      "|Ryan Shawcross                      |0       |1            |3          |\n",
      "|Artem Kravets                       |0       |0            |1          |\n",
      "|György Garics                       |0       |0            |8          |\n",
      "|Narayan Das                         |0       |0            |2          |\n",
      "|Rafael Alcântara do Nascimento      |0       |0            |5          |\n",
      "|Luís Edmundo Pereira                |1       |0            |1          |\n",
      "|Sergio Gontán Gallardo              |0       |1            |5          |\n",
      "|Pablo César Pintos Cabral           |0       |0            |1          |\n",
      "|Ivan Gennaro Gattuso                |0       |0            |1          |\n",
      "|Jonathan Javier Rodríguez Portillo  |0       |0            |2          |\n",
      "|Javier Magro Matilla                |0       |0            |1          |\n",
      "|Robert Pirès                        |0       |0            |2          |\n",
      "|John Welsh                          |0       |0            |1          |\n",
      "|Tajon Buchanan                      |0       |0            |1          |\n",
      "+------------------------------------+--------+-------------+-----------+\n"
     ]
    }
   ],
   "source": [
    "from pyspark.sql.functions import col, explode\n",
    "\n",
    "# Explode the lineup and cards arrays\n",
    "exploded_df = lineups_df.select(explode(col(\"lineups.lineup\")).alias(\"player\")) \\\n",
    "                        .select(\"player.player_name\", explode(col(\"player.cards\")).alias(\"card\"))\n",
    "\n",
    "# Group by player name and card type, then count occurrences\n",
    "card_counts_df = exploded_df.groupBy(\"player_name\", \"card.card_type\").count()\n",
    "\n",
    "# Pivot the results to get counts of each card type as separate columns\n",
    "pivot_df = card_counts_df.groupBy(\"player_name\").pivot(\"card_type\").sum(\"count\")\n",
    "\n",
    "# Fill NaN values with 0\n",
    "pivot_df = pivot_df.fillna(0)\n",
    "\n",
    "from pyspark.sql.functions import col\n",
    "from functools import reduce\n",
    "import operator\n",
    "\n",
    "\n",
    "# Create a new column in pivot_df that sums all card counts\n",
    "total_card_count_col = reduce(operator.add, [col(column) for column in pivot_df.columns if column != \"player_name\"])\n",
    "pivot_df = pivot_df.withColumn(\"total_card_count\", total_card_count_col)\n",
    "\n",
    "# Get the top 20 rows based on the new column total_card_count\n",
    "top_20_df = pivot_df.orderBy(col(\"total_card_count\").desc()).limit(20)\n",
    "\n",
    "# Show the top 20 rows\n",
    "top_20_df.show(truncate=False)\n"
   ],
   "metadata": {
    "collapsed": false,
    "ExecuteTime": {
     "end_time": "2024-05-19T17:49:22.670323500Z",
     "start_time": "2024-05-19T17:49:15.711629900Z"
    }
   },
   "id": "4026310e79837631",
   "execution_count": 68
  },
  {
   "cell_type": "code",
   "outputs": [
    {
     "name": "stdout",
     "output_type": "stream",
     "text": [
      "+-------------------------------+--------+-------------+-----------+----------------+-----------+\n",
      "|player_name                    |Red Card|Second Yellow|Yellow Card|total_card_count|match_count|\n",
      "+-------------------------------+--------+-------------+-----------+----------------+-----------+\n",
      "|Sergio Busquets i Burgos       |0       |1            |105        |106             |420        |\n",
      "|Gerard Piqué Bernabéu          |1       |4            |91         |96              |358        |\n",
      "|Daniel Alves da Silva          |1       |3            |56         |60              |250        |\n",
      "|Jordi Alba Ramos               |1       |2            |50         |53              |284        |\n",
      "|Lionel Andrés Messi Cuccittini |0       |0            |53         |53              |598        |\n",
      "|Javier Alejandro Mascherano    |2       |1            |49         |52              |221        |\n",
      "|Neymar da Silva Santos Junior  |0       |1            |34         |35              |158        |\n",
      "|Sergio Ramos García            |3       |3            |29         |35              |96         |\n",
      "|Luis Alberto Suárez Díaz       |0       |0            |34         |34              |198        |\n",
      "|Andrés Iniesta Luján           |0       |0            |31         |31              |361        |\n",
      "|Rafael Márquez Álvarez         |1       |3            |24         |28              |105        |\n",
      "|Clément Lenglet                |1       |3            |23         |27              |100        |\n",
      "|Samuel Yves Umtiti             |0       |0            |27         |27              |162        |\n",
      "|Carles Puyol i Saforcada       |0       |0            |26         |26              |187        |\n",
      "|Ivan Rakitić                   |0       |1            |24         |25              |217        |\n",
      "|Gabriel Fernández Arenas       |0       |1            |23         |24              |56         |\n",
      "|Anderson Luís de Souza         |2       |0            |22         |24              |58         |\n",
      "|Víctor Valdés Arribas          |0       |1            |22         |23              |257        |\n",
      "|Rubén Salvador Pérez Del Mármol|0       |0            |23         |23              |42         |\n",
      "|Papa Kouly Diop                |0       |1            |22         |23              |47         |\n",
      "+-------------------------------+--------+-------------+-----------+----------------+-----------+\n"
     ]
    }
   ],
   "source": [
    "from pyspark.sql.functions import col, explode, countDistinct\n",
    "\n",
    "# Explode the lineup and cards arrays\n",
    "exploded_df = lineups_df.select(explode(col(\"lineups.lineup\")).alias(\"player\"), col(\"match_id\")) \\\n",
    "                        .select(\"player.player_name\", \"match_id\", explode(col(\"player.cards\")).alias(\"card\"))\n",
    "\n",
    "# Group by player name and card type, then count occurrences\n",
    "card_counts_df = exploded_df.groupBy(\"player_name\", \"card.card_type\").count()\n",
    "\n",
    "# Pivot the results to get counts of each card type as separate columns\n",
    "pivot_df = card_counts_df.groupBy(\"player_name\").pivot(\"card_type\").sum(\"count\")\n",
    "\n",
    "# Fill NaN values with 0\n",
    "pivot_df = pivot_df.fillna(0)\n",
    "\n",
    "# Create a new column in pivot_df that sums all card counts\n",
    "from functools import reduce\n",
    "import operator\n",
    "\n",
    "total_card_count_col = reduce(operator.add, [col(column) for column in pivot_df.columns if column != \"player_name\"])\n",
    "pivot_df = pivot_df.withColumn(\"total_card_count\", total_card_count_col)\n",
    "\n",
    "# Get the distinct count of matches for each player\n",
    "matches_count_df = lineups_df.select(explode(col(\"lineups.lineup\")).alias(\"player\"), col(\"match_id\")) \\\n",
    "                             .groupBy(\"player.player_name\").agg(countDistinct(\"match_id\").alias(\"match_count\"))\n",
    "\n",
    "# Join the matches count with the pivot dataframe\n",
    "final_df = pivot_df.join(matches_count_df, \"player_name\", \"left\")\n",
    "\n",
    "# Get the top 20 rows based on the new column total_card_count\n",
    "top_20_df = final_df.orderBy(col(\"total_card_count\").desc()).limit(20)\n",
    "\n",
    "# Show the top 20 rows\n",
    "top_20_df.show(truncate=False)\n",
    "\n"
   ],
   "metadata": {
    "collapsed": false,
    "ExecuteTime": {
     "end_time": "2024-05-19T19:48:15.979664200Z",
     "start_time": "2024-05-19T19:47:53.768300200Z"
    }
   },
   "id": "bc1f8106019e2859",
   "execution_count": 70
  },
  {
   "cell_type": "code",
   "outputs": [
    {
     "name": "stdout",
     "output_type": "stream",
     "text": [
      "+-------------------------------+--------+-------------+-----------+----------------+-----------+-----------------------+\n",
      "|player_name                    |Red Card|Second Yellow|Yellow Card|total_card_count|match_count|average_cards_per_match|\n",
      "+-------------------------------+--------+-------------+-----------+----------------+-----------+-----------------------+\n",
      "|Sergio Busquets i Burgos       |0       |1            |105        |106             |420        |0.25                   |\n",
      "|Gerard Piqué Bernabéu          |1       |4            |91         |96              |358        |0.27                   |\n",
      "|Daniel Alves da Silva          |1       |3            |56         |60              |250        |0.24                   |\n",
      "|Jordi Alba Ramos               |1       |2            |50         |53              |284        |0.19                   |\n",
      "|Lionel Andrés Messi Cuccittini |0       |0            |53         |53              |598        |0.09                   |\n",
      "|Javier Alejandro Mascherano    |2       |1            |49         |52              |221        |0.24                   |\n",
      "|Neymar da Silva Santos Junior  |0       |1            |34         |35              |158        |0.22                   |\n",
      "|Sergio Ramos García            |3       |3            |29         |35              |96         |0.36                   |\n",
      "|Luis Alberto Suárez Díaz       |0       |0            |34         |34              |198        |0.17                   |\n",
      "|Andrés Iniesta Luján           |0       |0            |31         |31              |361        |0.09                   |\n",
      "|Rafael Márquez Álvarez         |1       |3            |24         |28              |105        |0.27                   |\n",
      "|Clément Lenglet                |1       |3            |23         |27              |100        |0.27                   |\n",
      "|Samuel Yves Umtiti             |0       |0            |27         |27              |162        |0.17                   |\n",
      "|Carles Puyol i Saforcada       |0       |0            |26         |26              |187        |0.14                   |\n",
      "|Ivan Rakitić                   |0       |1            |24         |25              |217        |0.12                   |\n",
      "|Gabriel Fernández Arenas       |0       |1            |23         |24              |56         |0.43                   |\n",
      "|Anderson Luís de Souza         |2       |0            |22         |24              |58         |0.41                   |\n",
      "|Víctor Valdés Arribas          |0       |1            |22         |23              |257        |0.09                   |\n",
      "|Rubén Salvador Pérez Del Mármol|0       |0            |23         |23              |42         |0.55                   |\n",
      "|Papa Kouly Diop                |0       |1            |22         |23              |47         |0.49                   |\n",
      "+-------------------------------+--------+-------------+-----------+----------------+-----------+-----------------------+\n"
     ]
    }
   ],
   "source": [
    "from pyspark.sql.functions import when, round as _round\n",
    "# Add the average cards per match column\n",
    "final_df = final_df.withColumn(\n",
    "    \"average_cards_per_match\",\n",
    "    _round(when(col(\"match_count\") > 0, col(\"total_card_count\") / col(\"match_count\")).otherwise(0),2)\n",
    ")\n",
    "\n",
    "# Get the top 20 rows based on the new column total_card_count\n",
    "top_20_df = final_df.orderBy(col(\"total_card_count\").desc()).limit(20)\n",
    "\n",
    "# Show the top 20 rows\n",
    "top_20_df.show(truncate=False)"
   ],
   "metadata": {
    "collapsed": false,
    "ExecuteTime": {
     "end_time": "2024-05-19T19:57:39.607944600Z",
     "start_time": "2024-05-19T19:57:25.942198100Z"
    }
   },
   "id": "9df7005004fb3f16",
   "execution_count": 78
  },
  {
   "cell_type": "markdown",
   "source": [
    "### 1.4 Events folder"
   ],
   "metadata": {
    "collapsed": false
   },
   "id": "1b0e588331401c31"
  },
  {
   "cell_type": "code",
   "outputs": [
    {
     "data": {
      "text/plain": "'events_df = spark.read.json(f\"{root_dir}/*.json\", multiLine=True)\\nevents_df.printSchema()'"
     },
     "execution_count": 18,
     "metadata": {},
     "output_type": "execute_result"
    }
   ],
   "source": [
    "# Original\n",
    "root_dir = \"../open-data/data/events\"\n",
    "\"\"\"events_df = spark.read.json(f\"{root_dir}/*.json\", multiLine=True)\n",
    "events_df.printSchema()\"\"\""
   ],
   "metadata": {
    "collapsed": false,
    "ExecuteTime": {
     "end_time": "2024-05-20T08:28:49.960879600Z",
     "start_time": "2024-05-20T08:28:49.900779400Z"
    }
   },
   "id": "644a544ba0947a85",
   "execution_count": 18
  },
  {
   "cell_type": "code",
   "outputs": [],
   "source": [
    "# Marked with match_id\n",
    "from pyspark.sql.functions import input_file_name, regexp_replace, struct\n",
    "\n",
    "# Read the JSON files and include the filename\n",
    "events_df = spark.read.json(f\"{root_dir}/*.json\", multiLine=True) \\\n",
    "    .withColumn(\"file_name\", input_file_name())\n",
    "\n",
    "# Extract match_id from the filename by removing the .json extension\n",
    "events_df = events_df.withColumn(\"match_id\", regexp_replace(\"file_name\", r\"(.*/)?([^/]+)\\.json$\", \"$2\"))\n",
    "\n",
    "# Nest the existing structure inside the match_id struct\n",
    "events_df = events_df.select(struct(\"*\").alias(\"events\"), \"match_id\")"
   ],
   "metadata": {
    "collapsed": false,
    "ExecuteTime": {
     "end_time": "2024-05-20T08:31:09.227456Z",
     "start_time": "2024-05-20T08:28:51.997697100Z"
    }
   },
   "id": "fb8b3062ccea2909",
   "execution_count": 19
  },
  {
   "cell_type": "code",
   "outputs": [
    {
     "name": "stdout",
     "output_type": "stream",
     "text": [
      "root\n",
      " |-- events: struct (nullable = false)\n",
      " |    |-- 50_50: struct (nullable = true)\n",
      " |    |    |-- outcome: struct (nullable = true)\n",
      " |    |    |    |-- id: long (nullable = true)\n",
      " |    |    |    |-- name: string (nullable = true)\n",
      " |    |-- bad_behaviour: struct (nullable = true)\n",
      " |    |    |-- card: struct (nullable = true)\n",
      " |    |    |    |-- id: long (nullable = true)\n",
      " |    |    |    |-- name: string (nullable = true)\n",
      " |    |-- ball_receipt: struct (nullable = true)\n",
      " |    |    |-- outcome: struct (nullable = true)\n",
      " |    |    |    |-- id: long (nullable = true)\n",
      " |    |    |    |-- name: string (nullable = true)\n",
      " |    |-- ball_recovery: struct (nullable = true)\n",
      " |    |    |-- offensive: boolean (nullable = true)\n",
      " |    |    |-- recovery_failure: boolean (nullable = true)\n",
      " |    |-- block: struct (nullable = true)\n",
      " |    |    |-- deflection: boolean (nullable = true)\n",
      " |    |    |-- offensive: boolean (nullable = true)\n",
      " |    |    |-- save_block: boolean (nullable = true)\n",
      " |    |-- carry: struct (nullable = true)\n",
      " |    |    |-- end_location: array (nullable = true)\n",
      " |    |    |    |-- element: double (containsNull = true)\n",
      " |    |-- clearance: struct (nullable = true)\n",
      " |    |    |-- aerial_won: boolean (nullable = true)\n",
      " |    |    |-- body_part: struct (nullable = true)\n",
      " |    |    |    |-- id: long (nullable = true)\n",
      " |    |    |    |-- name: string (nullable = true)\n",
      " |    |    |-- head: boolean (nullable = true)\n",
      " |    |    |-- left_foot: boolean (nullable = true)\n",
      " |    |    |-- other: boolean (nullable = true)\n",
      " |    |    |-- right_foot: boolean (nullable = true)\n",
      " |    |-- counterpress: boolean (nullable = true)\n",
      " |    |-- dribble: struct (nullable = true)\n",
      " |    |    |-- no_touch: boolean (nullable = true)\n",
      " |    |    |-- nutmeg: boolean (nullable = true)\n",
      " |    |    |-- outcome: struct (nullable = true)\n",
      " |    |    |    |-- id: long (nullable = true)\n",
      " |    |    |    |-- name: string (nullable = true)\n",
      " |    |    |-- overrun: boolean (nullable = true)\n",
      " |    |-- duel: struct (nullable = true)\n",
      " |    |    |-- outcome: struct (nullable = true)\n",
      " |    |    |    |-- id: long (nullable = true)\n",
      " |    |    |    |-- name: string (nullable = true)\n",
      " |    |    |-- type: struct (nullable = true)\n",
      " |    |    |    |-- id: long (nullable = true)\n",
      " |    |    |    |-- name: string (nullable = true)\n",
      " |    |-- duration: double (nullable = true)\n",
      " |    |-- foul_committed: struct (nullable = true)\n",
      " |    |    |-- advantage: boolean (nullable = true)\n",
      " |    |    |-- card: struct (nullable = true)\n",
      " |    |    |    |-- id: long (nullable = true)\n",
      " |    |    |    |-- name: string (nullable = true)\n",
      " |    |    |-- offensive: boolean (nullable = true)\n",
      " |    |    |-- penalty: boolean (nullable = true)\n",
      " |    |    |-- type: struct (nullable = true)\n",
      " |    |    |    |-- id: long (nullable = true)\n",
      " |    |    |    |-- name: string (nullable = true)\n",
      " |    |-- foul_won: struct (nullable = true)\n",
      " |    |    |-- advantage: boolean (nullable = true)\n",
      " |    |    |-- defensive: boolean (nullable = true)\n",
      " |    |    |-- penalty: boolean (nullable = true)\n",
      " |    |-- goalkeeper: struct (nullable = true)\n",
      " |    |    |-- body_part: struct (nullable = true)\n",
      " |    |    |    |-- id: long (nullable = true)\n",
      " |    |    |    |-- name: string (nullable = true)\n",
      " |    |    |-- end_location: array (nullable = true)\n",
      " |    |    |    |-- element: double (containsNull = true)\n",
      " |    |    |-- lost_in_play: boolean (nullable = true)\n",
      " |    |    |-- lost_out: boolean (nullable = true)\n",
      " |    |    |-- outcome: struct (nullable = true)\n",
      " |    |    |    |-- id: long (nullable = true)\n",
      " |    |    |    |-- name: string (nullable = true)\n",
      " |    |    |-- penalty_saved_to_post: boolean (nullable = true)\n",
      " |    |    |-- position: struct (nullable = true)\n",
      " |    |    |    |-- id: long (nullable = true)\n",
      " |    |    |    |-- name: string (nullable = true)\n",
      " |    |    |-- punched_out: boolean (nullable = true)\n",
      " |    |    |-- saved_to_post: boolean (nullable = true)\n",
      " |    |    |-- shot_saved_off_target: boolean (nullable = true)\n",
      " |    |    |-- shot_saved_to_post: boolean (nullable = true)\n",
      " |    |    |-- success_in_play: boolean (nullable = true)\n",
      " |    |    |-- success_out: boolean (nullable = true)\n",
      " |    |    |-- technique: struct (nullable = true)\n",
      " |    |    |    |-- id: long (nullable = true)\n",
      " |    |    |    |-- name: string (nullable = true)\n",
      " |    |    |-- type: struct (nullable = true)\n",
      " |    |    |    |-- id: long (nullable = true)\n",
      " |    |    |    |-- name: string (nullable = true)\n",
      " |    |-- half_end: struct (nullable = true)\n",
      " |    |    |-- early_video_end: boolean (nullable = true)\n",
      " |    |-- half_start: struct (nullable = true)\n",
      " |    |    |-- late_video_start: boolean (nullable = true)\n",
      " |    |-- id: string (nullable = true)\n",
      " |    |-- index: long (nullable = true)\n",
      " |    |-- injury_stoppage: struct (nullable = true)\n",
      " |    |    |-- in_chain: boolean (nullable = true)\n",
      " |    |-- interception: struct (nullable = true)\n",
      " |    |    |-- outcome: struct (nullable = true)\n",
      " |    |    |    |-- id: long (nullable = true)\n",
      " |    |    |    |-- name: string (nullable = true)\n",
      " |    |-- location: array (nullable = true)\n",
      " |    |    |-- element: double (containsNull = true)\n",
      " |    |-- minute: long (nullable = true)\n",
      " |    |-- miscontrol: struct (nullable = true)\n",
      " |    |    |-- aerial_won: boolean (nullable = true)\n",
      " |    |-- off_camera: boolean (nullable = true)\n",
      " |    |-- out: boolean (nullable = true)\n",
      " |    |-- pass: struct (nullable = true)\n",
      " |    |    |-- aerial_won: boolean (nullable = true)\n",
      " |    |    |-- angle: double (nullable = true)\n",
      " |    |    |-- assisted_shot_id: string (nullable = true)\n",
      " |    |    |-- backheel: boolean (nullable = true)\n",
      " |    |    |-- body_part: struct (nullable = true)\n",
      " |    |    |    |-- id: long (nullable = true)\n",
      " |    |    |    |-- name: string (nullable = true)\n",
      " |    |    |-- cross: boolean (nullable = true)\n",
      " |    |    |-- cut_back: boolean (nullable = true)\n",
      " |    |    |-- deflected: boolean (nullable = true)\n",
      " |    |    |-- end_location: array (nullable = true)\n",
      " |    |    |    |-- element: double (containsNull = true)\n",
      " |    |    |-- goal_assist: boolean (nullable = true)\n",
      " |    |    |-- height: struct (nullable = true)\n",
      " |    |    |    |-- id: long (nullable = true)\n",
      " |    |    |    |-- name: string (nullable = true)\n",
      " |    |    |-- inswinging: boolean (nullable = true)\n",
      " |    |    |-- length: double (nullable = true)\n",
      " |    |    |-- miscommunication: boolean (nullable = true)\n",
      " |    |    |-- no_touch: boolean (nullable = true)\n",
      " |    |    |-- outcome: struct (nullable = true)\n",
      " |    |    |    |-- id: long (nullable = true)\n",
      " |    |    |    |-- name: string (nullable = true)\n",
      " |    |    |-- outswinging: boolean (nullable = true)\n",
      " |    |    |-- recipient: struct (nullable = true)\n",
      " |    |    |    |-- id: long (nullable = true)\n",
      " |    |    |    |-- name: string (nullable = true)\n",
      " |    |    |-- shot_assist: boolean (nullable = true)\n",
      " |    |    |-- straight: boolean (nullable = true)\n",
      " |    |    |-- switch: boolean (nullable = true)\n",
      " |    |    |-- technique: struct (nullable = true)\n",
      " |    |    |    |-- id: long (nullable = true)\n",
      " |    |    |    |-- name: string (nullable = true)\n",
      " |    |    |-- through_ball: boolean (nullable = true)\n",
      " |    |    |-- type: struct (nullable = true)\n",
      " |    |    |    |-- id: long (nullable = true)\n",
      " |    |    |    |-- name: string (nullable = true)\n",
      " |    |-- period: long (nullable = true)\n",
      " |    |-- play_pattern: struct (nullable = true)\n",
      " |    |    |-- id: long (nullable = true)\n",
      " |    |    |-- name: string (nullable = true)\n",
      " |    |-- player: struct (nullable = true)\n",
      " |    |    |-- id: long (nullable = true)\n",
      " |    |    |-- name: string (nullable = true)\n",
      " |    |-- player_off: struct (nullable = true)\n",
      " |    |    |-- permanent: boolean (nullable = true)\n",
      " |    |-- position: struct (nullable = true)\n",
      " |    |    |-- id: long (nullable = true)\n",
      " |    |    |-- name: string (nullable = true)\n",
      " |    |-- possession: long (nullable = true)\n",
      " |    |-- possession_team: struct (nullable = true)\n",
      " |    |    |-- id: long (nullable = true)\n",
      " |    |    |-- name: string (nullable = true)\n",
      " |    |-- related_events: array (nullable = true)\n",
      " |    |    |-- element: string (containsNull = true)\n",
      " |    |-- second: long (nullable = true)\n",
      " |    |-- shot: struct (nullable = true)\n",
      " |    |    |-- aerial_won: boolean (nullable = true)\n",
      " |    |    |-- body_part: struct (nullable = true)\n",
      " |    |    |    |-- id: long (nullable = true)\n",
      " |    |    |    |-- name: string (nullable = true)\n",
      " |    |    |-- deflected: boolean (nullable = true)\n",
      " |    |    |-- end_location: array (nullable = true)\n",
      " |    |    |    |-- element: double (containsNull = true)\n",
      " |    |    |-- first_time: boolean (nullable = true)\n",
      " |    |    |-- follows_dribble: boolean (nullable = true)\n",
      " |    |    |-- freeze_frame: array (nullable = true)\n",
      " |    |    |    |-- element: struct (containsNull = true)\n",
      " |    |    |    |    |-- location: array (nullable = true)\n",
      " |    |    |    |    |    |-- element: double (containsNull = true)\n",
      " |    |    |    |    |-- player: struct (nullable = true)\n",
      " |    |    |    |    |    |-- id: long (nullable = true)\n",
      " |    |    |    |    |    |-- name: string (nullable = true)\n",
      " |    |    |    |    |-- position: struct (nullable = true)\n",
      " |    |    |    |    |    |-- id: long (nullable = true)\n",
      " |    |    |    |    |    |-- name: string (nullable = true)\n",
      " |    |    |    |    |-- teammate: boolean (nullable = true)\n",
      " |    |    |-- key_pass_id: string (nullable = true)\n",
      " |    |    |-- kick_off: boolean (nullable = true)\n",
      " |    |    |-- one_on_one: boolean (nullable = true)\n",
      " |    |    |-- open_goal: boolean (nullable = true)\n",
      " |    |    |-- outcome: struct (nullable = true)\n",
      " |    |    |    |-- id: long (nullable = true)\n",
      " |    |    |    |-- name: string (nullable = true)\n",
      " |    |    |-- redirect: boolean (nullable = true)\n",
      " |    |    |-- saved_off_target: boolean (nullable = true)\n",
      " |    |    |-- saved_to_post: boolean (nullable = true)\n",
      " |    |    |-- statsbomb_xg: double (nullable = true)\n",
      " |    |    |-- technique: struct (nullable = true)\n",
      " |    |    |    |-- id: long (nullable = true)\n",
      " |    |    |    |-- name: string (nullable = true)\n",
      " |    |    |-- type: struct (nullable = true)\n",
      " |    |    |    |-- id: long (nullable = true)\n",
      " |    |    |    |-- name: string (nullable = true)\n",
      " |    |-- substitution: struct (nullable = true)\n",
      " |    |    |-- outcome: struct (nullable = true)\n",
      " |    |    |    |-- id: long (nullable = true)\n",
      " |    |    |    |-- name: string (nullable = true)\n",
      " |    |    |-- replacement: struct (nullable = true)\n",
      " |    |    |    |-- id: long (nullable = true)\n",
      " |    |    |    |-- name: string (nullable = true)\n",
      " |    |-- tactics: struct (nullable = true)\n",
      " |    |    |-- formation: long (nullable = true)\n",
      " |    |    |-- lineup: array (nullable = true)\n",
      " |    |    |    |-- element: struct (containsNull = true)\n",
      " |    |    |    |    |-- jersey_number: long (nullable = true)\n",
      " |    |    |    |    |-- player: struct (nullable = true)\n",
      " |    |    |    |    |    |-- id: long (nullable = true)\n",
      " |    |    |    |    |    |-- name: string (nullable = true)\n",
      " |    |    |    |    |-- position: struct (nullable = true)\n",
      " |    |    |    |    |    |-- id: long (nullable = true)\n",
      " |    |    |    |    |    |-- name: string (nullable = true)\n",
      " |    |-- team: struct (nullable = true)\n",
      " |    |    |-- id: long (nullable = true)\n",
      " |    |    |-- name: string (nullable = true)\n",
      " |    |-- timestamp: string (nullable = true)\n",
      " |    |-- type: struct (nullable = true)\n",
      " |    |    |-- id: long (nullable = true)\n",
      " |    |    |-- name: string (nullable = true)\n",
      " |    |-- under_pressure: boolean (nullable = true)\n",
      " |    |-- file_name: string (nullable = false)\n",
      " |    |-- match_id: string (nullable = false)\n",
      " |-- match_id: string (nullable = false)\n"
     ]
    }
   ],
   "source": [
    "events_df.printSchema()"
   ],
   "metadata": {
    "collapsed": false,
    "ExecuteTime": {
     "end_time": "2024-05-20T08:31:36.427874800Z",
     "start_time": "2024-05-20T08:31:36.389196500Z"
    }
   },
   "id": "7d4292be60cc0b58",
   "execution_count": 20
  },
  {
   "cell_type": "code",
   "outputs": [
    {
     "name": "stdout",
     "output_type": "stream",
     "text": [
      "+--------+-----+\n",
      "|match_id|count|\n",
      "+--------+-----+\n",
      "| 3829519| 4632|\n",
      "| 3869420| 5145|\n",
      "|   68357| 4597|\n",
      "|   18243| 4708|\n",
      "|    7582| 5024|\n",
      "| 3794692| 4921|\n",
      "| 2302764| 4648|\n",
      "| 3773369| 4806|\n",
      "| 3795108| 4990|\n",
      "| 3795220| 4827|\n",
      "| 3794685| 4883|\n",
      "|   70305| 4740|\n",
      "| 3837938| 4794|\n",
      "| 3795506| 4796|\n",
      "|   18237| 4695|\n",
      "| 3794686| 4860|\n",
      "|   69295| 4599|\n",
      "| 3869220| 4750|\n",
      "| 3795221| 4691|\n",
      "|   69296| 4567|\n",
      "+--------+-----+\n",
      "+-----------------+-------+\n",
      "|             name|  count|\n",
      "+-----------------+-------+\n",
      "|       Camera off|    693|\n",
      "|   Tactical Shift|   8130|\n",
      "|             Shot|  84065|\n",
      "|Referee Ball-Drop|   3850|\n",
      "|     Dispossessed|  85501|\n",
      "|     Own Goal For|    320|\n",
      "|  Injury Stoppage|  13034|\n",
      "|             Duel| 248531|\n",
      "|    Bad Behaviour|   2402|\n",
      "|         Foul Won|  91996|\n",
      "|       Player Off|   3119|\n",
      "|           Shield|   4438|\n",
      "|         Half End|  13472|\n",
      "|        Camera On|   2595|\n",
      "|      Starting XI|   6632|\n",
      "|            Carry|2511471|\n",
      "|        Clearance| 153420|\n",
      "|    Ball Recovery| 352836|\n",
      "|    Dribbled Past|  74064|\n",
      "|     Substitution|  20151|\n",
      "+-----------------+-------+\n",
      "+--------------------+------------+-----+-------+\n",
      "|                name|total_events|goals|assists|\n",
      "+--------------------+------------+-----+-------+\n",
      "|Adriano Correia C...|       18262|    8|      7|\n",
      "|Ivan Gennaro Gattuso|         495|    0|      0|\n",
      "|     Viktor Claesson|         772|    1|      1|\n",
      "|         Kyle Walker|        8075|    1|      2|\n",
      "|        Ruben Vargas|         717|    1|      1|\n",
      "|Lucas Rodrigues M...|        5256|    9|      3|\n",
      "|   Alessandro Schöpf|        1122|    3|      1|\n",
      "|Abel Enrique Agui...|         862|    0|      0|\n",
      "|        Artem Dzyuba|        1049|    4|      3|\n",
      "|     Vladimir Granat|          25|    0|      0|\n",
      "| Maren Nævdal Mjelde|        9135|    7|      3|\n",
      "|Nelson de Jesus d...|         121|    0|      0|\n",
      "|Alexis Alejandro ...|       16903|   42|     18|\n",
      "|       Djibril Cissé|          76|    1|      0|\n",
      "|    Fedor Kudryashov|         381|    0|      0|\n",
      "|David Luiz Moreir...|        5885|    2|      1|\n",
      "|Salomon Armand Ma...|        4037|   14|      2|\n",
      "|Rodrigo Hernández...|        3872|    0|      0|\n",
      "| Ludwig Augustinsson|         898|    1|      0|\n",
      "|Gerard Piqué Bern...|       65201|   26|      4|\n",
      "+--------------------+------------+-----+-------+\n",
      "+--------------------+------------+-----+-------+\n",
      "|                name|total_events|goals|assists|\n",
      "+--------------------+------------+-----+-------+\n",
      "|RC Deportivo La C...|       83888|   54|     31|\n",
      "|              Russia|       12169|   19|      9|\n",
      "|              Sweden|       15349|   12|      8|\n",
      "| Paris Saint-Germain|      229500|  235|    166|\n",
      "|         Real Madrid|      135316|  165|    119|\n",
      "|   Australia Women's|       19798|   26|     10|\n",
      "|             Croatia|       36716|   41|     21|\n",
      "|               Italy|       16470|   20|      8|\n",
      "|               Spain|       40882|   33|     16|\n",
      "|           Barcelona|     1244016| 1369|    934|\n",
      "|     Atlético Madrid|      113723|   96|     65|\n",
      "|       Saint-Étienne|       67584|   41|     27|\n",
      "|             Ukraine|        9780|    6|      6|\n",
      "|      Norway Women's|       20952|   19|      9|\n",
      "|            OGC Nice|       88782|   57|     44|\n",
      "|         Switzerland|       24014|   24|     16|\n",
      "|       Bayern Munich|       92773|   84|     51|\n",
      "|           Liverpool|       84782|   75|     53|\n",
      "|              Brazil|       41424|   49|     34|\n",
      "|              Huesca|        4384|    3|      1|\n",
      "+--------------------+------------+-----+-------+\n",
      "+--------------------+------------+-----------------+-------------------+\n",
      "|                name|total_passes|successful_passes|average_pass_length|\n",
      "+--------------------+------------+-----------------+-------------------+\n",
      "|RC Deportivo La C...|       22830|                0| 23.374639853758215|\n",
      "|              Russia|        3283|                0| 23.129901035516294|\n",
      "|              Sweden|        3998|                0| 23.250604548149077|\n",
      "| Paris Saint-Germain|       69070|                0|  18.04443229969423|\n",
      "|         Real Madrid|       38208|                0|  20.74248401499477|\n",
      "|   Australia Women's|        5503|                0| 21.394594451021263|\n",
      "|             Croatia|       10678|                0| 20.619056460601247|\n",
      "|               Italy|        4721|                0| 19.498921091188315|\n",
      "|               Spain|       12729|                0| 19.346434053362394|\n",
      "|           Barcelona|      368450|                0|  19.22845850466661|\n",
      "|     Atlético Madrid|       30916|                0| 20.464728653706175|\n",
      "|       Saint-Étienne|       18628|                0|  21.78064906624222|\n",
      "|             Ukraine|        2825|                0| 19.831274767681418|\n",
      "|      Norway Women's|        5871|                0|  20.11093701827628|\n",
      "|            OGC Nice|       25393|                0| 19.809473479342337|\n",
      "|         Switzerland|        6867|                0|   21.0079867699432|\n",
      "|       Bayern Munich|       28291|                0| 20.072624196128814|\n",
      "|           Liverpool|       24037|                0| 21.209274183781258|\n",
      "|              Brazil|       11434|                0| 19.311184458405634|\n",
      "|              Huesca|        1130|                0|  21.20501845938053|\n",
      "+--------------------+------------+-----------------+-------------------+\n",
      "+--------------------+-----------+-----+-------------------+\n",
      "|                name|total_shots|goals|         average_xg|\n",
      "+--------------------+-----------+-----+-------------------+\n",
      "|RC Deportivo La C...|        599|   54|0.08842692555292155|\n",
      "|              Russia|         84|   19| 0.1735599493809524|\n",
      "|              Sweden|        113|   12|0.11672322799115045|\n",
      "| Paris Saint-Germain|       1432|  235| 0.1372349543159218|\n",
      "|         Real Madrid|       1188|  165|0.11112756293114477|\n",
      "|   Australia Women's|        169|   26|0.17111182068047334|\n",
      "|             Croatia|        252|   41|0.14898584952579363|\n",
      "|               Italy|        162|   20|0.12083803762037039|\n",
      "|               Spain|        254|   33|0.16116301172795272|\n",
      "|           Barcelona|       8401| 1369| 0.1272561378999286|\n",
      "|     Atlético Madrid|        794|   96|0.10559926075188919|\n",
      "|       Saint-Étienne|        457|   41| 0.0960289787621444|\n",
      "|             Ukraine|         51|    6|0.11620367922549019|\n",
      "|      Norway Women's|        167|   19|0.11529909982335328|\n",
      "|            OGC Nice|        440|   57|0.11155968899522725|\n",
      "|         Switzerland|        169|   24|  0.138794889495858|\n",
      "|       Bayern Munich|        717|   84|0.11934606878019519|\n",
      "|           Liverpool|        725|   75|0.09671102536524136|\n",
      "|              Brazil|        485|   49|0.11163215857711342|\n",
      "|              Huesca|         19|    3| 0.1975805927894737|\n",
      "+--------------------+-----------+-----+-------------------+\n",
      "+--------------------+-----------+-----+\n",
      "|                name|total_fouls|cards|\n",
      "+--------------------+-----------+-----+\n",
      "|RC Deportivo La C...|        725|   92|\n",
      "|              Russia|        140|   12|\n",
      "|              Sweden|        180|   16|\n",
      "| Paris Saint-Germain|       1044|  113|\n",
      "|         Real Madrid|       1222|  163|\n",
      "|   Australia Women's|        110|    6|\n",
      "|             Croatia|        283|   23|\n",
      "|               Italy|        131|   11|\n",
      "|               Spain|        161|   10|\n",
      "|           Barcelona|       6876|  823|\n",
      "|     Atlético Madrid|       1248|  172|\n",
      "|       Saint-Étienne|        642|   70|\n",
      "|             Ukraine|         50|    2|\n",
      "|      Norway Women's|        124|   10|\n",
      "|            OGC Nice|        550|   70|\n",
      "|         Switzerland|        195|   25|\n",
      "|       Bayern Munich|        484|   52|\n",
      "|           Liverpool|        597|   64|\n",
      "|              Brazil|        322|   19|\n",
      "|              Huesca|         45|    5|\n",
      "+--------------------+-----------+-----+\n"
     ]
    },
    {
     "ename": "AnalysisException",
     "evalue": "[UNRESOLVED_COLUMN.WITH_SUGGESTION] A column or function parameter with name `events`.`team`.`name` cannot be resolved. Did you mean one of the following? [`name`, `name`, `total_possession_events`].;\n'Aggregate ['events.team.name], ['events.team.name, sum(total_possession_events#4393L) AS total_possession_events#4405L]\n+- Aggregate [events#3783.team.name, events#3783.possession_team.name], [events#3783.team.name AS name#4396, events#3783.possession_team.name AS name#4397, count(1) AS total_possession_events#4393L]\n   +- Project [struct(50_50, 50_50#3609, bad_behaviour, bad_behaviour#3610, ball_receipt, ball_receipt#3611, ball_recovery, ball_recovery#3612, block, block#3613, carry, carry#3614, clearance, clearance#3615, counterpress, counterpress#3616, dribble, dribble#3617, duel, duel#3618, duration, duration#3619, foul_committed, foul_committed#3620, ... 64 more fields) AS events#3783, match_id#3738]\n      +- Project [50_50#3609, bad_behaviour#3610, ball_receipt#3611, ball_recovery#3612, block#3613, carry#3614, clearance#3615, counterpress#3616, dribble#3617, duel#3618, duration#3619, foul_committed#3620, foul_won#3621, goalkeeper#3622, half_end#3623, half_start#3624, id#3625, index#3626L, injury_stoppage#3627, interception#3628, location#3629, minute#3630L, miscontrol#3631, off_camera#3632, ... 20 more fields]\n         +- Project [50_50#3609, bad_behaviour#3610, ball_receipt#3611, ball_recovery#3612, block#3613, carry#3614, clearance#3615, counterpress#3616, dribble#3617, duel#3618, duration#3619, foul_committed#3620, foul_won#3621, goalkeeper#3622, half_end#3623, half_start#3624, id#3625, index#3626L, injury_stoppage#3627, interception#3628, location#3629, minute#3630L, miscontrol#3631, off_camera#3632, ... 19 more fields]\n            +- Relation [50_50#3609,bad_behaviour#3610,ball_receipt#3611,ball_recovery#3612,block#3613,carry#3614,clearance#3615,counterpress#3616,dribble#3617,duel#3618,duration#3619,foul_committed#3620,foul_won#3621,goalkeeper#3622,half_end#3623,half_start#3624,id#3625,index#3626L,injury_stoppage#3627,interception#3628,location#3629,minute#3630L,miscontrol#3631,off_camera#3632,... 18 more fields] json\n",
     "output_type": "error",
     "traceback": [
      "\u001B[1;31m---------------------------------------------------------------------------\u001B[0m",
      "\u001B[1;31mAnalysisException\u001B[0m                         Traceback (most recent call last)",
      "Cell \u001B[1;32mIn[86], line 51\u001B[0m\n\u001B[0;32m     48\u001B[0m foul_analysis\u001B[38;5;241m.\u001B[39mshow()\n\u001B[0;32m     50\u001B[0m \u001B[38;5;66;03m# 8. Possession Analysis\u001B[39;00m\n\u001B[1;32m---> 51\u001B[0m possession_analysis \u001B[38;5;241m=\u001B[39m \u001B[43mevents_df\u001B[49m\u001B[38;5;241;43m.\u001B[39;49m\u001B[43mgroupBy\u001B[49m\u001B[43m(\u001B[49m\u001B[38;5;124;43m\"\u001B[39;49m\u001B[38;5;124;43mevents.team.name\u001B[39;49m\u001B[38;5;124;43m\"\u001B[39;49m\u001B[43m,\u001B[49m\u001B[43m \u001B[49m\u001B[38;5;124;43m\"\u001B[39;49m\u001B[38;5;124;43mevents.possession_team.name\u001B[39;49m\u001B[38;5;124;43m\"\u001B[39;49m\u001B[43m)\u001B[49m\u001B[38;5;241;43m.\u001B[39;49m\u001B[43magg\u001B[49m\u001B[43m(\u001B[49m\n\u001B[0;32m     52\u001B[0m \u001B[43m    \u001B[49m\u001B[43mcount\u001B[49m\u001B[43m(\u001B[49m\u001B[38;5;124;43m\"\u001B[39;49m\u001B[38;5;124;43m*\u001B[39;49m\u001B[38;5;124;43m\"\u001B[39;49m\u001B[43m)\u001B[49m\u001B[38;5;241;43m.\u001B[39;49m\u001B[43malias\u001B[49m\u001B[43m(\u001B[49m\u001B[38;5;124;43m\"\u001B[39;49m\u001B[38;5;124;43mtotal_possession_events\u001B[39;49m\u001B[38;5;124;43m\"\u001B[39;49m\u001B[43m)\u001B[49m\n\u001B[0;32m     53\u001B[0m \u001B[43m)\u001B[49m\u001B[38;5;241;43m.\u001B[39;49m\u001B[43mgroupBy\u001B[49m\u001B[43m(\u001B[49m\u001B[38;5;124;43m\"\u001B[39;49m\u001B[38;5;124;43mevents.team.name\u001B[39;49m\u001B[38;5;124;43m\"\u001B[39;49m\u001B[43m)\u001B[49m\u001B[38;5;241;43m.\u001B[39;49m\u001B[43magg\u001B[49m\u001B[43m(\u001B[49m\n\u001B[0;32m     54\u001B[0m \u001B[43m    \u001B[49m\u001B[43m_sum\u001B[49m\u001B[43m(\u001B[49m\u001B[38;5;124;43m\"\u001B[39;49m\u001B[38;5;124;43mtotal_possession_events\u001B[39;49m\u001B[38;5;124;43m\"\u001B[39;49m\u001B[43m)\u001B[49m\u001B[38;5;241;43m.\u001B[39;49m\u001B[43malias\u001B[49m\u001B[43m(\u001B[49m\u001B[38;5;124;43m\"\u001B[39;49m\u001B[38;5;124;43mtotal_possession_events\u001B[39;49m\u001B[38;5;124;43m\"\u001B[39;49m\u001B[43m)\u001B[49m\n\u001B[0;32m     55\u001B[0m \u001B[43m)\u001B[49m\n\u001B[0;32m     56\u001B[0m possession_analysis\u001B[38;5;241m.\u001B[39mshow()\n",
      "File \u001B[1;32m~\\anaconda3\\envs\\ma_bda\\lib\\site-packages\\pyspark\\sql\\group.py:186\u001B[0m, in \u001B[0;36mGroupedData.agg\u001B[1;34m(self, *exprs)\u001B[0m\n\u001B[0;32m    184\u001B[0m     \u001B[38;5;28;01massert\u001B[39;00m \u001B[38;5;28mall\u001B[39m(\u001B[38;5;28misinstance\u001B[39m(c, Column) \u001B[38;5;28;01mfor\u001B[39;00m c \u001B[38;5;129;01min\u001B[39;00m exprs), \u001B[38;5;124m\"\u001B[39m\u001B[38;5;124mall exprs should be Column\u001B[39m\u001B[38;5;124m\"\u001B[39m\n\u001B[0;32m    185\u001B[0m     exprs \u001B[38;5;241m=\u001B[39m cast(Tuple[Column, \u001B[38;5;241m.\u001B[39m\u001B[38;5;241m.\u001B[39m\u001B[38;5;241m.\u001B[39m], exprs)\n\u001B[1;32m--> 186\u001B[0m     jdf \u001B[38;5;241m=\u001B[39m \u001B[38;5;28;43mself\u001B[39;49m\u001B[38;5;241;43m.\u001B[39;49m\u001B[43m_jgd\u001B[49m\u001B[38;5;241;43m.\u001B[39;49m\u001B[43magg\u001B[49m\u001B[43m(\u001B[49m\u001B[43mexprs\u001B[49m\u001B[43m[\u001B[49m\u001B[38;5;241;43m0\u001B[39;49m\u001B[43m]\u001B[49m\u001B[38;5;241;43m.\u001B[39;49m\u001B[43m_jc\u001B[49m\u001B[43m,\u001B[49m\u001B[43m \u001B[49m\u001B[43m_to_seq\u001B[49m\u001B[43m(\u001B[49m\u001B[38;5;28;43mself\u001B[39;49m\u001B[38;5;241;43m.\u001B[39;49m\u001B[43msession\u001B[49m\u001B[38;5;241;43m.\u001B[39;49m\u001B[43m_sc\u001B[49m\u001B[43m,\u001B[49m\u001B[43m \u001B[49m\u001B[43m[\u001B[49m\u001B[43mc\u001B[49m\u001B[38;5;241;43m.\u001B[39;49m\u001B[43m_jc\u001B[49m\u001B[43m \u001B[49m\u001B[38;5;28;43;01mfor\u001B[39;49;00m\u001B[43m \u001B[49m\u001B[43mc\u001B[49m\u001B[43m \u001B[49m\u001B[38;5;129;43;01min\u001B[39;49;00m\u001B[43m \u001B[49m\u001B[43mexprs\u001B[49m\u001B[43m[\u001B[49m\u001B[38;5;241;43m1\u001B[39;49m\u001B[43m:\u001B[49m\u001B[43m]\u001B[49m\u001B[43m]\u001B[49m\u001B[43m)\u001B[49m\u001B[43m)\u001B[49m\n\u001B[0;32m    187\u001B[0m \u001B[38;5;28;01mreturn\u001B[39;00m DataFrame(jdf, \u001B[38;5;28mself\u001B[39m\u001B[38;5;241m.\u001B[39msession)\n",
      "File \u001B[1;32m~\\anaconda3\\envs\\ma_bda\\lib\\site-packages\\py4j\\java_gateway.py:1322\u001B[0m, in \u001B[0;36mJavaMember.__call__\u001B[1;34m(self, *args)\u001B[0m\n\u001B[0;32m   1316\u001B[0m command \u001B[38;5;241m=\u001B[39m proto\u001B[38;5;241m.\u001B[39mCALL_COMMAND_NAME \u001B[38;5;241m+\u001B[39m\\\n\u001B[0;32m   1317\u001B[0m     \u001B[38;5;28mself\u001B[39m\u001B[38;5;241m.\u001B[39mcommand_header \u001B[38;5;241m+\u001B[39m\\\n\u001B[0;32m   1318\u001B[0m     args_command \u001B[38;5;241m+\u001B[39m\\\n\u001B[0;32m   1319\u001B[0m     proto\u001B[38;5;241m.\u001B[39mEND_COMMAND_PART\n\u001B[0;32m   1321\u001B[0m answer \u001B[38;5;241m=\u001B[39m \u001B[38;5;28mself\u001B[39m\u001B[38;5;241m.\u001B[39mgateway_client\u001B[38;5;241m.\u001B[39msend_command(command)\n\u001B[1;32m-> 1322\u001B[0m return_value \u001B[38;5;241m=\u001B[39m \u001B[43mget_return_value\u001B[49m\u001B[43m(\u001B[49m\n\u001B[0;32m   1323\u001B[0m \u001B[43m    \u001B[49m\u001B[43manswer\u001B[49m\u001B[43m,\u001B[49m\u001B[43m \u001B[49m\u001B[38;5;28;43mself\u001B[39;49m\u001B[38;5;241;43m.\u001B[39;49m\u001B[43mgateway_client\u001B[49m\u001B[43m,\u001B[49m\u001B[43m \u001B[49m\u001B[38;5;28;43mself\u001B[39;49m\u001B[38;5;241;43m.\u001B[39;49m\u001B[43mtarget_id\u001B[49m\u001B[43m,\u001B[49m\u001B[43m \u001B[49m\u001B[38;5;28;43mself\u001B[39;49m\u001B[38;5;241;43m.\u001B[39;49m\u001B[43mname\u001B[49m\u001B[43m)\u001B[49m\n\u001B[0;32m   1325\u001B[0m \u001B[38;5;28;01mfor\u001B[39;00m temp_arg \u001B[38;5;129;01min\u001B[39;00m temp_args:\n\u001B[0;32m   1326\u001B[0m     \u001B[38;5;28;01mif\u001B[39;00m \u001B[38;5;28mhasattr\u001B[39m(temp_arg, \u001B[38;5;124m\"\u001B[39m\u001B[38;5;124m_detach\u001B[39m\u001B[38;5;124m\"\u001B[39m):\n",
      "File \u001B[1;32m~\\anaconda3\\envs\\ma_bda\\lib\\site-packages\\pyspark\\errors\\exceptions\\captured.py:185\u001B[0m, in \u001B[0;36mcapture_sql_exception.<locals>.deco\u001B[1;34m(*a, **kw)\u001B[0m\n\u001B[0;32m    181\u001B[0m converted \u001B[38;5;241m=\u001B[39m convert_exception(e\u001B[38;5;241m.\u001B[39mjava_exception)\n\u001B[0;32m    182\u001B[0m \u001B[38;5;28;01mif\u001B[39;00m \u001B[38;5;129;01mnot\u001B[39;00m \u001B[38;5;28misinstance\u001B[39m(converted, UnknownException):\n\u001B[0;32m    183\u001B[0m     \u001B[38;5;66;03m# Hide where the exception came from that shows a non-Pythonic\u001B[39;00m\n\u001B[0;32m    184\u001B[0m     \u001B[38;5;66;03m# JVM exception message.\u001B[39;00m\n\u001B[1;32m--> 185\u001B[0m     \u001B[38;5;28;01mraise\u001B[39;00m converted \u001B[38;5;28;01mfrom\u001B[39;00m \u001B[38;5;28;01mNone\u001B[39;00m\n\u001B[0;32m    186\u001B[0m \u001B[38;5;28;01melse\u001B[39;00m:\n\u001B[0;32m    187\u001B[0m     \u001B[38;5;28;01mraise\u001B[39;00m\n",
      "\u001B[1;31mAnalysisException\u001B[0m: [UNRESOLVED_COLUMN.WITH_SUGGESTION] A column or function parameter with name `events`.`team`.`name` cannot be resolved. Did you mean one of the following? [`name`, `name`, `total_possession_events`].;\n'Aggregate ['events.team.name], ['events.team.name, sum(total_possession_events#4393L) AS total_possession_events#4405L]\n+- Aggregate [events#3783.team.name, events#3783.possession_team.name], [events#3783.team.name AS name#4396, events#3783.possession_team.name AS name#4397, count(1) AS total_possession_events#4393L]\n   +- Project [struct(50_50, 50_50#3609, bad_behaviour, bad_behaviour#3610, ball_receipt, ball_receipt#3611, ball_recovery, ball_recovery#3612, block, block#3613, carry, carry#3614, clearance, clearance#3615, counterpress, counterpress#3616, dribble, dribble#3617, duel, duel#3618, duration, duration#3619, foul_committed, foul_committed#3620, ... 64 more fields) AS events#3783, match_id#3738]\n      +- Project [50_50#3609, bad_behaviour#3610, ball_receipt#3611, ball_recovery#3612, block#3613, carry#3614, clearance#3615, counterpress#3616, dribble#3617, duel#3618, duration#3619, foul_committed#3620, foul_won#3621, goalkeeper#3622, half_end#3623, half_start#3624, id#3625, index#3626L, injury_stoppage#3627, interception#3628, location#3629, minute#3630L, miscontrol#3631, off_camera#3632, ... 20 more fields]\n         +- Project [50_50#3609, bad_behaviour#3610, ball_receipt#3611, ball_recovery#3612, block#3613, carry#3614, clearance#3615, counterpress#3616, dribble#3617, duel#3618, duration#3619, foul_committed#3620, foul_won#3621, goalkeeper#3622, half_end#3623, half_start#3624, id#3625, index#3626L, injury_stoppage#3627, interception#3628, location#3629, minute#3630L, miscontrol#3631, off_camera#3632, ... 19 more fields]\n            +- Relation [50_50#3609,bad_behaviour#3610,ball_receipt#3611,ball_recovery#3612,block#3613,carry#3614,clearance#3615,counterpress#3616,dribble#3617,duel#3618,duration#3619,foul_committed#3620,foul_won#3621,goalkeeper#3622,half_end#3623,half_start#3624,id#3625,index#3626L,injury_stoppage#3627,interception#3628,location#3629,minute#3630L,miscontrol#3631,off_camera#3632,... 18 more fields] json\n"
     ]
    }
   ],
   "source": [
    "from pyspark.sql import SparkSession\n",
    "from pyspark.sql.functions import col, explode, count, sum as _sum, avg, when\n",
    "# 1. Total Number of Events per Match\n",
    "total_events_per_match = events_df.groupBy(\"match_id\").count()\n",
    "total_events_per_match.show()\n",
    "\n",
    "# 2. Event Distribution by Type\n",
    "event_distribution = events_df.groupBy(\"events.type.name\").count()\n",
    "event_distribution.show()\n",
    "\n",
    "# 3. Player Performance Metrics\n",
    "player_metrics = events_df.groupBy(\"events.player.name\").agg(\n",
    "    count(\"*\").alias(\"total_events\"),\n",
    "    count(when(col(\"events.shot.outcome.name\") == \"Goal\", True)).alias(\"goals\"),\n",
    "    count(when(col(\"events.pass.goal_assist\") == True, True)).alias(\"assists\")\n",
    ")\n",
    "player_metrics.show()\n",
    "\n",
    "# 4. Team Performance Metrics\n",
    "team_metrics = events_df.groupBy(\"events.team.name\").agg(\n",
    "    count(\"*\").alias(\"total_events\"),\n",
    "    count(when(col(\"events.shot.outcome.name\") == \"Goal\", True)).alias(\"goals\"),\n",
    "    count(when(col(\"events.pass.goal_assist\") == True, True)).alias(\"assists\")\n",
    ")\n",
    "team_metrics.show()\n",
    "\n",
    "# 5. Pass Analysis\n",
    "pass_analysis = events_df.filter(col(\"events.type.name\") == \"Pass\").groupBy(\"events.team.name\").agg(\n",
    "    count(\"*\").alias(\"total_passes\"),\n",
    "    count(when(col(\"events.pass.outcome.name\") == \"Complete\", True)).alias(\"successful_passes\"),\n",
    "    avg(col(\"events.pass.length\")).alias(\"average_pass_length\")\n",
    ")\n",
    "pass_analysis.show()\n",
    "\n",
    "# 6. Shot Analysis\n",
    "shot_analysis = events_df.filter(col(\"events.type.name\") == \"Shot\").groupBy(\"events.team.name\").agg(\n",
    "    count(\"*\").alias(\"total_shots\"),\n",
    "    count(when(col(\"events.shot.outcome.name\") == \"Goal\", True)).alias(\"goals\"),\n",
    "    avg(col(\"events.shot.statsbomb_xg\")).alias(\"average_xg\")\n",
    ")\n",
    "shot_analysis.show()\n",
    "\n",
    "# 7. Foul Analysis\n",
    "foul_analysis = events_df.filter(col(\"events.type.name\") == \"Foul Committed\").groupBy(\"events.team.name\").agg(\n",
    "    count(\"*\").alias(\"total_fouls\"),\n",
    "    count(when(col(\"events.foul_committed.card.name\").isNotNull(), True)).alias(\"cards\")\n",
    ")\n",
    "foul_analysis.show()\n",
    "\n",
    "# 8. Possession Analysis\n",
    "possession_analysis = events_df.groupBy(\"events.team.name\", \"events.possession_team.name\").agg(\n",
    "    count(\"*\").alias(\"total_possession_events\")\n",
    ").groupBy(\"events.team.name\").agg(\n",
    "    _sum(\"total_possession_events\").alias(\"total_possession_events\")\n",
    ")\n",
    "possession_analysis.show()\n"
   ],
   "metadata": {
    "collapsed": false,
    "ExecuteTime": {
     "end_time": "2024-05-19T21:35:01.539748600Z",
     "start_time": "2024-05-19T21:32:28.609364Z"
    }
   },
   "id": "e02d9f0c82db9cb2",
   "execution_count": 86
  },
  {
   "cell_type": "code",
   "outputs": [],
   "source": [
    "from pyspark.sql.functions import col, count, when, ceil\n",
    "\n",
    "# Create a helper column to bin the time into 10-minute intervals\n",
    "events_distributions_df = events_df.withColumn(\"time_bin\", ceil(col(\"events.minute\") / 10))\n",
    "\n",
    "# Distribution of fouls during a match in 10-minute bins\n",
    "fouls_distribution = events_distributions_df.filter(col(\"events.foul_committed\").isNotNull()) \\\n",
    "    .groupBy(\"time_bin\").count() \\\n",
    "    .withColumnRenamed(\"count\", \"fouls_count\")\n",
    "\n",
    "# Distribution of goals during a match in 10-minute bins\n",
    "goals_distribution = events_distributions_df.filter(col(\"events.shot.outcome.name\") == \"Goal\") \\\n",
    "    .groupBy(\"time_bin\").count() \\\n",
    "    .withColumnRenamed(\"count\", \"goals_count\")"
   ],
   "metadata": {
    "collapsed": false
   },
   "id": "1768361834b38a2b",
   "execution_count": null
  },
  {
   "cell_type": "code",
   "outputs": [
    {
     "name": "stdout",
     "output_type": "stream",
     "text": [
      "+--------+-----------+\n",
      "|time_bin|fouls_count|\n",
      "+--------+-----------+\n",
      "|       0|        144|\n",
      "|       7|       3224|\n",
      "|       6|       3228|\n",
      "|       9|       3350|\n",
      "|       5|       3320|\n",
      "|       1|       2072|\n",
      "|      10|       1027|\n",
      "|       3|       2806|\n",
      "|      12|         37|\n",
      "|       8|       3181|\n",
      "|      11|         26|\n",
      "|       2|       2569|\n",
      "|       4|       3027|\n",
      "|      13|          3|\n",
      "+--------+-----------+\n"
     ]
    }
   ],
   "source": [
    "\n",
    "# Show the results\n",
    "fouls_distribution.show()"
   ],
   "metadata": {
    "collapsed": false,
    "ExecuteTime": {
     "end_time": "2024-05-20T08:34:20.425371200Z",
     "start_time": "2024-05-20T08:34:08.416629200Z"
    }
   },
   "id": "b2f1d94387f5a7c2",
   "execution_count": 23
  },
  {
   "cell_type": "code",
   "outputs": [
    {
     "name": "stdout",
     "output_type": "stream",
     "text": [
      "+--------+-----------+\n",
      "|time_bin|goals_count|\n",
      "+--------+-----------+\n",
      "|       0|         32|\n",
      "|       7|       1033|\n",
      "|       6|       1073|\n",
      "|       9|       1081|\n",
      "|       5|       1099|\n",
      "|       1|        794|\n",
      "|      10|        345|\n",
      "|       3|        904|\n",
      "|      12|         28|\n",
      "|       8|        985|\n",
      "|      11|         13|\n",
      "|       2|        853|\n",
      "|       4|        938|\n",
      "|      13|        148|\n",
      "|      14|         10|\n",
      "+--------+-----------+\n"
     ]
    }
   ],
   "source": [
    "goals_distribution.show()"
   ],
   "metadata": {
    "collapsed": false,
    "ExecuteTime": {
     "end_time": "2024-05-20T08:34:58.501781Z",
     "start_time": "2024-05-20T08:34:45.888465600Z"
    }
   },
   "id": "a8825d0bbc1cd7b6",
   "execution_count": 24
  },
  {
   "cell_type": "markdown",
   "source": [
    "### 1.5 Three-sixty folder"
   ],
   "metadata": {
    "collapsed": false
   },
   "id": "bb9486bcbb295731"
  },
  {
   "cell_type": "code",
   "outputs": [
    {
     "name": "stdout",
     "output_type": "stream",
     "text": [
      "root\n",
      " |-- _corrupt_record: string (nullable = true)\n",
      " |-- event_uuid: string (nullable = true)\n",
      " |-- freeze_frame: array (nullable = true)\n",
      " |    |-- element: struct (containsNull = true)\n",
      " |    |    |-- actor: boolean (nullable = true)\n",
      " |    |    |-- keeper: boolean (nullable = true)\n",
      " |    |    |-- location: array (nullable = true)\n",
      " |    |    |    |-- element: double (containsNull = true)\n",
      " |    |    |-- teammate: boolean (nullable = true)\n",
      " |-- visible_area: array (nullable = true)\n",
      " |    |-- element: double (containsNull = true)\n"
     ]
    }
   ],
   "source": [
    "root_dir = \"../open-data/data/three-sixty\"\n",
    "\n",
    "three_sixty_df = spark.read.json(f\"{root_dir}/*.json\", multiLine=True)\n",
    "three_sixty_df.printSchema()"
   ],
   "metadata": {
    "collapsed": false,
    "ExecuteTime": {
     "end_time": "2024-05-20T07:55:55.378029700Z",
     "start_time": "2024-05-20T07:55:50.295053800Z"
    }
   },
   "id": "70b8c1290a3f94f0",
   "execution_count": 5
  },
  {
   "cell_type": "code",
   "outputs": [
    {
     "name": "stdout",
     "output_type": "stream",
     "text": [
      "+---------------+--------------------+--------------------+--------------------+\n",
      "|_corrupt_record|          event_uuid|        freeze_frame|        visible_area|\n",
      "+---------------+--------------------+--------------------+--------------------+\n",
      "|           NULL|ea57ee78-a4ef-4d6...|[{false, false, [...|[120.0, 80.0, 0.0...|\n",
      "|           NULL|66655fd3-2764-453...|[{true, false, [3...|[0.0, 80.0, 0.0, ...|\n",
      "|           NULL|3765b81d-d184-4af...|[{true, false, [3...|[0.0, 80.0, 0.0, ...|\n",
      "|           NULL|fdcb6ded-f8be-4fa...|[{true, false, [3...|[2.18856831879949...|\n",
      "|           NULL|0549751b-8a46-49b...|[{false, false, [...|[13.952798163308,...|\n",
      "|           NULL|be62c43a-ce82-494...|[{false, false, [...|[13.952798163308,...|\n",
      "|           NULL|428d98d8-ece0-4c7...|[{false, false, [...|[37.5456955242079...|\n",
      "|           NULL|897fdc30-b4bd-421...|[{false, false, [...|[26.5122636276366...|\n",
      "|           NULL|a61d0e74-ff36-443...|[{false, false, [...|[51.4761931728235...|\n",
      "|           NULL|19338014-eecb-421...|[{false, false, [...|[51.4761931728235...|\n",
      "|           NULL|cbcc682b-c424-4c0...|[{false, true, [9...|[32.4396925897185...|\n",
      "|           NULL|8fbd66a2-42c6-4b0...|[{false, false, [...|[55.729133596494,...|\n",
      "|           NULL|20769d9d-058a-417...|[{false, false, [...|[55.729133596494,...|\n",
      "|           NULL|645067a9-13fd-4ac...|[{false, false, [...|[57.49081265088, ...|\n",
      "|           NULL|43fb4a58-b1c2-4c3...|[{false, false, [...|[56.6417005889112...|\n",
      "|           NULL|d05bf8be-4246-426...|[{false, false, [...|[56.6417005889112...|\n",
      "|           NULL|d3b472ca-7a4c-469...|[{false, false, [...|[56.5748406063134...|\n",
      "|           NULL|2ae67574-d72d-467...|[{true, false, [5...|[30.597882966376,...|\n",
      "|           NULL|2f2cc588-8af3-4d8...|[{true, false, [5...|[30.597882966376,...|\n",
      "|           NULL|824af147-205a-48b...|[{false, false, [...|[120.0, 80.0, 20....|\n",
      "+---------------+--------------------+--------------------+--------------------+\n"
     ]
    }
   ],
   "source": [
    "three_sixty_df.show()"
   ],
   "metadata": {
    "collapsed": false,
    "ExecuteTime": {
     "end_time": "2024-05-20T07:56:08.843175400Z",
     "start_time": "2024-05-20T07:56:06.551403300Z"
    }
   },
   "id": "35838445e2aac0d7",
   "execution_count": 6
  },
  {
   "cell_type": "code",
   "outputs": [
    {
     "name": "stderr",
     "output_type": "stream",
     "text": [
      "IOPub data rate exceeded.\n",
      "The Jupyter server will temporarily stop sending output\n",
      "to the client in order to avoid crashing it.\n",
      "To change this limit, set the config variable\n",
      "`--ServerApp.iopub_data_rate_limit`.\n",
      "\n",
      "Current values:\n",
      "ServerApp.iopub_data_rate_limit=1000000.0 (bytes/sec)\n",
      "ServerApp.rate_limit_window=3.0 (secs)\n",
      "\n"
     ]
    }
   ],
   "source": [
    "# Step 1: Map - Filter and project required columns\n",
    "mapped_df = three_sixty_df.filter(col('_corrupt_record').isNotNull()).select('_corrupt_record', 'event_uuid')\n",
    "\n",
    "# Step 2: Reduce - Perform aggregation\n",
    "aggregated_df = mapped_df.groupBy('_corrupt_record').agg(count('event_uuid').alias('count'))\n",
    "\n",
    "# Show the results\n",
    "aggregated_df.show(truncate=False)"
   ],
   "metadata": {
    "collapsed": false,
    "ExecuteTime": {
     "end_time": "2024-05-20T08:08:38.216058100Z",
     "start_time": "2024-05-20T08:08:28.556836Z"
    }
   },
   "id": "e037a58d7e03a233",
   "execution_count": 16
  },
  {
   "cell_type": "code",
   "outputs": [],
   "source": [
    "import os\n",
    "from pyspark.sql import SparkSession\n",
    "from pyspark.sql.utils import AnalysisException\n",
    "\n",
    "\n",
    "# Directory containing the JSON files\n",
    "root_dir = \"../open-data/data/three-sixty\"\n",
    "\n",
    "# Get the list of JSON files in the directory\n",
    "json_files = [os.path.join(root_dir, file) for file in os.listdir(root_dir) if file.endswith('.json')]\n",
    "\n",
    "# Function to check for corrupted records in a file\n",
    "def find_corrupted_records(file_path):\n",
    "    try:\n",
    "        # Try to read the JSON file\n",
    "        df = spark.read.json(file_path, multiLine=True)\n",
    "        # If successful, return None\n",
    "        return None\n",
    "    except AnalysisException as e:\n",
    "        # If an AnalysisException occurs, return the file path and the error message\n",
    "        return file_path, str(e)\n",
    "    except Exception as e:\n",
    "        # If any other Exception occurs, return the file path and the error message\n",
    "        return file_path, str(e)\n",
    "\n",
    "# Iterate through the files and check for corrupted records\n",
    "for json_file in json_files:\n",
    "    result = find_corrupted_records(json_file)\n",
    "    if result:\n",
    "        file_path, error_message = result\n",
    "        print(f\"Error processing file: {file_path}\")\n",
    "        print(f\"Error message: {error_message}\")\n",
    "\n"
   ],
   "metadata": {
    "collapsed": false,
    "ExecuteTime": {
     "end_time": "2024-05-20T07:54:56.258380400Z",
     "start_time": "2024-05-20T07:54:38.235933100Z"
    }
   },
   "id": "d3505b29e3fb8b92",
   "execution_count": 3
  }
 ],
 "metadata": {
  "kernelspec": {
   "display_name": "Python 3",
   "language": "python",
   "name": "python3"
  },
  "language_info": {
   "codemirror_mode": {
    "name": "ipython",
    "version": 2
   },
   "file_extension": ".py",
   "mimetype": "text/x-python",
   "name": "python",
   "nbconvert_exporter": "python",
   "pygments_lexer": "ipython2",
   "version": "2.7.6"
  }
 },
 "nbformat": 4,
 "nbformat_minor": 5
}
