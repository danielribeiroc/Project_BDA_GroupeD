{
 "cells": [
  {
   "cell_type": "markdown",
   "id": "1969b8836c819ece",
   "metadata": {
    "collapsed": false
   },
   "source": [
    "# Eda PySpark Statbombs : Matches"
   ]
  },
  {
   "cell_type": "markdown",
   "id": "d06a3b9a7fa9c30d",
   "metadata": {
    "collapsed": false
   },
   "source": [
    "### Imports"
   ]
  },
  {
   "cell_type": "code",
   "execution_count": 48,
   "id": "9e22d9c528dcf1ff",
   "metadata": {
    "collapsed": false,
    "ExecuteTime": {
     "end_time": "2024-06-01T15:20:23.183176700Z",
     "start_time": "2024-06-01T15:20:23.093042200Z"
    }
   },
   "outputs": [],
   "source": [
    "from pyspark.sql import SparkSession\n",
    "from pyspark.sql.functions import avg,col, to_date, dayofmonth, month, count, year, sum as _sum, min as _min, max as _max \n",
    "import pandas as pd\n",
    "from eda_functions import count_features\n",
    "import plotly.express as px\n",
    "import plotly.graph_objects as go\n",
    "import os\n",
    "import sys"
   ]
  },
  {
   "cell_type": "code",
   "outputs": [],
   "source": [
    "os.environ['PYSPARK_PYTHON'] = sys.executable\n",
    "os.environ['PYSPARK_DRIVER_PYTHON'] = sys.executable\n",
    "# Read JSON files into DataFrames\n",
    "root_dir = \"../../open-data/data/matches\""
   ],
   "metadata": {
    "collapsed": true,
    "jupyter": {
     "outputs_hidden": true
    },
    "ExecuteTime": {
     "end_time": "2024-06-01T15:20:23.200178200Z",
     "start_time": "2024-06-01T15:20:23.185179Z"
    }
   },
   "id": "initial_id",
   "execution_count": 49
  },
  {
   "cell_type": "markdown",
   "id": "f17470e56b95b27d",
   "metadata": {
    "collapsed": false
   },
   "source": [
    "## Part 1 : Data Loading and Preprocessing"
   ]
  },
  {
   "cell_type": "code",
   "execution_count": 50,
   "id": "e4e0ea6955e0629d",
   "metadata": {
    "collapsed": false,
    "ExecuteTime": {
     "end_time": "2024-06-01T15:20:23.225177400Z",
     "start_time": "2024-06-01T15:20:23.200178200Z"
    }
   },
   "outputs": [],
   "source": [
    "# Create a Spark session\n",
    "spark = SparkSession.builder.appName(\"Football Data Analysis : Matches\").getOrCreate()"
   ]
  },
  {
   "cell_type": "code",
   "execution_count": 51,
   "id": "b0e0ec75ccabe8b7",
   "metadata": {
    "collapsed": false,
    "ExecuteTime": {
     "end_time": "2024-06-01T15:20:24.308132600Z",
     "start_time": "2024-06-01T15:20:23.214179400Z"
    }
   },
   "outputs": [
    {
     "name": "stdout",
     "output_type": "stream",
     "text": [
      "root\n",
      " |-- away_score: long (nullable = true)\n",
      " |-- away_team: struct (nullable = true)\n",
      " |    |-- away_team_gender: string (nullable = true)\n",
      " |    |-- away_team_group: string (nullable = true)\n",
      " |    |-- away_team_id: long (nullable = true)\n",
      " |    |-- away_team_name: string (nullable = true)\n",
      " |    |-- country: struct (nullable = true)\n",
      " |    |    |-- id: long (nullable = true)\n",
      " |    |    |-- name: string (nullable = true)\n",
      " |    |-- managers: array (nullable = true)\n",
      " |    |    |-- element: struct (containsNull = true)\n",
      " |    |    |    |-- country: struct (nullable = true)\n",
      " |    |    |    |    |-- id: long (nullable = true)\n",
      " |    |    |    |    |-- name: string (nullable = true)\n",
      " |    |    |    |-- dob: string (nullable = true)\n",
      " |    |    |    |-- id: long (nullable = true)\n",
      " |    |    |    |-- name: string (nullable = true)\n",
      " |    |    |    |-- nickname: string (nullable = true)\n",
      " |-- competition: struct (nullable = true)\n",
      " |    |-- competition_id: long (nullable = true)\n",
      " |    |-- competition_name: string (nullable = true)\n",
      " |    |-- country_name: string (nullable = true)\n",
      " |-- competition_stage: struct (nullable = true)\n",
      " |    |-- id: long (nullable = true)\n",
      " |    |-- name: string (nullable = true)\n",
      " |-- home_score: long (nullable = true)\n",
      " |-- home_team: struct (nullable = true)\n",
      " |    |-- country: struct (nullable = true)\n",
      " |    |    |-- id: long (nullable = true)\n",
      " |    |    |-- name: string (nullable = true)\n",
      " |    |-- home_team_gender: string (nullable = true)\n",
      " |    |-- home_team_group: string (nullable = true)\n",
      " |    |-- home_team_id: long (nullable = true)\n",
      " |    |-- home_team_name: string (nullable = true)\n",
      " |    |-- managers: array (nullable = true)\n",
      " |    |    |-- element: struct (containsNull = true)\n",
      " |    |    |    |-- country: struct (nullable = true)\n",
      " |    |    |    |    |-- id: long (nullable = true)\n",
      " |    |    |    |    |-- name: string (nullable = true)\n",
      " |    |    |    |-- dob: string (nullable = true)\n",
      " |    |    |    |-- id: long (nullable = true)\n",
      " |    |    |    |-- name: string (nullable = true)\n",
      " |    |    |    |-- nickname: string (nullable = true)\n",
      " |-- kick_off: string (nullable = true)\n",
      " |-- last_updated: string (nullable = true)\n",
      " |-- last_updated_360: string (nullable = true)\n",
      " |-- match_date: string (nullable = true)\n",
      " |-- match_id: long (nullable = true)\n",
      " |-- match_status: string (nullable = true)\n",
      " |-- match_status_360: string (nullable = true)\n",
      " |-- match_week: long (nullable = true)\n",
      " |-- metadata: struct (nullable = true)\n",
      " |    |-- data_version: string (nullable = true)\n",
      " |    |-- shot_fidelity_version: string (nullable = true)\n",
      " |    |-- xy_fidelity_version: string (nullable = true)\n",
      " |-- referee: struct (nullable = true)\n",
      " |    |-- country: struct (nullable = true)\n",
      " |    |    |-- id: long (nullable = true)\n",
      " |    |    |-- name: string (nullable = true)\n",
      " |    |-- id: long (nullable = true)\n",
      " |    |-- name: string (nullable = true)\n",
      " |-- season: struct (nullable = true)\n",
      " |    |-- season_id: long (nullable = true)\n",
      " |    |-- season_name: string (nullable = true)\n",
      " |-- stadium: struct (nullable = true)\n",
      " |    |-- country: struct (nullable = true)\n",
      " |    |    |-- id: long (nullable = true)\n",
      " |    |    |-- name: string (nullable = true)\n",
      " |    |-- id: long (nullable = true)\n",
      " |    |-- name: string (nullable = true)\n"
     ]
    }
   ],
   "source": [
    "matches_df = spark.read.json(f\"{root_dir}/**/*.json\", multiLine=True)\n",
    "matches_df.printSchema()"
   ]
  },
  {
   "cell_type": "code",
   "outputs": [
    {
     "name": "stdout",
     "output_type": "stream",
     "text": [
      "18 features at level 0\n",
      "28 features at level 1\n",
      "18 features at level 2\n",
      "4 features at level 3\n"
     ]
    }
   ],
   "source": [
    "# Count features at each level \n",
    "count_features(matches_df.schema)"
   ],
   "metadata": {
    "collapsed": false,
    "ExecuteTime": {
     "end_time": "2024-06-01T15:20:24.344279800Z",
     "start_time": "2024-06-01T15:20:24.307137500Z"
    }
   },
   "id": "5376a71b78ceae52",
   "execution_count": 52
  },
  {
   "cell_type": "code",
   "outputs": [
    {
     "name": "stdout",
     "output_type": "stream",
     "text": [
      "Number of JSON files read: 72\n"
     ]
    }
   ],
   "source": [
    "\"\"\"\n",
    "# Get the list of JSON files\n",
    "json_files = spark.sparkContext.wholeTextFiles(root_dir + \"/**/*.json\").keys().collect()\n",
    "# Count the number of JSON files\n",
    "num_files = len(json_files)\n",
    "print(f\"Number of JSON files read: {num_files}\")\n",
    "\n",
    "--> This way worked for the other folders but not for this one because the json files are nested in subdirectories and not at the same level as the root directory.\n",
    "\"\"\"\n",
    "# Function to count JSON files\n",
    "def count_json_files(directory):\n",
    "    count = 0\n",
    "    for dirpath, _, filenames in os.walk(directory):\n",
    "        for filename in filenames:\n",
    "            if filename.endswith(\".json\"):\n",
    "                count += 1\n",
    "    return count\n",
    "\n",
    "# Count the JSON files in the directory and its subdirectories\n",
    "num_files = count_json_files(root_dir)\n",
    "print(f\"Number of JSON files read: {num_files}\")"
   ],
   "metadata": {
    "collapsed": false,
    "ExecuteTime": {
     "end_time": "2024-06-01T15:25:18.070328800Z",
     "start_time": "2024-06-01T15:25:18.048330700Z"
    }
   },
   "id": "7da5dabc93ff20fc",
   "execution_count": 55
  },
  {
   "cell_type": "code",
   "outputs": [],
   "source": [
    "# Get the list of JSON files\n",
    "json_files = spark.sparkContext.wholeTextFiles(root_dir + \"/**/*.json\").keys().collect()\n",
    "# Count the number of JSON files\n",
    "num_files = len(json_files)\n",
    "print(f\"Number of JSON files read: {num_files}\")"
   ],
   "metadata": {
    "collapsed": false,
    "ExecuteTime": {
     "start_time": "2024-06-01T15:20:24.537197800Z"
    }
   },
   "id": "66b8e27a22aa0728",
   "execution_count": null
  },
  {
   "cell_type": "code",
   "execution_count": null,
   "id": "ee1643f851dc97ea",
   "metadata": {
    "collapsed": false,
    "ExecuteTime": {
     "end_time": "2024-06-01T15:20:24.552282200Z",
     "start_time": "2024-06-01T15:20:24.539282100Z"
    }
   },
   "outputs": [],
   "source": [
    "# Convert match_date to date type \n",
    "matches_df = matches_df.withColumn(\"match_date\", to_date(col(\"match_date\"), \"yyyy-MM-dd\"))\n",
    "\n",
    "# Extract day and month from match_date\n",
    "matches_df = matches_df.withColumn(\"day\", dayofmonth(col(\"match_date\"))) \\\n",
    "    .withColumn(\"year\", year(col(\"match_date\"))) \\\n",
    "    .withColumn(\"month\", month(col(\"match_date\")))"
   ]
  },
  {
   "cell_type": "markdown",
   "id": "f0ef68904e45a978",
   "metadata": {
    "collapsed": false
   },
   "source": [
    "# Part 2: Data Analysis"
   ]
  },
  {
   "cell_type": "code",
   "execution_count": null,
   "id": "436c73679222a866",
   "metadata": {
    "collapsed": false,
    "ExecuteTime": {
     "start_time": "2024-06-01T15:20:24.541280900Z"
    }
   },
   "outputs": [],
   "source": [
    "# Select the season column\n",
    "seasons_df = matches_df.select(\"season.season_name\").distinct()\n",
    "\n",
    "# Count the number of unique seasons\n",
    "num_seasons = seasons_df.count()\n",
    "\n",
    "seasons_df.orderBy(\"season_name\").show(num_seasons,truncate=False)"
   ]
  },
  {
   "cell_type": "code",
   "execution_count": null,
   "id": "c3eb66efeefc7cc9",
   "metadata": {
    "collapsed": false,
    "ExecuteTime": {
     "start_time": "2024-06-01T15:20:24.543281500Z"
    }
   },
   "outputs": [],
   "source": [
    "# Count the number of matches in the dataset\n",
    "num_matches = matches_df.count()\n",
    "date_df = matches_df.select(col(\"match_date\"))\n",
    "\n",
    "# Compute number of different competitions\n",
    "num_competitions = matches_df.select(\"competition.competition_name\").distinct().count()\n",
    "\n",
    "# Compute the minimum and maximum dates\n",
    "date_range = date_df.agg(\n",
    "    _min(\"match_date\").alias(\"begin_date\"),\n",
    "    _max(\"match_date\").alias(\"end_date\")\n",
    ").collect()\n",
    "\n",
    "# Extract the begin and end dates\n",
    "begin_date = date_range[0][\"begin_date\"]\n",
    "end_date = date_range[0][\"end_date\"]\n",
    "\n",
    "# Display the results\n",
    "print(f\"Dates of matches goes from {begin_date} to {end_date}\")\n",
    "print(f\"Number of matches: {num_matches}\")\n",
    "print(f\"Number of seasons: {num_seasons}\")\n",
    "print(f\"Number of competitions: {num_competitions}\")"
   ]
  },
  {
   "cell_type": "markdown",
   "id": "1fcccddec5beb061",
   "metadata": {
    "collapsed": false
   },
   "source": [
    "### Number of Matches per Year in our Data"
   ]
  },
  {
   "cell_type": "code",
   "execution_count": null,
   "id": "c6f5f62bb2a4a5ff",
   "metadata": {
    "collapsed": false,
    "ExecuteTime": {
     "start_time": "2024-06-01T15:20:24.546282Z"
    }
   },
   "outputs": [],
   "source": [
    "matches_per_year_df = matches_df.groupBy(\"year\").agg(count(\"match_id\").alias(\"number_of_matches\"))\n",
    "\n",
    "matches_per_year_df.show(matches_per_year_df.count(),truncate=False)"
   ]
  },
  {
   "cell_type": "code",
   "execution_count": null,
   "id": "5c3aea7320e5d32",
   "metadata": {
    "collapsed": false,
    "ExecuteTime": {
     "start_time": "2024-06-01T15:20:24.548280900Z"
    }
   },
   "outputs": [],
   "source": [
    "# Collect the results\n",
    "matches_per_year_list = matches_per_year_df.orderBy(\"year\").collect()\n",
    "\n",
    "# Extract data into lists\n",
    "years = [row['year'] for row in matches_per_year_list]\n",
    "number_of_matches = [row['number_of_matches'] for row in matches_per_year_list]\n",
    "\n",
    "# Create a dictionary from the collected data\n",
    "data = {\n",
    "    'year': years,\n",
    "    'number_of_matches': number_of_matches\n",
    "}\n",
    "\n",
    "# Create the figure\n",
    "fig = px.line(data, x='year', y='number_of_matches', title='Number of Matches in our Data per Year', markers=True)\n",
    "\n",
    "# Update layout for legends\n",
    "fig.update_layout(\n",
    "    xaxis_title='Year',\n",
    "    yaxis_title='Number of Matches',\n",
    "    template='plotly_white'\n",
    ")\n",
    "\n",
    "fig.show()"
   ]
  },
  {
   "cell_type": "markdown",
   "id": "d3bb0a69dfc652a",
   "metadata": {
    "collapsed": false
   },
   "source": [
    "### Some stats about the begin / end date of the matches"
   ]
  },
  {
   "cell_type": "code",
   "execution_count": null,
   "id": "699ab6ea227fb37e",
   "metadata": {
    "collapsed": false,
    "ExecuteTime": {
     "start_time": "2024-06-01T15:20:24.550282800Z"
    }
   },
   "outputs": [],
   "source": [
    "# Extract necessary fields\n",
    "season_dates_df = matches_df.select(\n",
    "    col(\"season.season_name\").alias(\"season_name\"),\n",
    "    col(\"match_date\")\n",
    ")\n",
    "\n",
    "# Group by season name and compute the minimum and maximum match dates for each season\n",
    "season_date_range = season_dates_df.groupBy(\"season_name\").agg(\n",
    "    _min(\"match_date\").alias(\"begin_date\"),\n",
    "    _max(\"match_date\").alias(\"end_date\")\n",
    ")\n",
    "\n",
    "# Show the results\n",
    "season_date_range.show(truncate=False)"
   ]
  },
  {
   "cell_type": "code",
   "execution_count": null,
   "id": "e13cb7e8aca0eb99",
   "metadata": {
    "collapsed": false,
    "ExecuteTime": {
     "end_time": "2024-06-01T15:20:24.554282Z",
     "start_time": "2024-06-01T15:20:24.553282Z"
    }
   },
   "outputs": [],
   "source": [
    "# Group by day and month and count the number of matches\n",
    "matches_per_day_month_df = matches_df.groupBy(\"day\", \"month\").agg(count(\"*\").alias(\"number_of_matches\"))\n",
    "\n",
    "matches_per_day_month_df.show()"
   ]
  },
  {
   "cell_type": "markdown",
   "id": "901bef13c3976fcf",
   "metadata": {
    "collapsed": false
   },
   "source": [
    "### Some stats about the begin / end date of the matches"
   ]
  },
  {
   "cell_type": "code",
   "execution_count": null,
   "id": "e5deabc1b38e72f3",
   "metadata": {
    "collapsed": false,
    "ExecuteTime": {
     "end_time": "2024-06-01T15:20:24.593398300Z",
     "start_time": "2024-06-01T15:20:24.555283300Z"
    }
   },
   "outputs": [],
   "source": [
    "# Group by day and month and count the number of matches\n",
    "matches_per_day_month_df = matches_df.groupBy(\"day\", \"month\").agg(count(\"*\").alias(\"number_of_matches\"))\n",
    "\n",
    "# Collect the results\n",
    "matches_per_day_month_list = matches_per_day_month_df.collect()\n",
    "\n",
    "# Convert to a Dictionary\n",
    "matches_dict = {(row['month'], row['day']): row['number_of_matches'] for row in matches_per_day_month_list}\n",
    "\n",
    "# Create a DataFrame from the dictionary\n",
    "matches_data = pd.DataFrame(list(matches_dict.items()), columns=['month_day', 'number_of_matches'])\n",
    "\n",
    "# Split month_day into separate month and day columns\n",
    "matches_data[['month', 'day']] = pd.DataFrame(matches_data['month_day'].tolist(), index=matches_data.index)\n",
    "\n",
    "# Create a date range for a typical year (e.g. here with 2024)\n",
    "matches_data['date'] = pd.to_datetime('2024-' + matches_data['month'].astype(str) + '-' + matches_data['day'].astype(str))\n",
    "\n",
    "# Set date as the index\n",
    "matches_data.set_index('date', inplace=True)\n",
    "\n",
    "# Create a heatmap\n",
    "fig = px.density_heatmap(\n",
    "    matches_data,\n",
    "    x=matches_data.index.day,\n",
    "    y=matches_data.index.month,\n",
    "    z='number_of_matches',\n",
    "    color_continuous_scale='Blues',\n",
    "    nbinsx=31,\n",
    "    nbinsy=12,\n",
    "    labels={'x': 'Day', 'y': 'Month', 'z': 'Number of Matches'}\n",
    ")\n",
    "\n",
    "# Update layout to add legends\n",
    "fig.update_layout(\n",
    "    title='Number of Matches for Each Day of the Year (Summed Across Multiple Years)',\n",
    "    xaxis_title='Day',\n",
    "    yaxis_title='Month',\n",
    "    yaxis=dict(tickmode='array', tickvals=list(range(1, 13)), ticktext=[\n",
    "        'January', 'February', 'March', 'April', 'May', 'June',\n",
    "        'July', 'August', 'September', 'October', 'November', 'December'\n",
    "    ]),\n",
    "    coloraxis_colorbar=dict(title='Number of Matches')\n",
    ")\n",
    "\n",
    "fig.show()"
   ]
  },
  {
   "cell_type": "markdown",
   "id": "8756d737cf4cb0c",
   "metadata": {
    "collapsed": false
   },
   "source": [
    "### Analysis about home / away scores"
   ]
  },
  {
   "cell_type": "code",
   "execution_count": null,
   "id": "25bfffc20ee91c6",
   "metadata": {
    "collapsed": false,
    "ExecuteTime": {
     "start_time": "2024-06-01T15:20:24.558281800Z"
    }
   },
   "outputs": [],
   "source": [
    "# Select only the home_score and away_score columns\n",
    "scores_matches_df = matches_df.select(\"home_score\", \"away_score\")\n",
    "\n",
    "# Compute means\n",
    "mean_scores = scores_matches_df.agg(\n",
    "    {\"home_score\": \"mean\", \"away_score\": \"mean\"}\n",
    ").withColumnRenamed(\"avg(home_score)\", \"avg_home_score\").withColumnRenamed(\"avg(away_score)\", \"avg_away_score\")\n",
    "\n",
    "mean_scores.show()"
   ]
  },
  {
   "cell_type": "code",
   "execution_count": null,
   "id": "b69a93477dfc4449",
   "metadata": {
    "collapsed": false,
    "ExecuteTime": {
     "start_time": "2024-06-01T15:20:24.559342900Z"
    }
   },
   "outputs": [],
   "source": [
    "# Compute the average home and away scores for each year\n",
    "average_scores_per_year_df = matches_df.groupBy(\"year\").agg(\n",
    "    avg(\"home_score\").alias(\"average_home_score\"),\n",
    "    avg(\"away_score\").alias(\"average_away_score\")\n",
    ")\n",
    "\n",
    "# Collect the results\n",
    "average_scores_per_year_list = average_scores_per_year_df.orderBy(\"year\").collect()\n",
    "\n",
    "# Extract data into lists\n",
    "years = [row['year'] for row in average_scores_per_year_list]\n",
    "average_home_scores = [row['average_home_score'] for row in average_scores_per_year_list]\n",
    "average_away_scores = [row['average_away_score'] for row in average_scores_per_year_list]\n",
    "\n",
    "\n",
    "fig = go.Figure()\n",
    "\n",
    "# Add the average home scores line\n",
    "fig.add_trace(go.Scatter(\n",
    "    x=years,\n",
    "    y=average_home_scores,\n",
    "    mode='lines+markers',\n",
    "    name='Average Home Score'\n",
    "))\n",
    "\n",
    "# Add the average away scores line\n",
    "fig.add_trace(go.Scatter(\n",
    "    x=years,\n",
    "    y=average_away_scores,\n",
    "    mode='lines+markers',\n",
    "    name='Average Away Score'\n",
    "))\n",
    "\n",
    "# Update layout to add legends\n",
    "fig.update_layout(\n",
    "    title='Evolution of Average Home and Away Scores Over the Years',\n",
    "    xaxis_title='Year',\n",
    "    yaxis_title='Average Score',\n",
    "    legend_title='Score Type',\n",
    "    template='plotly_white'\n",
    ")\n",
    "\n",
    "fig.show()"
   ]
  },
  {
   "cell_type": "markdown",
   "id": "a0bc3332f466c0e5",
   "metadata": {
    "collapsed": false
   },
   "source": [
    "### Check which competition and season are complete"
   ]
  },
  {
   "cell_type": "code",
   "execution_count": null,
   "id": "b79fc3e6e1aa62a1",
   "metadata": {
    "collapsed": false,
    "ExecuteTime": {
     "start_time": "2024-06-01T15:20:24.561344100Z"
    }
   },
   "outputs": [],
   "source": [
    "# Extract necessary fields\n",
    "selected_matches_df = matches_df.select(\n",
    "    col(\"competition.competition_name\").alias(\"competition_name\"),\n",
    "    col(\"season.season_name\").alias(\"season_name\"),\n",
    "    col(\"home_team.home_team_gender\").alias(\"competition_gender\"),\n",
    "    col(\"home_score\"),\n",
    "    col(\"away_score\")\n",
    ")\n",
    "\n",
    "# Group by competition name, season name, and genders\n",
    "matches_per_league_season = selected_matches_df.groupBy(\n",
    "    \"competition_name\", \"season_name\", \"competition_gender\"\n",
    ").agg(\n",
    "    count(\"*\").alias(\"number_of_matches\"),\n",
    "    _sum(\"home_score\").alias(\"total_home_goals\"),\n",
    "    _sum(\"away_score\").alias(\"total_away_goals\"),\n",
    "    (_sum(\"home_score\") + _sum(\"away_score\")).alias(\"total_goals\")\n",
    ")\n",
    "\n",
    "# Sort by number of matches in descending order\n",
    "matches_per_league_season_sorted = matches_per_league_season.orderBy(\"number_of_matches\", ascending=False)\n",
    "\n",
    "matches_per_league_season_sorted.show(num_seasons,truncate=False)"
   ]
  },
  {
   "cell_type": "markdown",
   "id": "9cb6a7a42987f639",
   "metadata": {
    "collapsed": false
   },
   "source": [
    "According to the previous results, we can see that we only have the complete data for the following competitions:\n",
    "- FIFA World Cup 2018\n",
    "- Women's World Cup 2023\n",
    "- FIFA World Cup 2022\n",
    "- Série A 2015/16\n",
    "- Premier League 2015/16\n",
    "- La Liga 2015/16\n",
    "- Bundesliga 2015/16\n",
    "- Ligue 1 2015/16\n",
    "\n",
    "Those ones are the one which seemed to be complete and that we have verified that we have all the data for the matches.\n",
    "However we have too much data to verify this for all competitions and seasons and any variable to check if the data is complete or not."
   ]
  },
  {
   "cell_type": "markdown",
   "id": "4519c119c014d42c",
   "metadata": {
    "collapsed": false
   },
   "source": [
    "### Analysis for competitions and seasons"
   ]
  },
  {
   "cell_type": "code",
   "execution_count": null,
   "id": "675850f119d0cd95",
   "metadata": {
    "collapsed": false,
    "ExecuteTime": {
     "start_time": "2024-06-01T15:20:24.562346600Z"
    }
   },
   "outputs": [],
   "source": [
    "matches_per_league_season_sorted = matches_per_league_season_sorted.withColumn(\n",
    "    \"avg_goals_per_match\",\n",
    "    col(\"total_goals\") / col(\"number_of_matches\")\n",
    ")\n",
    "\n",
    "# Show the sorted DataFrame\n",
    "matches_per_league_season_sorted = matches_per_league_season_sorted.select(\"competition_name\",\"season_name\", \"competition_gender\",\"avg_goals_per_match\").orderBy(col(\"avg_goals_per_match\").desc())\n",
    "\n",
    "matches_per_league_season_sorted.show(num_seasons,truncate=False)"
   ]
  },
  {
   "cell_type": "code",
   "execution_count": null,
   "id": "2ee074eab84daff6",
   "metadata": {
    "collapsed": false,
    "ExecuteTime": {
     "start_time": "2024-06-01T15:20:24.564345900Z"
    }
   },
   "outputs": [],
   "source": [
    "matches_per_league_list = matches_per_league_season_sorted.select(\"competition_name\", \"season_name\", \"avg_goals_per_match\").limit(10).collect()\n",
    "\n",
    "# Extract data into lists\n",
    "competition_names = [row['competition_name'] for row in matches_per_league_list]\n",
    "season_names = [row['season_name'] for row in matches_per_league_list]\n",
    "avg_goals_per_match = [row['avg_goals_per_match'] for row in matches_per_league_list]"
   ]
  },
  {
   "cell_type": "code",
   "execution_count": null,
   "id": "8792526e8a2a0081",
   "metadata": {
    "collapsed": false,
    "ExecuteTime": {
     "start_time": "2024-06-01T15:20:24.565345200Z"
    }
   },
   "outputs": [],
   "source": [
    "# Create a plotly bar chart\n",
    "fig = go.Figure()\n",
    "\n",
    "# Add the bar chart\n",
    "fig.add_trace(go.Bar(\n",
    "    x=[f\"{comp} {season}\" for comp, season in zip(competition_names, season_names)],\n",
    "    y=avg_goals_per_match,\n",
    "    name='Average Goals per Match'\n",
    "))\n",
    "\n",
    "# Update layout to add legends\n",
    "fig.update_layout(\n",
    "    title='Average Goals per Match by Competition and Season',\n",
    "    xaxis_title='Competition and Season',\n",
    "    yaxis_title='Average Goals per Match',\n",
    "    xaxis_tickangle=-45,\n",
    "    template='plotly_white'\n",
    ")\n",
    "\n",
    "fig.show()"
   ]
  },
  {
   "cell_type": "markdown",
   "id": "4aacf65415d29f5e",
   "metadata": {
    "collapsed": false
   },
   "source": [
    "### Analysis for complete competitions and seasons"
   ]
  },
  {
   "cell_type": "code",
   "execution_count": null,
   "id": "b6c2a10003577892",
   "metadata": {
    "collapsed": false,
    "ExecuteTime": {
     "start_time": "2024-06-01T15:20:24.567347900Z"
    }
   },
   "outputs": [],
   "source": [
    "# List of competitions and seasons complete\n",
    "competitions_and_seasons = [\n",
    "    (\"FIFA World Cup\", \"2018\"),\n",
    "    (\"Women's World Cup\", \"2023\"),\n",
    "    (\"FIFA World Cup\", \"2022\"),\n",
    "    (\"Serie A\", \"2015/2016\"),\n",
    "    (\"Premier League\", \"2015/2016\"),\n",
    "    (\"La Liga\", \"2015/2016\"),\n",
    "    (\"1. Bundesliga\", \"2015/2016\"),\n",
    "    (\"Ligue 1\", \"2015/2016\")\n",
    "]\n",
    "\n",
    "# Filter the DataFrame to include only the specified competitions and seasons\n",
    "filtered_df = matches_per_league_season_sorted.filter(\n",
    "    (col(\"competition_name\") == \"FIFA World Cup\") & (col(\"season_name\") == \"2018\") |\n",
    "    (col(\"competition_name\") == \"Women's World Cup\") & (col(\"season_name\") == \"2023\") |\n",
    "    (col(\"competition_name\") == \"FIFA World Cup\") & (col(\"season_name\") == \"2022\") |\n",
    "    (col(\"competition_name\") == \"Serie A\") & (col(\"season_name\") == \"2015/2016\") |\n",
    "    (col(\"competition_name\") == \"Premier League\") & (col(\"season_name\") == \"2015/2016\") |\n",
    "    (col(\"competition_name\") == \"La Liga\") & (col(\"season_name\") == \"2015/2016\") |\n",
    "    (col(\"competition_name\") == \"1. Bundesliga\") & (col(\"season_name\") == \"2015/2016\") |\n",
    "    (col(\"competition_name\") == \"Ligue 1\") & (col(\"season_name\") == \"2015/2016\")\n",
    ")\n",
    "\n",
    "# Collect the results\n",
    "filtered_list = filtered_df.select(\"competition_name\", \"season_name\", \"avg_goals_per_match\").collect()\n",
    "\n",
    "# Extract data into lists\n",
    "competition_names = [row['competition_name'] for row in filtered_list]\n",
    "season_names = [row['season_name'] for row in filtered_list]\n",
    "avg_goals_per_match = [row['avg_goals_per_match'] for row in filtered_list]\n"
   ]
  },
  {
   "cell_type": "code",
   "execution_count": null,
   "id": "c9ac5efe94ca2128",
   "metadata": {
    "collapsed": false,
    "ExecuteTime": {
     "start_time": "2024-06-01T15:20:24.568348Z"
    }
   },
   "outputs": [],
   "source": [
    "fig = go.Figure()\n",
    "\n",
    "# Add the bar chart\n",
    "fig.add_trace(go.Bar(\n",
    "    x=[f\"{comp} {season}\" for comp, season in zip(competition_names, season_names)],\n",
    "    y=avg_goals_per_match,\n",
    "    name='Average Goals per Match'\n",
    "))\n",
    "\n",
    "# Update layout to add legends\n",
    "fig.update_layout(\n",
    "    title='Average Goals per Match by Competition and Season (Filtered)',\n",
    "    xaxis_title='Competition and Season',\n",
    "    yaxis_title='Average Goals per Match',\n",
    "    xaxis_tickangle=-45,\n",
    "    template='plotly_white'\n",
    ")\n",
    "\n",
    "fig.show()"
   ]
  }
 ],
 "metadata": {
  "kernelspec": {
   "display_name": "Python 3 (ipykernel)",
   "language": "python",
   "name": "python3"
  },
  "language_info": {
   "codemirror_mode": {
    "name": "ipython",
    "version": 3
   },
   "file_extension": ".py",
   "mimetype": "text/x-python",
   "name": "python",
   "nbconvert_exporter": "python",
   "pygments_lexer": "ipython3",
   "version": "3.8.19"
  }
 },
 "nbformat": 4,
 "nbformat_minor": 5
}
