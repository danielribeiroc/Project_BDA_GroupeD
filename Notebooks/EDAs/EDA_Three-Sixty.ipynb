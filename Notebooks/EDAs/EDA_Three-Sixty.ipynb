{
 "cells": [
  {
   "cell_type": "markdown",
   "id": "1969b8836c819ece",
   "metadata": {
    "collapsed": false
   },
   "source": [
    "# Eda PySpark Statbombs : Three-Sixty"
   ]
  },
  {
   "cell_type": "markdown",
   "id": "d06a3b9a7fa9c30d",
   "metadata": {
    "collapsed": false
   },
   "source": [
    "### Imports"
   ]
  },
  {
   "cell_type": "code",
   "execution_count": 7,
   "id": "f203322092a4c94b",
   "metadata": {
    "collapsed": false,
    "ExecuteTime": {
     "end_time": "2024-05-31T17:06:39.291636Z",
     "start_time": "2024-05-31T17:06:39.232640200Z"
    }
   },
   "outputs": [],
   "source": [
    "import random \n",
    "import plotly.graph_objects as go\n",
    "from pyspark.sql import SparkSession\n",
    "from pyspark.sql.functions import col, explode\n",
    "from eda_functions import create_football_field_plotly"
   ]
  },
  {
   "cell_type": "code",
   "execution_count": 8,
   "id": "dbe7097e2ab84714",
   "metadata": {
    "collapsed": false,
    "ExecuteTime": {
     "end_time": "2024-05-31T17:06:39.361634200Z",
     "start_time": "2024-05-31T17:06:39.300636700Z"
    }
   },
   "outputs": [],
   "source": [
    "# Define the schema for the matches dataset\n",
    "three_sixty_file_path = \"../../open-data/data/three-sixty\""
   ]
  },
  {
   "cell_type": "markdown",
   "source": [
    "## Part 1 : Data Loading and Preprocessing"
   ],
   "metadata": {
    "collapsed": false
   },
   "id": "f17470e56b95b27d"
  },
  {
   "cell_type": "code",
   "outputs": [],
   "source": [
    "# Create a Spark session\n",
    "spark = SparkSession.builder.appName(\"Football Data Analysis : Three-Sixty\").getOrCreate()"
   ],
   "metadata": {
    "collapsed": false,
    "ExecuteTime": {
     "end_time": "2024-05-31T17:06:39.413633100Z",
     "start_time": "2024-05-31T17:06:39.346635100Z"
    }
   },
   "id": "e4e0ea6955e0629d",
   "execution_count": 9
  },
  {
   "cell_type": "code",
   "outputs": [
    {
     "name": "stdout",
     "output_type": "stream",
     "text": [
      "root\n",
      " |-- _corrupt_record: string (nullable = true)\n",
      " |-- event_uuid: string (nullable = true)\n",
      " |-- freeze_frame: array (nullable = true)\n",
      " |    |-- element: struct (containsNull = true)\n",
      " |    |    |-- actor: boolean (nullable = true)\n",
      " |    |    |-- keeper: boolean (nullable = true)\n",
      " |    |    |-- location: array (nullable = true)\n",
      " |    |    |    |-- element: double (containsNull = true)\n",
      " |    |    |-- teammate: boolean (nullable = true)\n",
      " |-- visible_area: array (nullable = true)\n",
      " |    |-- element: double (containsNull = true)\n"
     ]
    }
   ],
   "source": [
    "# Read JSON files into DataFrames\n",
    "three_sixty_df = spark.read.json(three_sixty_file_path, multiLine=True)\n",
    "three_sixty_df.printSchema()"
   ],
   "metadata": {
    "collapsed": false,
    "ExecuteTime": {
     "end_time": "2024-05-31T17:06:49.568731200Z",
     "start_time": "2024-05-31T17:06:39.375634700Z"
    }
   },
   "id": "20ba35c7a5e355d5",
   "execution_count": 10
  },
  {
   "cell_type": "code",
   "execution_count": 11,
   "id": "960c1045804bbb38",
   "metadata": {
    "collapsed": false,
    "ExecuteTime": {
     "end_time": "2024-05-31T17:06:50.114727500Z",
     "start_time": "2024-05-31T17:06:49.573732700Z"
    }
   },
   "outputs": [
    {
     "name": "stdout",
     "output_type": "stream",
     "text": [
      "+-----------------------------------------------------------------------------------------------------------------------------------+\n",
      "|visible_area                                                                                                                       |\n",
      "+-----------------------------------------------------------------------------------------------------------------------------------+\n",
      "|[120.0, 80.0, 0.0, 80.0, 0.0, 77.9359903100536, 38.4846328988436, 0.0, 82.8377301424974, 0.0, 120.0, 77.6086776060678, 120.0, 80.0]|\n",
      "|[0.0, 80.0, 0.0, 68.3780973203674, 35.4551602560713, 0.0, 81.4593944743986, 0.0, 118.065295451212, 80.0, 0.0, 80.0]                |\n",
      "|[0.0, 80.0, 0.0, 68.3780973203674, 35.4551602560713, 0.0, 81.4593944743986, 0.0, 118.065295451212, 80.0, 0.0, 80.0]                |\n",
      "|[2.18856831879949, 80.0, 37.9809130991844, 0.0, 80.364694539173, 0.0, 114.450327068229, 80.0, 2.18856831879949, 80.0]              |\n",
      "|[13.952798163308, 80.0, 42.7269914891536, 0.0, 79.7772183462469, 0.0, 115.058567815729, 80.0, 13.952798163308, 80.0]               |\n",
      "+-----------------------------------------------------------------------------------------------------------------------------------+\n",
      "+----------------------------------------------------------------------------------------------------------------------------------------------------------------------------------------------------------------------------------------------------------------------------------------------------------------------------------------------------------------------------------------------------------------------------------------------------------------------------------------------------------------------------------------------------------------------------------------------------------------------------------------------------------------------------------------------------------------------------------------------------------------------------------------------------------------------------------------------------------------------------------------------------------------------------------------------------------------------------------------------------------------------------------------------------------------------------------------------------------------------------------------------------------------------------------------------------------------------------------------------------------------------------------------------------------+\n",
      "|freeze_frame                                                                                                                                                                                                                                                                                                                                                                                                                                                                                                                                                                                                                                                                                                                                                                                                                                                                                                                                                                                                                                                                                                                                                                                                                                                                                              |\n",
      "+----------------------------------------------------------------------------------------------------------------------------------------------------------------------------------------------------------------------------------------------------------------------------------------------------------------------------------------------------------------------------------------------------------------------------------------------------------------------------------------------------------------------------------------------------------------------------------------------------------------------------------------------------------------------------------------------------------------------------------------------------------------------------------------------------------------------------------------------------------------------------------------------------------------------------------------------------------------------------------------------------------------------------------------------------------------------------------------------------------------------------------------------------------------------------------------------------------------------------------------------------------------------------------------------------------+\n",
      "|[{false, false, [35.47745334898371, 34.656207868611105], true}, {false, false, [37.144458725959645, 49.94488074047073], true}, {false, false, [51.25626345977445, 61.67827167104722], true}, {false, false, [51.305644741380284, 39.79010368400317], true}, {false, false, [56.80341769520041, 27.801717415697837], true}, {false, false, [60.67431195598293, 18.9404168560458], true}, {false, false, [60.8822577299308, 0.12038321031842969], true}, {true, false, [61.0, 40.099998474121094], true}, {false, false, [61.014980028314106, 68.41570957931214], true}, {false, false, [61.11583070943972, 55.53894323920547], true}, {false, false, [61.68949983348338, 29.053277076931224], false}, {false, false, [64.13096996022861, 49.50584282854126], false}, {false, false, [65.43675083375624, 20.23412498103322], false}, {false, false, [65.60829682832903, 60.00144833151252], false}, {false, false, [73.14797355698636, 32.13611281709525], false}, {false, false, [76.34970649567757, 45.1267495290149], false}, {false, false, [81.52032613813375, 59.22170846480473], false}, {false, false, [82.09874094383662, 45.8291215013166], false}, {false, false, [82.4561129515586, 17.578420088507876], false}, {false, false, [84.22188928671994, 33.52328477707292], false}]                 |\n",
      "|[{true, false, [35.20000076293945, 33.29999923706055], true}, {false, false, [35.74244764957972, 48.47223220799931], true}, {false, false, [53.36335140823293, 57.89442527143716], true}, {false, false, [54.267441917761616, 38.90989278162075], true}, {false, false, [55.04641025680981, 32.13783607731398], false}, {false, false, [55.79193246681598, 25.933257366247716], true}, {false, false, [61.363543873308274, 46.54299968481291], false}, {false, false, [64.2783316532541, 18.061438367132027], false}, {false, false, [64.41321621947893, 66.46346247325324], false}, {false, false, [64.48000867052473, 39.503152561873236], true}, {false, false, [64.51203405657672, 19.394017720631645], true}, {false, false, [66.26987361766517, -0.4565350987427337], true}, {false, false, [66.5330893088851, 70.54508516781253], true}, {false, false, [67.14366188945579, 53.41718059694111], true}, {false, false, [71.05846506518458, 31.016269715142165], false}, {false, false, [76.07943339312145, 47.997684375849644], false}, {false, false, [79.24592584103718, 57.65900897953346], false}, {false, false, [80.42561254569222, 43.88968353877379], false}, {false, false, [80.87257710542825, 15.39821331653797], false}, {false, false, [81.43352324266016, 30.370583495811893], false}]|\n",
      "|[{true, false, [35.20000076293945, 33.29999923706055], true}, {false, false, [35.74244764957972, 48.47223220799931], true}, {false, false, [53.36335140823293, 57.89442527143716], true}, {false, false, [54.267441917761616, 38.90989278162075], true}, {false, false, [55.04641025680981, 32.13783607731398], false}, {false, false, [55.79193246681598, 25.933257366247716], true}, {false, false, [61.363543873308274, 46.54299968481291], false}, {false, false, [64.2783316532541, 18.061438367132027], false}, {false, false, [64.41321621947893, 66.46346247325324], false}, {false, false, [64.48000867052473, 39.503152561873236], true}, {false, false, [64.51203405657672, 19.394017720631645], true}, {false, false, [66.26987361766517, -0.4565350987427337], true}, {false, false, [66.5330893088851, 70.54508516781253], true}, {false, false, [67.14366188945579, 53.41718059694111], true}, {false, false, [71.05846506518458, 31.016269715142165], false}, {false, false, [76.07943339312145, 47.997684375849644], false}, {false, false, [79.24592584103718, 57.65900897953346], false}, {false, false, [80.42561254569222, 43.88968353877379], false}, {false, false, [80.87257710542825, 15.39821331653797], false}, {false, false, [81.43352324266016, 30.370583495811893], false}]|\n",
      "|[{true, false, [37.599998474121094, 33.79999923706055], true}, {false, false, [39.71961861977738, 50.44035395468043], true}, {false, false, [46.25211080672534, 32.39884670720095], false}, {false, false, [57.72444034807536, 24.241873393798294], true}, {false, false, [59.91848029280889, 39.791741989321814], true}, {false, false, [60.36734562263806, 60.38031450770593], true}, {false, false, [63.99404596429194, 45.12146365365409], false}, {false, false, [67.4402694104771, 17.67974769676149], false}, {false, false, [67.6022508675241, 61.99816182527583], false}, {false, false, [73.06082083408923, 26.529960409361777], true}, {false, false, [73.17445762913897, 40.61327077185495], true}, {false, false, [73.67147965606321, 3.5805500574728484], true}, {false, false, [74.56922228901915, 69.28735938573023], true}, {false, false, [74.82126112843588, 35.733008707312116], false}, {false, false, [76.43863985535644, 45.754156298447015], false}, {false, false, [76.66782045147218, 57.64773574076182], true}, {false, false, [81.03912501262568, 60.75759930487456], false}, {false, false, [83.3530985860721, 50.39769592458283], false}, {false, false, [83.3588981438368, 18.264678594349057], false}, {false, false, [83.46061231075319, 31.914938178563617], false}]    |\n",
      "|[{false, false, [39.858849190361866, 35.308856091412785], true}, {true, false, [44.20000076293945, 54.099998474121094], true}, {false, false, [46.374898614290075, 44.38633623826604], false}, {false, false, [59.8347236804298, 28.488130281274557], true}, {false, false, [60.82877043185216, 47.26776097534838], true}, {false, false, [62.99187147400001, 51.36013687110273], false}, {false, false, [63.97657971030894, 61.17382857430419], true}, {false, false, [69.39246490572582, 63.96382197339981], false}, {false, false, [70.32679741510438, 24.89748434435679], false}, {false, false, [76.33643878134478, 9.532469886136745], true}, {false, false, [76.78752232206207, 40.31481149172859], false}, {false, false, [78.0161485732326, 27.303549527930898], true}, {false, false, [79.26799918283903, 48.218281165428444], true}, {false, false, [79.48143545649573, 66.45831192254803], true}, {false, false, [80.0873351946174, 59.6105055431015], true}, {false, false, [80.20126156983007, 62.50067228517795], false}, {false, false, [80.57207022769487, 52.28202340358178], false}, {false, false, [83.26127272680316, 37.61452584636392], false}, {false, false, [83.45336411339926, 55.565150561249226], false}, {false, false, [83.49168893298457, 26.110278891267775], false}]    |\n",
      "+----------------------------------------------------------------------------------------------------------------------------------------------------------------------------------------------------------------------------------------------------------------------------------------------------------------------------------------------------------------------------------------------------------------------------------------------------------------------------------------------------------------------------------------------------------------------------------------------------------------------------------------------------------------------------------------------------------------------------------------------------------------------------------------------------------------------------------------------------------------------------------------------------------------------------------------------------------------------------------------------------------------------------------------------------------------------------------------------------------------------------------------------------------------------------------------------------------------------------------------------------------------------------------------------------------+\n"
     ]
    }
   ],
   "source": [
    "# Check main data fields\n",
    "three_sixty_df.select(\"visible_area\").show(5, truncate=False)\n",
    "three_sixty_df.select(\"freeze_frame\").show(5, truncate=False)"
   ]
  },
  {
   "cell_type": "markdown",
   "id": "91256ef3d42573cb",
   "metadata": {
    "collapsed": false
   },
   "source": [
    "## Part 2 : Data Analysis"
   ]
  },
  {
   "cell_type": "markdown",
   "id": "d2876021be53742b",
   "metadata": {
    "collapsed": false
   },
   "source": [
    "### Analysis of frames"
   ]
  },
  {
   "cell_type": "code",
   "execution_count": 13,
   "id": "72af2792115f20a1",
   "metadata": {
    "collapsed": false,
    "ExecuteTime": {
     "end_time": "2024-05-31T17:07:43.037772300Z",
     "start_time": "2024-05-31T17:07:41.206987200Z"
    }
   },
   "outputs": [
    {
     "data": {
      "application/vnd.plotly.v1+json": {
       "data": [
        {
         "marker": {
          "color": "black",
          "size": 8
         },
         "mode": "markers",
         "x": [
          60.0
         ],
         "y": [
          40.0
         ],
         "type": "scatter"
        },
        {
         "marker": {
          "color": "black",
          "size": 8
         },
         "mode": "markers",
         "x": [
          12,
          108
         ],
         "y": [
          40.0,
          40.0
         ],
         "type": "scatter"
        },
        {
         "fill": "toself",
         "line": {
          "color": "blue"
         },
         "mode": "lines",
         "x": [
          42.4826243227372,
          52.4096222273656,
          81.5633857505816,
          82.6588557465032,
          120.0,
          120.0,
          42.4826243227372,
          42.4826243227372
         ],
         "y": [
          80.0,
          6.08106651441811,
          0.0,
          0.0,
          75.0117592993792,
          80.0,
          80.0,
          80.0
         ],
         "type": "scatter"
        },
        {
         "marker": {
          "color": "turquoise",
          "size": 10
         },
         "mode": "markers",
         "name": "Teammates",
         "x": [
          48.64288599306127,
          51.601671394790614,
          52.27638900157763,
          63.41649899654128,
          65.20883122176173,
          68.5,
          69.39286307844122,
          76.53275419251366,
          82.2607047499852,
          83.6371441455166
         ],
         "y": [
          61.54813787686612,
          38.72910434851734,
          70.22214030914327,
          53.327876191738284,
          19.202262703837704,
          70.9000015258789,
          80.62103247220175,
          35.29807942189451,
          57.47094285811693,
          8.798364091998224
         ],
         "type": "scatter"
        },
        {
         "marker": {
          "color": "red",
          "size": 10
         },
         "mode": "markers",
         "name": "Opponents",
         "x": [
          58.47991046851711,
          62.96887295247582,
          66.68859809925303,
          67.4093679158536,
          69.46605053859369,
          72.22244383880434,
          78.96096162702563,
          83.67085984373341,
          84.07453484653321,
          84.86854883317062
         ],
         "y": [
          53.14004969304885,
          72.94867723130824,
          58.75424794063082,
          73.9512315891157,
          69.36054909048619,
          29.795606228651984,
          44.38914067464506,
          44.40856384624505,
          28.07063765996797,
          57.79605694547183
         ],
         "type": "scatter"
        }
       ],
       "layout": {
        "height": 800,
        "width": 1200,
        "template": {
         "data": {
          "histogram2dcontour": [
           {
            "type": "histogram2dcontour",
            "colorbar": {
             "outlinewidth": 0,
             "ticks": ""
            },
            "colorscale": [
             [
              0.0,
              "#0d0887"
             ],
             [
              0.1111111111111111,
              "#46039f"
             ],
             [
              0.2222222222222222,
              "#7201a8"
             ],
             [
              0.3333333333333333,
              "#9c179e"
             ],
             [
              0.4444444444444444,
              "#bd3786"
             ],
             [
              0.5555555555555556,
              "#d8576b"
             ],
             [
              0.6666666666666666,
              "#ed7953"
             ],
             [
              0.7777777777777778,
              "#fb9f3a"
             ],
             [
              0.8888888888888888,
              "#fdca26"
             ],
             [
              1.0,
              "#f0f921"
             ]
            ]
           }
          ],
          "choropleth": [
           {
            "type": "choropleth",
            "colorbar": {
             "outlinewidth": 0,
             "ticks": ""
            }
           }
          ],
          "histogram2d": [
           {
            "type": "histogram2d",
            "colorbar": {
             "outlinewidth": 0,
             "ticks": ""
            },
            "colorscale": [
             [
              0.0,
              "#0d0887"
             ],
             [
              0.1111111111111111,
              "#46039f"
             ],
             [
              0.2222222222222222,
              "#7201a8"
             ],
             [
              0.3333333333333333,
              "#9c179e"
             ],
             [
              0.4444444444444444,
              "#bd3786"
             ],
             [
              0.5555555555555556,
              "#d8576b"
             ],
             [
              0.6666666666666666,
              "#ed7953"
             ],
             [
              0.7777777777777778,
              "#fb9f3a"
             ],
             [
              0.8888888888888888,
              "#fdca26"
             ],
             [
              1.0,
              "#f0f921"
             ]
            ]
           }
          ],
          "heatmap": [
           {
            "type": "heatmap",
            "colorbar": {
             "outlinewidth": 0,
             "ticks": ""
            },
            "colorscale": [
             [
              0.0,
              "#0d0887"
             ],
             [
              0.1111111111111111,
              "#46039f"
             ],
             [
              0.2222222222222222,
              "#7201a8"
             ],
             [
              0.3333333333333333,
              "#9c179e"
             ],
             [
              0.4444444444444444,
              "#bd3786"
             ],
             [
              0.5555555555555556,
              "#d8576b"
             ],
             [
              0.6666666666666666,
              "#ed7953"
             ],
             [
              0.7777777777777778,
              "#fb9f3a"
             ],
             [
              0.8888888888888888,
              "#fdca26"
             ],
             [
              1.0,
              "#f0f921"
             ]
            ]
           }
          ],
          "heatmapgl": [
           {
            "type": "heatmapgl",
            "colorbar": {
             "outlinewidth": 0,
             "ticks": ""
            },
            "colorscale": [
             [
              0.0,
              "#0d0887"
             ],
             [
              0.1111111111111111,
              "#46039f"
             ],
             [
              0.2222222222222222,
              "#7201a8"
             ],
             [
              0.3333333333333333,
              "#9c179e"
             ],
             [
              0.4444444444444444,
              "#bd3786"
             ],
             [
              0.5555555555555556,
              "#d8576b"
             ],
             [
              0.6666666666666666,
              "#ed7953"
             ],
             [
              0.7777777777777778,
              "#fb9f3a"
             ],
             [
              0.8888888888888888,
              "#fdca26"
             ],
             [
              1.0,
              "#f0f921"
             ]
            ]
           }
          ],
          "contourcarpet": [
           {
            "type": "contourcarpet",
            "colorbar": {
             "outlinewidth": 0,
             "ticks": ""
            }
           }
          ],
          "contour": [
           {
            "type": "contour",
            "colorbar": {
             "outlinewidth": 0,
             "ticks": ""
            },
            "colorscale": [
             [
              0.0,
              "#0d0887"
             ],
             [
              0.1111111111111111,
              "#46039f"
             ],
             [
              0.2222222222222222,
              "#7201a8"
             ],
             [
              0.3333333333333333,
              "#9c179e"
             ],
             [
              0.4444444444444444,
              "#bd3786"
             ],
             [
              0.5555555555555556,
              "#d8576b"
             ],
             [
              0.6666666666666666,
              "#ed7953"
             ],
             [
              0.7777777777777778,
              "#fb9f3a"
             ],
             [
              0.8888888888888888,
              "#fdca26"
             ],
             [
              1.0,
              "#f0f921"
             ]
            ]
           }
          ],
          "surface": [
           {
            "type": "surface",
            "colorbar": {
             "outlinewidth": 0,
             "ticks": ""
            },
            "colorscale": [
             [
              0.0,
              "#0d0887"
             ],
             [
              0.1111111111111111,
              "#46039f"
             ],
             [
              0.2222222222222222,
              "#7201a8"
             ],
             [
              0.3333333333333333,
              "#9c179e"
             ],
             [
              0.4444444444444444,
              "#bd3786"
             ],
             [
              0.5555555555555556,
              "#d8576b"
             ],
             [
              0.6666666666666666,
              "#ed7953"
             ],
             [
              0.7777777777777778,
              "#fb9f3a"
             ],
             [
              0.8888888888888888,
              "#fdca26"
             ],
             [
              1.0,
              "#f0f921"
             ]
            ]
           }
          ],
          "mesh3d": [
           {
            "type": "mesh3d",
            "colorbar": {
             "outlinewidth": 0,
             "ticks": ""
            }
           }
          ],
          "scatter": [
           {
            "fillpattern": {
             "fillmode": "overlay",
             "size": 10,
             "solidity": 0.2
            },
            "type": "scatter"
           }
          ],
          "parcoords": [
           {
            "type": "parcoords",
            "line": {
             "colorbar": {
              "outlinewidth": 0,
              "ticks": ""
             }
            }
           }
          ],
          "scatterpolargl": [
           {
            "type": "scatterpolargl",
            "marker": {
             "colorbar": {
              "outlinewidth": 0,
              "ticks": ""
             }
            }
           }
          ],
          "bar": [
           {
            "error_x": {
             "color": "#2a3f5f"
            },
            "error_y": {
             "color": "#2a3f5f"
            },
            "marker": {
             "line": {
              "color": "#E5ECF6",
              "width": 0.5
             },
             "pattern": {
              "fillmode": "overlay",
              "size": 10,
              "solidity": 0.2
             }
            },
            "type": "bar"
           }
          ],
          "scattergeo": [
           {
            "type": "scattergeo",
            "marker": {
             "colorbar": {
              "outlinewidth": 0,
              "ticks": ""
             }
            }
           }
          ],
          "scatterpolar": [
           {
            "type": "scatterpolar",
            "marker": {
             "colorbar": {
              "outlinewidth": 0,
              "ticks": ""
             }
            }
           }
          ],
          "histogram": [
           {
            "marker": {
             "pattern": {
              "fillmode": "overlay",
              "size": 10,
              "solidity": 0.2
             }
            },
            "type": "histogram"
           }
          ],
          "scattergl": [
           {
            "type": "scattergl",
            "marker": {
             "colorbar": {
              "outlinewidth": 0,
              "ticks": ""
             }
            }
           }
          ],
          "scatter3d": [
           {
            "type": "scatter3d",
            "line": {
             "colorbar": {
              "outlinewidth": 0,
              "ticks": ""
             }
            },
            "marker": {
             "colorbar": {
              "outlinewidth": 0,
              "ticks": ""
             }
            }
           }
          ],
          "scattermapbox": [
           {
            "type": "scattermapbox",
            "marker": {
             "colorbar": {
              "outlinewidth": 0,
              "ticks": ""
             }
            }
           }
          ],
          "scatterternary": [
           {
            "type": "scatterternary",
            "marker": {
             "colorbar": {
              "outlinewidth": 0,
              "ticks": ""
             }
            }
           }
          ],
          "scattercarpet": [
           {
            "type": "scattercarpet",
            "marker": {
             "colorbar": {
              "outlinewidth": 0,
              "ticks": ""
             }
            }
           }
          ],
          "carpet": [
           {
            "aaxis": {
             "endlinecolor": "#2a3f5f",
             "gridcolor": "white",
             "linecolor": "white",
             "minorgridcolor": "white",
             "startlinecolor": "#2a3f5f"
            },
            "baxis": {
             "endlinecolor": "#2a3f5f",
             "gridcolor": "white",
             "linecolor": "white",
             "minorgridcolor": "white",
             "startlinecolor": "#2a3f5f"
            },
            "type": "carpet"
           }
          ],
          "table": [
           {
            "cells": {
             "fill": {
              "color": "#EBF0F8"
             },
             "line": {
              "color": "white"
             }
            },
            "header": {
             "fill": {
              "color": "#C8D4E3"
             },
             "line": {
              "color": "white"
             }
            },
            "type": "table"
           }
          ],
          "barpolar": [
           {
            "marker": {
             "line": {
              "color": "#E5ECF6",
              "width": 0.5
             },
             "pattern": {
              "fillmode": "overlay",
              "size": 10,
              "solidity": 0.2
             }
            },
            "type": "barpolar"
           }
          ],
          "pie": [
           {
            "automargin": true,
            "type": "pie"
           }
          ]
         },
         "layout": {
          "autotypenumbers": "strict",
          "colorway": [
           "#636efa",
           "#EF553B",
           "#00cc96",
           "#ab63fa",
           "#FFA15A",
           "#19d3f3",
           "#FF6692",
           "#B6E880",
           "#FF97FF",
           "#FECB52"
          ],
          "font": {
           "color": "#2a3f5f"
          },
          "hovermode": "closest",
          "hoverlabel": {
           "align": "left"
          },
          "paper_bgcolor": "white",
          "plot_bgcolor": "#E5ECF6",
          "polar": {
           "bgcolor": "#E5ECF6",
           "angularaxis": {
            "gridcolor": "white",
            "linecolor": "white",
            "ticks": ""
           },
           "radialaxis": {
            "gridcolor": "white",
            "linecolor": "white",
            "ticks": ""
           }
          },
          "ternary": {
           "bgcolor": "#E5ECF6",
           "aaxis": {
            "gridcolor": "white",
            "linecolor": "white",
            "ticks": ""
           },
           "baxis": {
            "gridcolor": "white",
            "linecolor": "white",
            "ticks": ""
           },
           "caxis": {
            "gridcolor": "white",
            "linecolor": "white",
            "ticks": ""
           }
          },
          "coloraxis": {
           "colorbar": {
            "outlinewidth": 0,
            "ticks": ""
           }
          },
          "colorscale": {
           "sequential": [
            [
             0.0,
             "#0d0887"
            ],
            [
             0.1111111111111111,
             "#46039f"
            ],
            [
             0.2222222222222222,
             "#7201a8"
            ],
            [
             0.3333333333333333,
             "#9c179e"
            ],
            [
             0.4444444444444444,
             "#bd3786"
            ],
            [
             0.5555555555555556,
             "#d8576b"
            ],
            [
             0.6666666666666666,
             "#ed7953"
            ],
            [
             0.7777777777777778,
             "#fb9f3a"
            ],
            [
             0.8888888888888888,
             "#fdca26"
            ],
            [
             1.0,
             "#f0f921"
            ]
           ],
           "sequentialminus": [
            [
             0.0,
             "#0d0887"
            ],
            [
             0.1111111111111111,
             "#46039f"
            ],
            [
             0.2222222222222222,
             "#7201a8"
            ],
            [
             0.3333333333333333,
             "#9c179e"
            ],
            [
             0.4444444444444444,
             "#bd3786"
            ],
            [
             0.5555555555555556,
             "#d8576b"
            ],
            [
             0.6666666666666666,
             "#ed7953"
            ],
            [
             0.7777777777777778,
             "#fb9f3a"
            ],
            [
             0.8888888888888888,
             "#fdca26"
            ],
            [
             1.0,
             "#f0f921"
            ]
           ],
           "diverging": [
            [
             0,
             "#8e0152"
            ],
            [
             0.1,
             "#c51b7d"
            ],
            [
             0.2,
             "#de77ae"
            ],
            [
             0.3,
             "#f1b6da"
            ],
            [
             0.4,
             "#fde0ef"
            ],
            [
             0.5,
             "#f7f7f7"
            ],
            [
             0.6,
             "#e6f5d0"
            ],
            [
             0.7,
             "#b8e186"
            ],
            [
             0.8,
             "#7fbc41"
            ],
            [
             0.9,
             "#4d9221"
            ],
            [
             1,
             "#276419"
            ]
           ]
          },
          "xaxis": {
           "gridcolor": "white",
           "linecolor": "white",
           "ticks": "",
           "title": {
            "standoff": 15
           },
           "zerolinecolor": "white",
           "automargin": true,
           "zerolinewidth": 2
          },
          "yaxis": {
           "gridcolor": "white",
           "linecolor": "white",
           "ticks": "",
           "title": {
            "standoff": 15
           },
           "zerolinecolor": "white",
           "automargin": true,
           "zerolinewidth": 2
          },
          "scene": {
           "xaxis": {
            "backgroundcolor": "#E5ECF6",
            "gridcolor": "white",
            "linecolor": "white",
            "showbackground": true,
            "ticks": "",
            "zerolinecolor": "white",
            "gridwidth": 2
           },
           "yaxis": {
            "backgroundcolor": "#E5ECF6",
            "gridcolor": "white",
            "linecolor": "white",
            "showbackground": true,
            "ticks": "",
            "zerolinecolor": "white",
            "gridwidth": 2
           },
           "zaxis": {
            "backgroundcolor": "#E5ECF6",
            "gridcolor": "white",
            "linecolor": "white",
            "showbackground": true,
            "ticks": "",
            "zerolinecolor": "white",
            "gridwidth": 2
           }
          },
          "shapedefaults": {
           "line": {
            "color": "#2a3f5f"
           }
          },
          "annotationdefaults": {
           "arrowcolor": "#2a3f5f",
           "arrowhead": 0,
           "arrowwidth": 1
          },
          "geo": {
           "bgcolor": "white",
           "landcolor": "#E5ECF6",
           "subunitcolor": "white",
           "showland": true,
           "showlakes": true,
           "lakecolor": "white"
          },
          "title": {
           "x": 0.05
          },
          "mapbox": {
           "style": "light"
          }
         }
        },
        "shapes": [
         {
          "line": {
           "color": "black"
          },
          "type": "rect",
          "x0": 0,
          "x1": 120,
          "y0": 0,
          "y1": 80
         },
         {
          "line": {
           "color": "black"
          },
          "type": "line",
          "x0": 60.0,
          "x1": 60.0,
          "y0": 0,
          "y1": 80
         },
         {
          "line": {
           "color": "black"
          },
          "type": "rect",
          "x0": 0,
          "x1": 18,
          "y0": 22.0,
          "y1": 58.0
         },
         {
          "line": {
           "color": "black"
          },
          "type": "rect",
          "x0": 102,
          "x1": 120,
          "y0": 22.0,
          "y1": 58.0
         },
         {
          "line": {
           "color": "black"
          },
          "type": "rect",
          "x0": 0,
          "x1": 6,
          "y0": 34.0,
          "y1": 46.0
         },
         {
          "line": {
           "color": "black"
          },
          "type": "rect",
          "x0": 114,
          "x1": 120,
          "y0": 34.0,
          "y1": 46.0
         },
         {
          "line": {
           "color": "black"
          },
          "type": "circle",
          "x0": 50.0,
          "x1": 70.0,
          "xref": "x",
          "y0": 30.0,
          "y1": 50.0,
          "yref": "y"
         },
         {
          "line": {
           "color": "black",
           "width": 4
          },
          "type": "line",
          "x0": 0,
          "x1": 0,
          "y0": 36.0,
          "y1": 44.0
         },
         {
          "line": {
           "color": "black",
           "width": 4
          },
          "type": "line",
          "x0": 120,
          "x1": 120,
          "y0": 36.0,
          "y1": 44.0
         }
        ],
        "xaxis": {
         "showgrid": false,
         "showticklabels": false,
         "zeroline": false
        },
        "yaxis": {
         "showgrid": false,
         "showticklabels": false,
         "zeroline": false
        },
        "plot_bgcolor": "green",
        "showlegend": false,
        "title": {
         "text": "Football Field with Visible Areas and Player Positions"
        }
       },
       "config": {
        "plotlyServerURL": "https://plot.ly"
       }
      },
      "text/html": "<div>                            <div id=\"0b53cd56-a6d7-42e3-8653-26130ec4a90e\" class=\"plotly-graph-div\" style=\"height:800px; width:1200px;\"></div>            <script type=\"text/javascript\">                require([\"plotly\"], function(Plotly) {                    window.PLOTLYENV=window.PLOTLYENV || {};                                    if (document.getElementById(\"0b53cd56-a6d7-42e3-8653-26130ec4a90e\")) {                    Plotly.newPlot(                        \"0b53cd56-a6d7-42e3-8653-26130ec4a90e\",                        [{\"marker\":{\"color\":\"black\",\"size\":8},\"mode\":\"markers\",\"x\":[60.0],\"y\":[40.0],\"type\":\"scatter\"},{\"marker\":{\"color\":\"black\",\"size\":8},\"mode\":\"markers\",\"x\":[12,108],\"y\":[40.0,40.0],\"type\":\"scatter\"},{\"fill\":\"toself\",\"line\":{\"color\":\"blue\"},\"mode\":\"lines\",\"x\":[42.4826243227372,52.4096222273656,81.5633857505816,82.6588557465032,120.0,120.0,42.4826243227372,42.4826243227372],\"y\":[80.0,6.08106651441811,0.0,0.0,75.0117592993792,80.0,80.0,80.0],\"type\":\"scatter\"},{\"marker\":{\"color\":\"turquoise\",\"size\":10},\"mode\":\"markers\",\"name\":\"Teammates\",\"x\":[48.64288599306127,51.601671394790614,52.27638900157763,63.41649899654128,65.20883122176173,68.5,69.39286307844122,76.53275419251366,82.2607047499852,83.6371441455166],\"y\":[61.54813787686612,38.72910434851734,70.22214030914327,53.327876191738284,19.202262703837704,70.9000015258789,80.62103247220175,35.29807942189451,57.47094285811693,8.798364091998224],\"type\":\"scatter\"},{\"marker\":{\"color\":\"red\",\"size\":10},\"mode\":\"markers\",\"name\":\"Opponents\",\"x\":[58.47991046851711,62.96887295247582,66.68859809925303,67.4093679158536,69.46605053859369,72.22244383880434,78.96096162702563,83.67085984373341,84.07453484653321,84.86854883317062],\"y\":[53.14004969304885,72.94867723130824,58.75424794063082,73.9512315891157,69.36054909048619,29.795606228651984,44.38914067464506,44.40856384624505,28.07063765996797,57.79605694547183],\"type\":\"scatter\"}],                        {\"height\":800,\"width\":1200,\"template\":{\"data\":{\"histogram2dcontour\":[{\"type\":\"histogram2dcontour\",\"colorbar\":{\"outlinewidth\":0,\"ticks\":\"\"},\"colorscale\":[[0.0,\"#0d0887\"],[0.1111111111111111,\"#46039f\"],[0.2222222222222222,\"#7201a8\"],[0.3333333333333333,\"#9c179e\"],[0.4444444444444444,\"#bd3786\"],[0.5555555555555556,\"#d8576b\"],[0.6666666666666666,\"#ed7953\"],[0.7777777777777778,\"#fb9f3a\"],[0.8888888888888888,\"#fdca26\"],[1.0,\"#f0f921\"]]}],\"choropleth\":[{\"type\":\"choropleth\",\"colorbar\":{\"outlinewidth\":0,\"ticks\":\"\"}}],\"histogram2d\":[{\"type\":\"histogram2d\",\"colorbar\":{\"outlinewidth\":0,\"ticks\":\"\"},\"colorscale\":[[0.0,\"#0d0887\"],[0.1111111111111111,\"#46039f\"],[0.2222222222222222,\"#7201a8\"],[0.3333333333333333,\"#9c179e\"],[0.4444444444444444,\"#bd3786\"],[0.5555555555555556,\"#d8576b\"],[0.6666666666666666,\"#ed7953\"],[0.7777777777777778,\"#fb9f3a\"],[0.8888888888888888,\"#fdca26\"],[1.0,\"#f0f921\"]]}],\"heatmap\":[{\"type\":\"heatmap\",\"colorbar\":{\"outlinewidth\":0,\"ticks\":\"\"},\"colorscale\":[[0.0,\"#0d0887\"],[0.1111111111111111,\"#46039f\"],[0.2222222222222222,\"#7201a8\"],[0.3333333333333333,\"#9c179e\"],[0.4444444444444444,\"#bd3786\"],[0.5555555555555556,\"#d8576b\"],[0.6666666666666666,\"#ed7953\"],[0.7777777777777778,\"#fb9f3a\"],[0.8888888888888888,\"#fdca26\"],[1.0,\"#f0f921\"]]}],\"heatmapgl\":[{\"type\":\"heatmapgl\",\"colorbar\":{\"outlinewidth\":0,\"ticks\":\"\"},\"colorscale\":[[0.0,\"#0d0887\"],[0.1111111111111111,\"#46039f\"],[0.2222222222222222,\"#7201a8\"],[0.3333333333333333,\"#9c179e\"],[0.4444444444444444,\"#bd3786\"],[0.5555555555555556,\"#d8576b\"],[0.6666666666666666,\"#ed7953\"],[0.7777777777777778,\"#fb9f3a\"],[0.8888888888888888,\"#fdca26\"],[1.0,\"#f0f921\"]]}],\"contourcarpet\":[{\"type\":\"contourcarpet\",\"colorbar\":{\"outlinewidth\":0,\"ticks\":\"\"}}],\"contour\":[{\"type\":\"contour\",\"colorbar\":{\"outlinewidth\":0,\"ticks\":\"\"},\"colorscale\":[[0.0,\"#0d0887\"],[0.1111111111111111,\"#46039f\"],[0.2222222222222222,\"#7201a8\"],[0.3333333333333333,\"#9c179e\"],[0.4444444444444444,\"#bd3786\"],[0.5555555555555556,\"#d8576b\"],[0.6666666666666666,\"#ed7953\"],[0.7777777777777778,\"#fb9f3a\"],[0.8888888888888888,\"#fdca26\"],[1.0,\"#f0f921\"]]}],\"surface\":[{\"type\":\"surface\",\"colorbar\":{\"outlinewidth\":0,\"ticks\":\"\"},\"colorscale\":[[0.0,\"#0d0887\"],[0.1111111111111111,\"#46039f\"],[0.2222222222222222,\"#7201a8\"],[0.3333333333333333,\"#9c179e\"],[0.4444444444444444,\"#bd3786\"],[0.5555555555555556,\"#d8576b\"],[0.6666666666666666,\"#ed7953\"],[0.7777777777777778,\"#fb9f3a\"],[0.8888888888888888,\"#fdca26\"],[1.0,\"#f0f921\"]]}],\"mesh3d\":[{\"type\":\"mesh3d\",\"colorbar\":{\"outlinewidth\":0,\"ticks\":\"\"}}],\"scatter\":[{\"fillpattern\":{\"fillmode\":\"overlay\",\"size\":10,\"solidity\":0.2},\"type\":\"scatter\"}],\"parcoords\":[{\"type\":\"parcoords\",\"line\":{\"colorbar\":{\"outlinewidth\":0,\"ticks\":\"\"}}}],\"scatterpolargl\":[{\"type\":\"scatterpolargl\",\"marker\":{\"colorbar\":{\"outlinewidth\":0,\"ticks\":\"\"}}}],\"bar\":[{\"error_x\":{\"color\":\"#2a3f5f\"},\"error_y\":{\"color\":\"#2a3f5f\"},\"marker\":{\"line\":{\"color\":\"#E5ECF6\",\"width\":0.5},\"pattern\":{\"fillmode\":\"overlay\",\"size\":10,\"solidity\":0.2}},\"type\":\"bar\"}],\"scattergeo\":[{\"type\":\"scattergeo\",\"marker\":{\"colorbar\":{\"outlinewidth\":0,\"ticks\":\"\"}}}],\"scatterpolar\":[{\"type\":\"scatterpolar\",\"marker\":{\"colorbar\":{\"outlinewidth\":0,\"ticks\":\"\"}}}],\"histogram\":[{\"marker\":{\"pattern\":{\"fillmode\":\"overlay\",\"size\":10,\"solidity\":0.2}},\"type\":\"histogram\"}],\"scattergl\":[{\"type\":\"scattergl\",\"marker\":{\"colorbar\":{\"outlinewidth\":0,\"ticks\":\"\"}}}],\"scatter3d\":[{\"type\":\"scatter3d\",\"line\":{\"colorbar\":{\"outlinewidth\":0,\"ticks\":\"\"}},\"marker\":{\"colorbar\":{\"outlinewidth\":0,\"ticks\":\"\"}}}],\"scattermapbox\":[{\"type\":\"scattermapbox\",\"marker\":{\"colorbar\":{\"outlinewidth\":0,\"ticks\":\"\"}}}],\"scatterternary\":[{\"type\":\"scatterternary\",\"marker\":{\"colorbar\":{\"outlinewidth\":0,\"ticks\":\"\"}}}],\"scattercarpet\":[{\"type\":\"scattercarpet\",\"marker\":{\"colorbar\":{\"outlinewidth\":0,\"ticks\":\"\"}}}],\"carpet\":[{\"aaxis\":{\"endlinecolor\":\"#2a3f5f\",\"gridcolor\":\"white\",\"linecolor\":\"white\",\"minorgridcolor\":\"white\",\"startlinecolor\":\"#2a3f5f\"},\"baxis\":{\"endlinecolor\":\"#2a3f5f\",\"gridcolor\":\"white\",\"linecolor\":\"white\",\"minorgridcolor\":\"white\",\"startlinecolor\":\"#2a3f5f\"},\"type\":\"carpet\"}],\"table\":[{\"cells\":{\"fill\":{\"color\":\"#EBF0F8\"},\"line\":{\"color\":\"white\"}},\"header\":{\"fill\":{\"color\":\"#C8D4E3\"},\"line\":{\"color\":\"white\"}},\"type\":\"table\"}],\"barpolar\":[{\"marker\":{\"line\":{\"color\":\"#E5ECF6\",\"width\":0.5},\"pattern\":{\"fillmode\":\"overlay\",\"size\":10,\"solidity\":0.2}},\"type\":\"barpolar\"}],\"pie\":[{\"automargin\":true,\"type\":\"pie\"}]},\"layout\":{\"autotypenumbers\":\"strict\",\"colorway\":[\"#636efa\",\"#EF553B\",\"#00cc96\",\"#ab63fa\",\"#FFA15A\",\"#19d3f3\",\"#FF6692\",\"#B6E880\",\"#FF97FF\",\"#FECB52\"],\"font\":{\"color\":\"#2a3f5f\"},\"hovermode\":\"closest\",\"hoverlabel\":{\"align\":\"left\"},\"paper_bgcolor\":\"white\",\"plot_bgcolor\":\"#E5ECF6\",\"polar\":{\"bgcolor\":\"#E5ECF6\",\"angularaxis\":{\"gridcolor\":\"white\",\"linecolor\":\"white\",\"ticks\":\"\"},\"radialaxis\":{\"gridcolor\":\"white\",\"linecolor\":\"white\",\"ticks\":\"\"}},\"ternary\":{\"bgcolor\":\"#E5ECF6\",\"aaxis\":{\"gridcolor\":\"white\",\"linecolor\":\"white\",\"ticks\":\"\"},\"baxis\":{\"gridcolor\":\"white\",\"linecolor\":\"white\",\"ticks\":\"\"},\"caxis\":{\"gridcolor\":\"white\",\"linecolor\":\"white\",\"ticks\":\"\"}},\"coloraxis\":{\"colorbar\":{\"outlinewidth\":0,\"ticks\":\"\"}},\"colorscale\":{\"sequential\":[[0.0,\"#0d0887\"],[0.1111111111111111,\"#46039f\"],[0.2222222222222222,\"#7201a8\"],[0.3333333333333333,\"#9c179e\"],[0.4444444444444444,\"#bd3786\"],[0.5555555555555556,\"#d8576b\"],[0.6666666666666666,\"#ed7953\"],[0.7777777777777778,\"#fb9f3a\"],[0.8888888888888888,\"#fdca26\"],[1.0,\"#f0f921\"]],\"sequentialminus\":[[0.0,\"#0d0887\"],[0.1111111111111111,\"#46039f\"],[0.2222222222222222,\"#7201a8\"],[0.3333333333333333,\"#9c179e\"],[0.4444444444444444,\"#bd3786\"],[0.5555555555555556,\"#d8576b\"],[0.6666666666666666,\"#ed7953\"],[0.7777777777777778,\"#fb9f3a\"],[0.8888888888888888,\"#fdca26\"],[1.0,\"#f0f921\"]],\"diverging\":[[0,\"#8e0152\"],[0.1,\"#c51b7d\"],[0.2,\"#de77ae\"],[0.3,\"#f1b6da\"],[0.4,\"#fde0ef\"],[0.5,\"#f7f7f7\"],[0.6,\"#e6f5d0\"],[0.7,\"#b8e186\"],[0.8,\"#7fbc41\"],[0.9,\"#4d9221\"],[1,\"#276419\"]]},\"xaxis\":{\"gridcolor\":\"white\",\"linecolor\":\"white\",\"ticks\":\"\",\"title\":{\"standoff\":15},\"zerolinecolor\":\"white\",\"automargin\":true,\"zerolinewidth\":2},\"yaxis\":{\"gridcolor\":\"white\",\"linecolor\":\"white\",\"ticks\":\"\",\"title\":{\"standoff\":15},\"zerolinecolor\":\"white\",\"automargin\":true,\"zerolinewidth\":2},\"scene\":{\"xaxis\":{\"backgroundcolor\":\"#E5ECF6\",\"gridcolor\":\"white\",\"linecolor\":\"white\",\"showbackground\":true,\"ticks\":\"\",\"zerolinecolor\":\"white\",\"gridwidth\":2},\"yaxis\":{\"backgroundcolor\":\"#E5ECF6\",\"gridcolor\":\"white\",\"linecolor\":\"white\",\"showbackground\":true,\"ticks\":\"\",\"zerolinecolor\":\"white\",\"gridwidth\":2},\"zaxis\":{\"backgroundcolor\":\"#E5ECF6\",\"gridcolor\":\"white\",\"linecolor\":\"white\",\"showbackground\":true,\"ticks\":\"\",\"zerolinecolor\":\"white\",\"gridwidth\":2}},\"shapedefaults\":{\"line\":{\"color\":\"#2a3f5f\"}},\"annotationdefaults\":{\"arrowcolor\":\"#2a3f5f\",\"arrowhead\":0,\"arrowwidth\":1},\"geo\":{\"bgcolor\":\"white\",\"landcolor\":\"#E5ECF6\",\"subunitcolor\":\"white\",\"showland\":true,\"showlakes\":true,\"lakecolor\":\"white\"},\"title\":{\"x\":0.05},\"mapbox\":{\"style\":\"light\"}}},\"shapes\":[{\"line\":{\"color\":\"black\"},\"type\":\"rect\",\"x0\":0,\"x1\":120,\"y0\":0,\"y1\":80},{\"line\":{\"color\":\"black\"},\"type\":\"line\",\"x0\":60.0,\"x1\":60.0,\"y0\":0,\"y1\":80},{\"line\":{\"color\":\"black\"},\"type\":\"rect\",\"x0\":0,\"x1\":18,\"y0\":22.0,\"y1\":58.0},{\"line\":{\"color\":\"black\"},\"type\":\"rect\",\"x0\":102,\"x1\":120,\"y0\":22.0,\"y1\":58.0},{\"line\":{\"color\":\"black\"},\"type\":\"rect\",\"x0\":0,\"x1\":6,\"y0\":34.0,\"y1\":46.0},{\"line\":{\"color\":\"black\"},\"type\":\"rect\",\"x0\":114,\"x1\":120,\"y0\":34.0,\"y1\":46.0},{\"line\":{\"color\":\"black\"},\"type\":\"circle\",\"x0\":50.0,\"x1\":70.0,\"xref\":\"x\",\"y0\":30.0,\"y1\":50.0,\"yref\":\"y\"},{\"line\":{\"color\":\"black\",\"width\":4},\"type\":\"line\",\"x0\":0,\"x1\":0,\"y0\":36.0,\"y1\":44.0},{\"line\":{\"color\":\"black\",\"width\":4},\"type\":\"line\",\"x0\":120,\"x1\":120,\"y0\":36.0,\"y1\":44.0}],\"xaxis\":{\"showgrid\":false,\"showticklabels\":false,\"zeroline\":false},\"yaxis\":{\"showgrid\":false,\"showticklabels\":false,\"zeroline\":false},\"plot_bgcolor\":\"green\",\"showlegend\":false,\"title\":{\"text\":\"Football Field with Visible Areas and Player Positions\"}},                        {\"responsive\": true}                    ).then(function(){\n                            \nvar gd = document.getElementById('0b53cd56-a6d7-42e3-8653-26130ec4a90e');\nvar x = new MutationObserver(function (mutations, observer) {{\n        var display = window.getComputedStyle(gd).display;\n        if (!display || display === 'none') {{\n            console.log([gd, 'removed!']);\n            Plotly.purge(gd);\n            observer.disconnect();\n        }}\n}});\n\n// Listen for the removal of the full notebook cells\nvar notebookContainer = gd.closest('#notebook-container');\nif (notebookContainer) {{\n    x.observe(notebookContainer, {childList: true});\n}}\n\n// Listen for the clearing of the current output cell\nvar outputEl = gd.closest('.output');\nif (outputEl) {{\n    x.observe(outputEl, {childList: true});\n}}\n\n                        })                };                });            </script>        </div>"
     },
     "metadata": {},
     "output_type": "display_data"
    }
   ],
   "source": [
    "# Here, we want to see one example of frame displayed on the field already implemented in the eda_functions.py \n",
    "# Extract a random sample (improve speed of load instead of grouping all sample)\n",
    "random_sample_df = three_sixty_df.sample(withReplacement=False, fraction=0.01, seed=random.randint(0, 100)).limit(1)\n",
    "\n",
    "# Extract player positions and teammate status from the random sample\n",
    "player_positions_df = random_sample_df.select(explode(col(\"freeze_frame\")).alias(\"player\"))\n",
    "positions_df = player_positions_df.select(\n",
    "    col(\"player.location\").alias(\"location\"),\n",
    "    col(\"player.teammate\").alias(\"teammate\")\n",
    ")\n",
    "\n",
    "# Collect the data\n",
    "positions_list = positions_df.collect()\n",
    "\n",
    "# Separate the coordinates and teammate status\n",
    "x_teammates = [pos.location[0] for pos in positions_list if pos.teammate]\n",
    "y_teammates = [pos.location[1] for pos in positions_list if pos.teammate]\n",
    "x_opponents = [pos.location[0] for pos in positions_list if not pos.teammate]\n",
    "y_opponents = [pos.location[1] for pos in positions_list if not pos.teammate]\n",
    "\n",
    "# Extract visible_area from the random sample\n",
    "visible_areas_list = random_sample_df.select(\"visible_area\").collect()\n",
    "\n",
    "# Convert to a list of lists of coordinates\n",
    "visible_areas = [row['visible_area'] for row in visible_areas_list]\n",
    "\n",
    "\n",
    "# Create the football field plot\n",
    "fig = create_football_field_plotly()\n",
    "\n",
    "# Plot visible area\n",
    "for area in visible_areas:\n",
    "    x_coords = area[0::2]  # Take every second element starting from index 0\n",
    "    y_coords = area[1::2]  # Take every second element starting from index 1\n",
    "    \n",
    "    # Add the first point again to close the polygon\n",
    "    x_coords.append(x_coords[0])\n",
    "    y_coords.append(y_coords[0])\n",
    "\n",
    "fig.add_trace(go.Scatter(x=x_coords, y=y_coords, fill='toself', mode='lines', line=dict(color='blue')))\n",
    "\n",
    "# Plot player positions\n",
    "fig.add_trace(go.Scatter(x=x_teammates, y=y_teammates, mode='markers', marker=dict(color='turquoise', size=10), name='Teammates'))\n",
    "fig.add_trace(go.Scatter(x=x_opponents, y=y_opponents, mode='markers', marker=dict(color='red', size=10), name='Opponents'))\n",
    "\n",
    "# Update layout and show plot\n",
    "fig.update_layout(title='Football Field with Visible Areas and Player Positions')\n",
    "fig.show()"
   ]
  },
  {
   "cell_type": "code",
   "outputs": [],
   "source": [],
   "metadata": {
    "collapsed": false
   },
   "id": "ef131036697729b2"
  }
 ],
 "metadata": {
  "kernelspec": {
   "display_name": "Python 3 (ipykernel)",
   "language": "python",
   "name": "python3"
  },
  "language_info": {
   "codemirror_mode": {
    "name": "ipython",
    "version": 3
   },
   "file_extension": ".py",
   "mimetype": "text/x-python",
   "name": "python",
   "nbconvert_exporter": "python",
   "pygments_lexer": "ipython3",
   "version": "3.8.19"
  }
 },
 "nbformat": 4,
 "nbformat_minor": 5
}
